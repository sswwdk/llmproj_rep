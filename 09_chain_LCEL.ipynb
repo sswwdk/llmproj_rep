{
 "cells": [
  {
   "cell_type": "markdown",
   "id": "ffb0295b",
   "metadata": {},
   "source": [
    "LCEL LangChainExpressionLanguage   \n",
    "프롬프트 > LLM input > chain input > output > prompt   \n",
    "   \n",
    "Runnable 인터페이스 > 랭체인 구현하고 있다.   "
   ]
  },
  {
   "cell_type": "markdown",
   "id": "7407843d",
   "metadata": {},
   "source": [
    "# Sequential Chain"
   ]
  },
  {
   "cell_type": "code",
   "execution_count": 2,
   "id": "a50a9373",
   "metadata": {},
   "outputs": [
    {
     "data": {
      "text/plain": [
       "ChatOpenAI(client=<openai.resources.chat.completions.completions.Completions object at 0x00000210E6258F20>, async_client=<openai.resources.chat.completions.completions.AsyncCompletions object at 0x00000210E7A563C0>, root_client=<openai.OpenAI object at 0x00000210E62A4950>, root_async_client=<openai.AsyncOpenAI object at 0x00000210E769C5F0>, model_name='gpt-4o-mini', model_kwargs={}, openai_api_key=SecretStr('**********'))"
      ]
     },
     "execution_count": 2,
     "metadata": {},
     "output_type": "execute_result"
    }
   ],
   "source": [
    "from langchain_openai import ChatOpenAI\n",
    "llm = ChatOpenAI(model='gpt-4o-mini')\n",
    "llm"
   ]
  },
  {
   "cell_type": "code",
   "execution_count": 6,
   "id": "7ed42788",
   "metadata": {},
   "outputs": [
    {
     "data": {
      "text/plain": [
       "LLMChain(verbose=False, prompt=PromptTemplate(input_variables=['city'], input_types={}, partial_variables={}, template='{city}의 랜드마크는 어디인가요?'), llm=ChatOpenAI(client=<openai.resources.chat.completions.completions.Completions object at 0x00000210E6258F20>, async_client=<openai.resources.chat.completions.completions.AsyncCompletions object at 0x00000210E7A563C0>, root_client=<openai.OpenAI object at 0x00000210E62A4950>, root_async_client=<openai.AsyncOpenAI object at 0x00000210E769C5F0>, model_name='gpt-4o-mini', model_kwargs={}, openai_api_key=SecretStr('**********')), output_parser=StrOutputParser(), llm_kwargs={})"
      ]
     },
     "execution_count": 6,
     "metadata": {},
     "output_type": "execute_result"
    }
   ],
   "source": [
    "from langchain.prompts import PromptTemplate\n",
    "from langchain.chains import LLMChain\n",
    "\n",
    "template = PromptTemplate.from_template(\"{city}의 랜드마크는 어디인가요?\")\n",
    "chain = LLMChain(llm=llm, prompt=template)\n",
    "chain"
   ]
  },
  {
   "cell_type": "code",
   "execution_count": 7,
   "id": "0319b560",
   "metadata": {},
   "outputs": [
    {
     "data": {
      "text/plain": [
       "{'city': '파리',\n",
       " 'text': '파리에는 여러 유명한 랜드마크가 있습니다. 대표적인 것들은 다음과 같습니다:\\n\\n1. **에펠탑 (Tour Eiffel)** - 파리의 상징적인 구조물로, 1889년에 완공되었습니다.\\n2. **루브르 박물관 (Musée du Louvre)** - 세계에서 가장 큰 미술관 중 하나로, 모나리자와 같은 유명한 작품들이 전시되어 있습니다.\\n3. **샤들리제 거리 (Champs-Élysées)** - 고급 상점과 카페가 즐비한 유명한 거리로, 개선문(Arc de Triomphe)으로 이어집니다.\\n4. **노틀담 대성당 (Cathédrale Notre-Dame de Paris)** - 고딕 건축의 걸작으로, 현재 복구 작업이 진행 중입니다.\\n5. **몽마르트르 (Montmartre)** - 예술가들이 많이 활동했던 지역으로, 사크레쾨르 대성당(Sacré-Cœur Basilica)이 위치해 있습니다.\\n6. **퐁피두 센터 (Centre Pompidou)** - 현대 미술과 문화 공간으로, 독특한 건축으로 유명합니다.\\n\\n이 외에도 파리에는 매력적인 장소가 많습니다!'}"
      ]
     },
     "execution_count": 7,
     "metadata": {},
     "output_type": "execute_result"
    }
   ],
   "source": [
    "chain.invoke({'city': '파리'})"
   ]
  },
  {
   "cell_type": "code",
   "execution_count": null,
   "id": "8d31fcad",
   "metadata": {},
   "outputs": [],
   "source": []
  },
  {
   "cell_type": "markdown",
   "id": "e3b77a89",
   "metadata": {},
   "source": [
    "# LCEL 파이프라인 구성"
   ]
  },
  {
   "cell_type": "code",
   "execution_count": 8,
   "id": "05032bf8",
   "metadata": {},
   "outputs": [
    {
     "data": {
      "text/plain": [
       "PromptTemplate(input_variables=['city'], input_types={}, partial_variables={}, template='{city}의 랜드마크는 어디인가요?')\n",
       "| ChatOpenAI(client=<openai.resources.chat.completions.completions.Completions object at 0x00000210E6258F20>, async_client=<openai.resources.chat.completions.completions.AsyncCompletions object at 0x00000210E7A563C0>, root_client=<openai.OpenAI object at 0x00000210E62A4950>, root_async_client=<openai.AsyncOpenAI object at 0x00000210E769C5F0>, model_name='gpt-4o-mini', model_kwargs={}, openai_api_key=SecretStr('**********'))"
      ]
     },
     "execution_count": 8,
     "metadata": {},
     "output_type": "execute_result"
    }
   ],
   "source": [
    "chain_lcel = template | llm\n",
    "chain_lcel"
   ]
  },
  {
   "cell_type": "code",
   "execution_count": 9,
   "id": "59b7290c",
   "metadata": {},
   "outputs": [
    {
     "data": {
      "text/plain": [
       "AIMessage(content=\"파리에는 많은 유명한 랜드마크가 있습니다. 그 중 몇 가지를 소개하자면:\\n\\n1. **에펠탑 (Tour Eiffel)** - 파리의 상징이며, 1889년에 완공되었습니다.\\n2. **루브르 박물관 (Musée du Louvre)** - 세계에서 가장 큰 미술관 중 하나로, 모나리자와 같은 많은 명작이 소장되어 있습니다.\\n3. **샹젤리제 거리 (Champs-Élysées)** - 파리에서 가장 유명한 거리로, 다양한 상점과 카페가 위치해 있습니다.\\n4. **노트르담 대성당 (Cathédrale Notre-Dame de Paris)** - 고딕 양식의 대표적인 대성당으로, 아름다운 건축물과 스테인드글라스로 유명합니다.\\n5. **몽마르트르 언덕 (Montmartre)** - 올드 파리의 분위기를 느낄 수 있는 지역으로, 사크레쾨르 대성당이 위치해 있습니다.\\n6. **오르세이 미술관 (Musée d'Orsay)** - 인상파와 후기 인상파 작품이 많은 미술관입니다.\\n7. **개선문 (Arc de Triomphe)** - 나폴레옹의 군사적 업적을 기리기 위해 세운 기념물입니다.\\n\\n이 외에도 파리에는 많은 아름다운 장소와 랜드마크가 있습니다. 여행을 하실 때 꼭 방문해 보세요!\", additional_kwargs={'refusal': None}, response_metadata={'token_usage': {'completion_tokens': 329, 'prompt_tokens': 19, 'total_tokens': 348, 'completion_tokens_details': {'accepted_prediction_tokens': 0, 'audio_tokens': 0, 'reasoning_tokens': 0, 'rejected_prediction_tokens': 0}, 'prompt_tokens_details': {'audio_tokens': 0, 'cached_tokens': 0}}, 'model_name': 'gpt-4o-mini-2024-07-18', 'system_fingerprint': 'fp_8bda4d3a2c', 'id': 'chatcmpl-CDMysLUcqI79dQw1G3cZlYrfMwYMj', 'service_tier': 'default', 'finish_reason': 'stop', 'logprobs': None}, id='run--279dd323-b4b3-4574-971d-38ac1416f4f5-0', usage_metadata={'input_tokens': 19, 'output_tokens': 329, 'total_tokens': 348, 'input_token_details': {'audio': 0, 'cache_read': 0}, 'output_token_details': {'audio': 0, 'reasoning': 0}})"
      ]
     },
     "execution_count": 9,
     "metadata": {},
     "output_type": "execute_result"
    }
   ],
   "source": [
    "chain_lcel.invoke({'city': '파리'})"
   ]
  },
  {
   "cell_type": "markdown",
   "id": "6c20a1d5",
   "metadata": {},
   "source": [
    "# Sequential chain 의 구성"
   ]
  },
  {
   "cell_type": "code",
   "execution_count": 13,
   "id": "fab71d36",
   "metadata": {},
   "outputs": [
    {
     "data": {
      "text/plain": [
       "SequentialChain(verbose=False, chains=[LLMChain(verbose=True, prompt=PromptTemplate(input_variables=['city'], input_types={}, partial_variables={}, template='{city}의 랜드마크 1개만 알려주세요. 설명은 필요없고 이름만 1개 알려주세요.'), llm=ChatOpenAI(client=<openai.resources.chat.completions.completions.Completions object at 0x00000210E6258F20>, async_client=<openai.resources.chat.completions.completions.AsyncCompletions object at 0x00000210E7A563C0>, root_client=<openai.OpenAI object at 0x00000210E62A4950>, root_async_client=<openai.AsyncOpenAI object at 0x00000210E769C5F0>, model_name='gpt-4o-mini', model_kwargs={}, openai_api_key=SecretStr('**********')), output_key='landmark', output_parser=StrOutputParser(), llm_kwargs={}), LLMChain(verbose=False, prompt=PromptTemplate(input_variables=['landmark', 'transport'], input_types={}, partial_variables={}, template='{landmark}에 {transport}로 가는 방법이 무엇인가요'), llm=ChatOpenAI(client=<openai.resources.chat.completions.completions.Completions object at 0x00000210E6258F20>, async_client=<openai.resources.chat.completions.completions.AsyncCompletions object at 0x00000210E7A563C0>, root_client=<openai.OpenAI object at 0x00000210E62A4950>, root_async_client=<openai.AsyncOpenAI object at 0x00000210E769C5F0>, model_name='gpt-4o-mini', model_kwargs={}, openai_api_key=SecretStr('**********')), output_parser=StrOutputParser(), llm_kwargs={})], input_variables=['city', 'transport'], output_variables=['text'])"
      ]
     },
     "execution_count": 13,
     "metadata": {},
     "output_type": "execute_result"
    }
   ],
   "source": [
    "from langchain.chains import SequentialChain\n",
    "\n",
    "prompt1 = PromptTemplate.from_template('{city}의 랜드마크 1개만 알려주세요. 설명은 필요없고 이름만 1개 알려주세요.')\n",
    "prompt2 = PromptTemplate.from_template('{landmark}에 {transport}로 가는 방법이 무엇인가요')\n",
    "\n",
    "chain1 = LLMChain(llm=llm, prompt=prompt1, output_key='landmark', verbose=True)\n",
    "chain2 = LLMChain(llm=llm, prompt=prompt2)\n",
    "seq_chain = SequentialChain(chains=[chain1, chain2], input_variables=['city', 'transport'])\n",
    "seq_chain"
   ]
  },
  {
   "cell_type": "code",
   "execution_count": 14,
   "id": "2ba82660",
   "metadata": {},
   "outputs": [
    {
     "name": "stdout",
     "output_type": "stream",
     "text": [
      "\n",
      "\n",
      "\u001b[1m> Entering new LLMChain chain...\u001b[0m\n",
      "Prompt after formatting:\n",
      "\u001b[32;1m\u001b[1;3mseoul의 랜드마크 1개만 알려주세요. 설명은 필요없고 이름만 1개 알려주세요.\u001b[0m\n",
      "\n",
      "\u001b[1m> Finished chain.\u001b[0m\n"
     ]
    },
    {
     "data": {
      "text/plain": [
       "{'city': 'seoul',\n",
       " 'transport': '지하철',\n",
       " 'text': '남산서울타워에 지하철로 가는 방법은 다음과 같습니다:\\n\\n1. **지하철을 이용하여 이동**:\\n   - **4호선**을 타고 **명동역**에서 하차합니다. (1번 출구로 나갈 수 있음)\\n   - 명동역 1번 출구로 나와서 약 10분 정도 도보로 이동하면 **남산다운타운**(Namsan Bus Terminal) 버스 정류장이 있습니다.\\n\\n2. **셔틀버스 이용**:\\n   - 남산으로 가는 셔틀버스를 타면 남산 서울타워까지 쉽게 이동할 수 있습니다. 셔틀버스의 운행 시간은 정해져 있으니 미리 확인하는 것이 좋습니다.\\n\\n3. **도보로 이동**:\\n   - 직접 남산을 걸어 올라가기도 좋습니다. 도보로 올라가는 길이 몇 군데 있으며, 특히 남산 공원의 경치도 감상할 수 있습니다.\\n\\n남산서울타워까지 가는 방법에 대한 추가 정보나 확인하고 싶은 것이 있다면 말씀해 주세요!'}"
      ]
     },
     "execution_count": 14,
     "metadata": {},
     "output_type": "execute_result"
    }
   ],
   "source": [
    "seq_chain.invoke({'city':'seoul', 'transport': '지하철'})"
   ]
  },
  {
   "cell_type": "code",
   "execution_count": null,
   "id": "514f758a",
   "metadata": {},
   "outputs": [],
   "source": []
  }
 ],
 "metadata": {
  "kernelspec": {
   "display_name": "prompting_env",
   "language": "python",
   "name": "python3"
  },
  "language_info": {
   "codemirror_mode": {
    "name": "ipython",
    "version": 3
   },
   "file_extension": ".py",
   "mimetype": "text/x-python",
   "name": "python",
   "nbconvert_exporter": "python",
   "pygments_lexer": "ipython3",
   "version": "3.12.11"
  }
 },
 "nbformat": 4,
 "nbformat_minor": 5
}
