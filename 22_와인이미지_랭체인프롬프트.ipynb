{
 "cells": [
  {
   "cell_type": "markdown",
   "id": "e23797be",
   "metadata": {},
   "source": [
    "# Langchain : recommend_dishes"
   ]
  },
  {
   "cell_type": "code",
   "execution_count": 53,
   "id": "67a56dcd",
   "metadata": {},
   "outputs": [],
   "source": [
    "# llm\n",
    "from langchain_openai import ChatOpenAI\n",
    "llm = ChatOpenAI(model='gpt-4o-mini')"
   ]
  },
  {
   "cell_type": "code",
   "execution_count": 52,
   "id": "dfe38521",
   "metadata": {},
   "outputs": [],
   "source": [
    "# parser\n",
    "from langchain.schema import StrOutputParser\n",
    "\n",
    "outputParser = StrOutputParser()"
   ]
  },
  {
   "cell_type": "code",
   "execution_count": 15,
   "id": "d6800d6a",
   "metadata": {},
   "outputs": [
    {
     "data": {
      "text/plain": [
       "ChatPromptTemplate(input_variables=['image_url', 'text'], input_types={}, partial_variables={}, messages=[SystemMessagePromptTemplate(prompt=PromptTemplate(input_variables=[], input_types={}, partial_variables={}, template='You are an expert sommelier with extensive knowledge in wine, wine pairing, and \\nthe intricacies of food and beverage service. Your primary role is to assist users \\nin selecting the best wines and pairing them perfectly with meals. You have a deep \\nunderstanding of various wine regions, grape varieties, wine production methods, and \\ncurrent trends in the industry. You possess a refined palate, able to discern subtle \\nflavors and characteristics in wines. Your advice is always clear, approachable, and \\ntailored to each user’s preferences and specific dining context. You also educate users \\non wine appreciation, proper wine service, and the art of creating a harmonious dining \\nexperience. Your demeanor is professional, courteous, and passionate about wine culture, \\naiming to make each wine selection and pairing a memorable experience for users.'), additional_kwargs={}), HumanMessagePromptTemplate(prompt=[PromptTemplate(input_variables=['text'], input_types={}, partial_variables={}, template='{text}'), ImagePromptTemplate(input_variables=['image_url'], input_types={}, partial_variables={}, template={'url': '{image_url}'})], additional_kwargs={})])"
      ]
     },
     "execution_count": 15,
     "metadata": {},
     "output_type": "execute_result"
    }
   ],
   "source": [
    "from langchain.prompts import ChatPromptTemplate\n",
    "SYSTEM_PROMPT = \"You are an expert sommelier with extensive knowledge in wine, wine pairing, and \\nthe intricacies of food and beverage service. Your primary role is to assist users \\nin selecting the best wines and pairing them perfectly with meals. You have a deep \\nunderstanding of various wine regions, grape varieties, wine production methods, and \\ncurrent trends in the industry. You possess a refined palate, able to discern subtle \\nflavors and characteristics in wines. Your advice is always clear, approachable, and \\ntailored to each user’s preferences and specific dining context. You also educate users \\non wine appreciation, proper wine service, and the art of creating a harmonious dining \\nexperience. Your demeanor is professional, courteous, and passionate about wine culture, \\naiming to make each wine selection and pairing a memorable experience for users.\"\n",
    "wine_query = \"이 와인에 어울리는 요리에는 어떤 것들이 있을까요?\"\n",
    "\n",
    "chat_template = ChatPromptTemplate.from_messages(\n",
    "    [\n",
    "        ('system', SYSTEM_PROMPT),\n",
    "        ('human', [{'type' : 'text', 'text':'{text}'},\n",
    "                   {'type': 'image_url', 'image_url': {'url': '{image_url}'}}])\n",
    "    ]\n",
    ")\n",
    "\n",
    "chat_template"
   ]
  },
  {
   "cell_type": "code",
   "execution_count": 18,
   "id": "60cf9c23",
   "metadata": {},
   "outputs": [
    {
     "data": {
      "text/plain": [
       "'Masserì Primitivo는 진하고 풍부한 과일 맛과 부드러운 탄닌이 특징인 레드 와인입니다. 이 와인에 잘 어울리는 요리는 다음과 같습니다:\\n\\n1. **빨간 육류**: 스테이크, 양고기, 또는 돼지고기와 함께 곁들이기 좋습니다.\\n2. **파스타 요리**: 고기 소스가 들어간 파스타, 라자냐와 잘 어울립니다.\\n3. **바베큐 요리**: 그릴에서 구운 고기나 바베큐 소스를 곁들인 요리들.\\n4. **피자**: 특히 익스프레스와 같은 풍부한 토핑의 피자.\\n5. **소시지와 치즈 플레이트**: 짭짤한 맛의 다양한 치즈와 소시지가 좋습니다.\\n6. **매운 요리**: 약간 매운 이탈리안 요리나 스파이시한 멕시칸 요리도 잘 어울립니다.\\n\\n이 와인은 다양한 요리와 즐길 수 있으며, 특히 풍부한 맛을 가진 요리와 조화롭게 어울립니다.'"
      ]
     },
     "execution_count": 18,
     "metadata": {},
     "output_type": "execute_result"
    }
   ],
   "source": [
    "chain = chat_template | llm | StrOutputParser()\n",
    "response = chain.invoke(\n",
    "    {\n",
    "        'text': wine_query,\n",
    "        'image_url': \"https://images.vivino.com/thumbs/Z90I3--JRKWlpMA8wdLY-Q_pb_x600.png\"\n",
    "    }\n",
    ")\n",
    "response"
   ]
  },
  {
   "cell_type": "markdown",
   "id": "3a78a614",
   "metadata": {},
   "source": [
    "# recommend_dish_chain 용 랭체인 프롬프트"
   ]
  },
  {
   "cell_type": "code",
   "execution_count": null,
   "id": "2666ac0d",
   "metadata": {},
   "outputs": [],
   "source": [
    "REC_SYSTEM_PROMPT = \"\"\"\n",
    "        Persona:\n",
    "\n",
    "        As a sommelier, I possess an extensive knowledge of wines, including grape varieties, regions, tasting notes, and food pairings. I am highly skilled in recommending wines based on individual preferences, specific occasions, and particular dishes. My expertise includes understanding wine production methods, flavor profiles, and how they interact with different foods. I also stay updated on the latest trends in the wine world and am capable of suggesting wines that are both traditional and adventurous. I strive to provide personalized, thoughtful recommendations to enhance the dining experience.\n",
    "\n",
    "        Role:\n",
    "\n",
    "        1. Wine & Food Pairing: I offer detailed wine recommendations that pair harmoniously with specific dishes, balancing flavors and enhancing the overall dining experience. Whether it's a simple snack or an elaborate meal, I suggest wines that complement the texture, taste, and style of the food.\n",
    "        2. Wine Selection Guidance: For various occasions (celebrations, formal dinners, casual gatherings), I assist in selecting wines that suit the event and align with the preferences of the individuals involved.\n",
    "        3. Wine Tasting Expertise: I can help identify wines based on tasting notes like acidity, tannin levels, sweetness, and body, providing insights into what makes a wine unique.\n",
    "        4. Explaining Wine Terminology: I simplify complex wine terminology, making it easy for everyone to understand grape varieties, regions, and tasting profiles.\n",
    "        5. Educational Role: I inform and educate about different wine regions, production techniques, and wine styles, fostering an appreciation for the diversity of wines available.\n",
    "\n",
    "        Examples:\n",
    "\n",
    "        - Wine Pairing Example (Dish First):\n",
    "        For a grilled butter garlic shrimp dish, I would recommend a Sauvignon Blanc or a Chardonnay with crisp acidity to cut through the richness of the butter and enhance the seafood’s flavors.\n",
    "\n",
    "        - Wine Pairing Example (Wine First):  \n",
    "        If you're enjoying a Cabernet Sauvignon, its bold tannins and dark fruit flavors pair wonderfully with grilled steak or lamb. The richness of the meat complements the intensity of the wine.\n",
    "\n",
    "        - Wine Pairing Example (Wine First):\n",
    "        A Pinot Noir, known for its lighter body and subtle flavors of red berries, is perfect alongside roasted duck or mushroom risotto, as its earthy notes complement the dishes.\n",
    "\n",
    "        - Occasion-Based Selection:\n",
    "        If you are celebrating a romantic anniversary dinner, I would suggest a classic Champagne or an elegant Pinot Noir, perfect for a special and intimate evening.\n",
    "\n",
    "        - Guiding by Taste Preferences:\n",
    "        If you enjoy wines with bold flavors and intense tannins, a Cabernet Sauvignon from Napa Valley would suit your palate perfectly. For something lighter and fruitier, a Riesling could be a delightful alternative, pairing well with spicy dishes or fresh salads.\n",
    "    \"\"\""
   ]
  },
  {
   "cell_type": "code",
   "execution_count": 55,
   "id": "e555118f",
   "metadata": {},
   "outputs": [],
   "source": [
    "def recommend_dishes_chain(query):\n",
    "    chat_template = ChatPromptTemplate.from_messages(\n",
    "        [\n",
    "        ('system', REC_SYSTEM_PROMPT),\n",
    "        ('human', [{'type' : 'text', 'text':query['text']},{'type': 'image_url', 'image_url': {'url': query['image_url']}}])\n",
    "        ]\n",
    "    )\n",
    "\n",
    "    chain = chat_template | llm | StrOutputParser()\n",
    "    return chain"
   ]
  },
  {
   "cell_type": "code",
   "execution_count": 54,
   "id": "50069446",
   "metadata": {},
   "outputs": [],
   "source": [
    "query_1 = {\n",
    "    'text': wine_query,\n",
    "    'image_url': \"https://images.vivino.com/thumbs/Z90I3--JRKWlpMA8wdLY-Q_pb_x600.png\"\n",
    "}\n",
    "rec_dish_chain = recommend_dishes_chain(query_1)"
   ]
  },
  {
   "cell_type": "code",
   "execution_count": 56,
   "id": "1defa395",
   "metadata": {},
   "outputs": [
    {
     "data": {
      "text/plain": [
       "'Masserì Primitivo는 풍부한 과일 향과 부드러운 탄닌을持った 와인으로, 다양한 요리와 잘 어울립니다. 다음은 추천하는 요리들입니다:\\n\\n1. **그릴에 구운 고기**: 양념된 소고기 스테이크, 양갈비 또는 숯불에 구운 돼지고기와 잘 어울립니다.\\n  \\n2. **이탈리안 파스타**: 미트 소스를 곁들인 페투치니나 라자냐가 특히 좋습니다.\\n  \\n3. **피자**: 토마토 소스와 사과, 살라미를 포함한 다양한 재료의 피자가 잘 맞습니다.\\n  \\n4. **인요리**: 진한 향의 캐서롤이나 스튜, 특히 양고기나 소고기가 들어간 요리와 조화롭습니다.\\n  \\n5. **치즈**: 숙성 치즈, 특히 파르미지아노 레지아노나 고르곤졸라와 같은 풍부한 특징의 치즈와 잘 어울립니다.\\n\\n이러한 요리들은 Masserì Primitivo의 과일 맛과 탄닌과의 조화를 이끌어줘, 맛있는 식사를 완성할 수 있습니다.'"
      ]
     },
     "execution_count": 56,
     "metadata": {},
     "output_type": "execute_result"
    }
   ],
   "source": [
    "rec_dish_chain.invoke(query_1)"
   ]
  },
  {
   "cell_type": "code",
   "execution_count": 57,
   "id": "c9d67dd5",
   "metadata": {},
   "outputs": [
    {
     "data": {
      "text/plain": [
       "'Masserì Primitivo는 일반적으로 풍부하고 과일 맛이 진한 레드 와인으로, 강한 탄닌과 스파이시한 뉘앙스가 특징입니다. 이 와인에 어울리는 요리로는 다음과 같은 것들이 있습니다:\\n\\n1. **그릴드 고기**: 풍부한 맛을 가진 소고기 스테이크나 양고기와 잘 어울립니다. 그릴에서 구운 고기의 향이 와인의 복합적인 풍미를 강조합니다.\\n\\n2. **소스가 진한 파스타**: 미트 소스나 토마토 베이스의 파스타 요리, 혹은 버터와 허브로 조리한 파스타와 잘 매칭됩니다.\\n\\n3. **스파이시한 요리**: 매운 이탈리안 소시지나 향신료가 들어간 스튜와 같은 요리도 좋은 조화를 이룹니다.\\n\\n4. **숙성된 치즈**: 강한 맛을 가진 숙성 치즈, 예를 들어 파르미지아노 레지아노나 고르곤졸라와 함께 즐기시면 좋습니다.\\n\\n5. **제너럴 티킨**: 중국식 튀김 요리나 달콤한 소스를 이용한 요리와도 잘 어울립니다.\\n\\n이 와인은 전반적으로 풍부하고 깊은 맛을 가지고 있어, 강한 맛의 음식과 잘 조화를 이룰 수 있습니다.'"
      ]
     },
     "execution_count": 57,
     "metadata": {},
     "output_type": "execute_result"
    }
   ],
   "source": [
    "from langchain_core.runnables import RunnableLambda\n",
    "\n",
    "runable = RunnableLambda(recommend_dishes_chain)\n",
    "response = runable.invoke(query_1)\n",
    "response"
   ]
  },
  {
   "cell_type": "markdown",
   "id": "a3942e67",
   "metadata": {},
   "source": [
    "# describe_dish_flavor_chain 용 랭체인 프롬프트"
   ]
  },
  {
   "cell_type": "code",
   "execution_count": 48,
   "id": "1642010e",
   "metadata": {},
   "outputs": [],
   "source": [
    "DISH_SYSTEM_PROMPT = \"\"\"\n",
    "            Persona:\n",
    "            As a flavor analysis system, I am equipped with a deep understanding of food ingredients, cooking methods, and sensory properties such as taste, texture, and aroma. I can assess and break down the flavor profiles of dishes by identifying the dominant tastes (sweet, sour, salty, bitter, umami) as well as subtler elements like spice levels, richness, freshness, and aftertaste. I am able to compare different foods based on their ingredients and cooking techniques, while also considering cultural influences and typical pairings. My goal is to provide a detailed analysis of a dish’s flavor profile to help users better understand what makes it unique or to aid in choosing complementary foods and drinks.\n",
    "\n",
    "            Role:\n",
    "\n",
    "            1. Flavor Identification: I analyze the dominant and secondary flavors of a dish, highlighting key taste elements such as sweetness, acidity, bitterness, saltiness, umami, and the presence of spices or herbs.\n",
    "            2. Texture and Aroma Analysis: Beyond taste, I assess the mouthfeel and aroma of the dish, taking into account how texture (e.g., creamy, crunchy) and scents (e.g., smoky, floral) contribute to the overall experience.\n",
    "            3. Ingredient Breakdown: I evaluate the role each ingredient plays in the dish’s flavor, including their impact on the dish's balance, richness, or intensity.\n",
    "            4. Culinary Influence: I consider the cultural or regional influences that shape the dish, understanding how traditional cooking methods or unique ingredients affect the overall taste.\n",
    "            5. Food and Drink Pairing: Based on the dish's flavor profile, I suggest complementary food or drink pairings that enhance or balance the dish’s qualities.\n",
    "\n",
    "            Examples:\n",
    "\n",
    "            - Dish Flavor Breakdown:\n",
    "            For a butter garlic shrimp, I identify the richness from the butter, the pungent aroma of garlic, and the subtle sweetness of the shrimp. The dish balances richness with a touch of saltiness, and the soft, tender texture of the shrimp is complemented by the slight crispness from grilling.\n",
    "\n",
    "            - Texture and Aroma Analysis:\n",
    "            A creamy mushroom risotto has a smooth, velvety texture due to the creamy broth and butter. The earthy aroma from the mushrooms enhances the umami flavor, while a sprinkle of Parmesan adds a savory touch with a mild sharpness.\n",
    "\n",
    "            - Ingredient Role Assessment:\n",
    "            In a spicy Thai curry, the coconut milk provides a rich, creamy base, while the lemongrass and lime add freshness and citrus notes. The chilies bring the heat, and the balance between sweet, sour, and spicy elements creates a dynamic flavor profile.\n",
    "\n",
    "            - Cultural Influence:\n",
    "            A traditional Italian margherita pizza draws on the classic combination of fresh tomatoes, mozzarella, and basil. The simplicity of the ingredients allows the flavors to shine, with the tanginess of the tomato sauce balancing the richness of the cheese and the freshness of the basil.\n",
    "\n",
    "            - Food Pairing Example:\n",
    "            For a rich chocolate cake, I would recommend a sweet dessert wine like Port to complement the bitterness of the chocolate, or a light espresso to contrast the sweetness and enhance the richness of the dessert.\n",
    "        \"\"\""
   ]
  },
  {
   "cell_type": "code",
   "execution_count": 49,
   "id": "a2e3065b",
   "metadata": {},
   "outputs": [],
   "source": [
    "def describe_dish_flavor_chain(query):\n",
    "    # 이미지가 있는 경우와 없는 경우를 구분하여 처리\n",
    "    if query.get(\"image_urls\"):\n",
    "        # 이미지가 있는 경우: 멀티모달 프롬프트\n",
    "        messages = [\n",
    "            (\"system\", DISH_SYSTEM_PROMPT),\n",
    "            (\"human\", [ #\"human\" 으로 해도 무방 - 역할 태그의 차이가 크지 않음\n",
    "                {\"type\": \"text\", \"text\": \"이 요리의 이름과 맛을 한 문장으로 요약해주세요.\"},\n",
    "                *[{\"type\": \"image_url\", \"image_url\": {\"url\": url}} for url in query[\"image_urls\"]]\n",
    "            ])\n",
    "        ]\n",
    "    else:\n",
    "        # 텍스트만 있는 경우 (이미지 없이는 요리 설명이 어려우므로 안내 메시지)\n",
    "        messages = [\n",
    "            (\"system\", DISH_SYSTEM_PROMPT),\n",
    "            (\"user\", \"요리 이미지가 제공되지 않았습니다. 요리 이미지를 업로드해주시면 정확한 분석을 도와드리겠습니다.\")\n",
    "        ]\n",
    "    \n",
    "    prompt = ChatPromptTemplate.from_messages(messages)\n",
    "    output_parser = StrOutputParser()\n",
    "    \n",
    "    chain = prompt | llm | output_parser\n",
    "    return chain"
   ]
  },
  {
   "cell_type": "code",
   "execution_count": 50,
   "id": "43f422b2",
   "metadata": {},
   "outputs": [
    {
     "name": "stdout",
     "output_type": "stream",
     "text": [
      "이 요리는 피스타치오 오트 바로, 고소한 피스타치오와 달콤한 오트가 어우러져 건강하면서도 씹는 재미가 있는 맛입니다.\n"
     ]
    }
   ],
   "source": [
    "runnable = RunnableLambda(describe_dish_flavor_chain)\n",
    "response = runnable.invoke({\n",
    "    \"image_urls\": [\"https://www.stockfood.com/Sites/StockFood/Documents/Homepage/News//en/16.jpg\"]\n",
    "})\n",
    "\n",
    "print(response)"
   ]
  },
  {
   "cell_type": "markdown",
   "id": "fd8307ec",
   "metadata": {},
   "source": [
    "---"
   ]
  },
  {
   "cell_type": "markdown",
   "id": "864bca61",
   "metadata": {},
   "source": [
    "# CSV 파일 로드 \n",
    "winemag-data-130k-v2.csv"
   ]
  },
  {
   "cell_type": "code",
   "execution_count": 58,
   "id": "0cb11ef1",
   "metadata": {},
   "outputs": [
    {
     "name": "stdout",
     "output_type": "stream",
     "text": [
      "0 page_content=': 0\n",
      "country: Italy\n",
      "description: Aromas include tropical fruit, broom, brimstone and dried herb. The palate isn't overly expressive, offering unripened apple, citrus and dried sage alongside brisk acidity.\n",
      "designation: Vulkà Bianco\n",
      "points: 87\n",
      "price: \n",
      "province: Sicily & Sardinia\n",
      "region_1: Etna\n",
      "region_2: \n",
      "taster_name: Kerin O’Keefe\n",
      "taster_twitter_handle: @kerinokeefe\n",
      "title: Nicosia 2013 Vulkà Bianco  (Etna)\n",
      "variety: White Blend\n",
      "winery: Nicosia' metadata={'source': './winemag-data-130k-v2.csv', 'row': 0}\n",
      "1 page_content=': 1\n",
      "country: Portugal\n",
      "description: This is ripe and fruity, a wine that is smooth while still structured. Firm tannins are filled out with juicy red berry fruits and freshened with acidity. It's  already drinkable, although it will certainly be better from 2016.\n",
      "designation: Avidagos\n",
      "points: 87\n",
      "price: 15.0\n",
      "province: Douro\n",
      "region_1: \n",
      "region_2: \n",
      "taster_name: Roger Voss\n",
      "taster_twitter_handle: @vossroger\n",
      "title: Quinta dos Avidagos 2011 Avidagos Red (Douro)\n",
      "variety: Portuguese Red\n",
      "winery: Quinta dos Avidagos' metadata={'source': './winemag-data-130k-v2.csv', 'row': 1}\n",
      "2 page_content=': 2\n",
      "country: US\n",
      "description: Tart and snappy, the flavors of lime flesh and rind dominate. Some green pineapple pokes through, with crisp acidity underscoring the flavors. The wine was all stainless-steel fermented.\n",
      "designation: \n",
      "points: 87\n",
      "price: 14.0\n",
      "province: Oregon\n",
      "region_1: Willamette Valley\n",
      "region_2: Willamette Valley\n",
      "taster_name: Paul Gregutt\n",
      "taster_twitter_handle: @paulgwine\n",
      "title: Rainstorm 2013 Pinot Gris (Willamette Valley)\n",
      "variety: Pinot Gris\n",
      "winery: Rainstorm' metadata={'source': './winemag-data-130k-v2.csv', 'row': 2}\n"
     ]
    }
   ],
   "source": [
    "from langchain_community.document_loaders import CSVLoader\n",
    "\n",
    "loader = CSVLoader(\"./winemag-data-130k-v2.csv\")\n",
    "docs = loader.load()\n",
    "\n",
    "for i, doc in enumerate(docs[:3]):\n",
    "    print(str(i), doc)"
   ]
  },
  {
   "cell_type": "markdown",
   "id": "dc537746",
   "metadata": {},
   "source": [
    "# 벡터스토어를 이용해 임베딩 & 적재\n",
    "임베딩 모델 : \"text-embedding-3-small\"   \n",
    "pinecone index_name : wine-reviews   \n",
    "winemag-data-130k-v2.csv -> namespace : wine-review"
   ]
  },
  {
   "cell_type": "code",
   "execution_count": null,
   "id": "cc4f96b1",
   "metadata": {},
   "outputs": [],
   "source": [
    "# 임베딩 모델 로딩\n",
    "from langchain_openai import OpenAIEmbeddings\n",
    "\n",
    "embedding = OpenAIEmbeddings(model=\"text-embedding-3-small\")"
   ]
  },
  {
   "cell_type": "code",
   "execution_count": 68,
   "id": "65ac674c",
   "metadata": {},
   "outputs": [
    {
     "name": "stderr",
     "output_type": "stream",
     "text": [
      "c:\\Users\\Admin\\miniconda3\\envs\\prompt_env\\Lib\\site-packages\\tqdm\\auto.py:21: TqdmWarning: IProgress not found. Please update jupyter and ipywidgets. See https://ipywidgets.readthedocs.io/en/stable/user_install.html\n",
      "  from .autonotebook import tqdm as notebook_tqdm\n",
      "c:\\Users\\Admin\\miniconda3\\envs\\prompt_env\\Lib\\site-packages\\langchain_pinecone\\__init__.py:3: LangChainDeprecationWarning: As of langchain-core 0.3.0, LangChain uses pydantic v2 internally. The langchain_core.pydantic_v1 module was a compatibility shim for pydantic v1, and should no longer be used. Please update the code to import from Pydantic directly.\n",
      "\n",
      "For example, replace imports like: `from langchain_core.pydantic_v1 import BaseModel`\n",
      "with: `from pydantic import BaseModel`\n",
      "or the v1 compatibility namespace if you are working in a code base that has not been fully upgraded to pydantic 2 yet. \tfrom pydantic.v1 import BaseModel\n",
      "\n",
      "  from langchain_pinecone.vectorstores import Pinecone, PineconeVectorStore\n"
     ]
    }
   ],
   "source": [
    "# 벡터스토어 적재\n",
    "from langchain_pinecone import PineconeVectorStore\n",
    "\n",
    "vector_store = PineconeVectorStore.from_documents(\n",
    "    docs, \n",
    "    embedding, \n",
    "    index_name=(\"wine-reviews\"), \n",
    "    namespace=(\"wine-review\")\n",
    ")"
   ]
  },
  {
   "cell_type": "code",
   "execution_count": 74,
   "id": "ff1f892e",
   "metadata": {},
   "outputs": [
    {
     "data": {
      "text/plain": [
       "[Document(id='94a7d657-5f23-4574-884c-818e527b3857', metadata={'row': 47937.0, 'source': './winemag-data-130k-v2.csv'}, page_content=': 47937\\ncountry: US\\ndescription: As sweet as honey, with Lifesaver candy pineapple, golden apricot preserves, Meyer lemon custard pie and Asian spice flavors. Calls for very rich fare, such as scallops sautéed in butter, served with a creamy risotto.\\ndesignation: \\npoints: 88\\nprice: 22.0\\nprovince: California\\nregion_1: Sonoma County\\nregion_2: Sonoma\\ntaster_name: \\ntaster_twitter_handle: \\ntitle: Wellington 2007 Roussanne (Sonoma County)\\nvariety: Roussanne\\nwinery: Wellington'),\n",
       " Document(id='501ded79-67f2-4164-a2e7-5b9b12482e38', metadata={'row': 45019.0, 'source': './winemag-data-130k-v2.csv'}, page_content=\": 45019\\ncountry: US\\ndescription: Once again this designate amazes with a surfeit of beautifully integrated flavors. Mushrooms and baking spices adorn an explosion of strawberry pastries. There's plenty of ripe cherry fruit also, and a long, polished, lip-licking finish.\\ndesignation: Winderlea Vineyard\\npoints: 94\\nprice: 105.0\\nprovince: Oregon\\nregion_1: Dundee Hills\\nregion_2: Willamette Valley\\ntaster_name: Paul Gregutt\\ntaster_twitter_handle: @paulgwine\\ntitle: Adelsheim 2013 Winderlea Vineyard Pinot Noir (Dundee Hills)\\nvariety: Pinot Noir\\nwinery: Adelsheim\"),\n",
       " Document(id='55cacd98-ffef-42f7-a627-1ec42058b15b', metadata={'row': 28870.0, 'source': './winemag-data-130k-v2.csv'}, page_content=': 28870\\ncountry: US\\ndescription: A blend of Riesling, Muscat and Viognier, this wine offers aromas of white flowers, orange peel and citrus. It drinks off dry, with abundant mandarin flavors that linger.\\ndesignation: Chicken Dinner\\npoints: 87\\nprice: 16.0\\nprovince: Idaho\\nregion_1: \\nregion_2: \\ntaster_name: Sean P. Sullivan\\ntaster_twitter_handle: @wawinereport\\ntitle: Huston 2014 Chicken Dinner White\\nvariety: White Blend\\nwinery: Huston'),\n",
       " Document(id='cd9491ec-d9eb-4732-a6ca-349102e57915', metadata={'row': 101653.0, 'source': './winemag-data-130k-v2.csv'}, page_content=': 101653\\ncountry: South Africa\\ndescription: Low-intensity aromas of grilled apple, quince and pear purée dance on the bouquet, with a faint hint of straw in the background. Bright acidity and a pronounced citrus flavor results in a fresh and accessible mouthfeel, while the finish offers touches of toasted challah and clove. Drink now.\\ndesignation: Anima\\npoints: 90\\nprice: 15.0\\nprovince: Paarl\\nregion_1: \\nregion_2: \\ntaster_name: Lauren Buzzeo\\ntaster_twitter_handle: @laurbuzz\\ntitle: Avondale 2014 Anima Chenin Blanc (Paarl)\\nvariety: Chenin Blanc\\nwinery: Avondale'),\n",
       " Document(id='8197d325-b948-4910-a604-5ef867503c5c', metadata={'row': 46509.0, 'source': './winemag-data-130k-v2.csv'}, page_content=': 46509\\ncountry: US\\ndescription: Somewhat subdued white flower, lime and peach aromas are followed by medium-sweet stone-fruit flavors. It goes down easy.\\ndesignation: Four Legged\\npoints: 86\\nprice: 15.0\\nprovince: Washington\\nregion_1: Washington\\nregion_2: Washington Other\\ntaster_name: Sean P. Sullivan\\ntaster_twitter_handle: @wawinereport\\ntitle: Dunham 2014 Four Legged White (Washington)\\nvariety: White Blend\\nwinery: Dunham')]"
      ]
     },
     "execution_count": 74,
     "metadata": {},
     "output_type": "execute_result"
    }
   ],
   "source": [
    "# 질의하기\n",
    "taste_query = \"달콤한 맛을 느낄 수 있는 와인\"\n",
    "retrieved_docs = vector_store.similarity_search(taste_query, k=5, namespace=\"wine-review\")\n",
    "retrieved_docs"
   ]
  },
  {
   "cell_type": "code",
   "execution_count": 71,
   "id": "50353533",
   "metadata": {},
   "outputs": [
    {
     "data": {
      "text/plain": [
       "[Document(id='390e2b08-6b36-43d9-bed3-74d10f162693', metadata={'row': 98767.0, 'source': './winemag-data-130k-v2.csv'}, page_content=\": 98767\\ncountry: Italy\\ndescription: Here's a jammy, syrupy and dense expression of Primitivo with chewy layers of black cherry, leather, spice and tobacco. There's a sweet, overripe note in there as well that recalls strawberry comfiture and the wine is dense and chewy on the close.\\ndesignation: Jèma\\npoints: 87\\nprice: \\nprovince: Southern Italy\\nregion_1: Salento\\nregion_2: \\ntaster_name: \\ntaster_twitter_handle: \\ntitle: L'Astore Masseria 2007 Jèma Primitivo (Salento)\\nvariety: Primitivo\\nwinery: L'Astore Masseria\"),\n",
       " Document(id='166b7286-61b7-4d75-845d-3ece159de58d', metadata={'row': 24645.0, 'source': './winemag-data-130k-v2.csv'}, page_content=': 24645\\ncountry: Italy\\ndescription: This darkly colored Primitivo opens with sweet notes of Christmas spice, cinnamon, nutmeg, blackberry jam and plum cake. The wine is sticky and chewy on the close with sweet, succulent tannins.\\ndesignation: \\npoints: 87\\nprice: \\nprovince: Southern Italy\\nregion_1: Puglia\\nregion_2: \\ntaster_name: \\ntaster_twitter_handle: \\ntitle: Masseria del Fauno 2010 Primitivo (Puglia)\\nvariety: Primitivo\\nwinery: Masseria del Fauno'),\n",
       " Document(id='82b32dea-92e9-4c9f-beb1-c2b2305ae228', metadata={'row': 52805.0, 'source': './winemag-data-130k-v2.csv'}, page_content=': 52805\\ncountry: Italy\\ndescription: This darkly colored Primitivo opens with sweet notes of Christmas spice, cinnamon, nutmeg, blackberry jam and plum cake. The wine is sticky and chewy on the close with sweet, succulent tannins.\\ndesignation: \\npoints: 87\\nprice: \\nprovince: Southern Italy\\nregion_1: Puglia\\nregion_2: \\ntaster_name: \\ntaster_twitter_handle: \\ntitle: Masseria del Fauno 2010 Primitivo (Puglia)\\nvariety: Primitivo\\nwinery: Masseria del Fauno'),\n",
       " Document(id='f7b25828-4c41-4b32-8b95-6a006edcd2d3', metadata={'row': 89095.0, 'source': './winemag-data-130k-v2.csv'}, page_content=': 89095\\ncountry: Italy\\ndescription: This wine from southern Italy shows notes of ripe cherry, prune, cinnamon and leather. The mouthfeel is soft and seemingly sweet, making this an excellent pairing partner to tomato-based pasta sauces.\\ndesignation: \\npoints: 87\\nprice: 12.0\\nprovince: Southern Italy\\nregion_1: Puglia\\nregion_2: \\ntaster_name: \\ntaster_twitter_handle: \\ntitle: Matané 2011 Primitivo (Puglia)\\nvariety: Primitivo\\nwinery: Matané'),\n",
       " Document(id='2ec5b90a-4386-4031-82e3-e6d329c736bc', metadata={'row': 102853.0, 'source': './winemag-data-130k-v2.csv'}, page_content=': 102853\\ncountry: Italy\\ndescription: Definitely not Zinfandel-like, despite its Primitivo origins; a rather nondescript wine, as a matter of fact. Light cherry overtones are noted on the nose and palate. The tannins are mouth-drying. This is certainly not a good example of how far Puglia has come with this grape. However, it would work fine with a slice or two of pizza.\\ndesignation: \\npoints: 83\\nprice: 5.0\\nprovince: Southern Italy\\nregion_1: Puglia\\nregion_2: \\ntaster_name: \\ntaster_twitter_handle: \\ntitle: Terrale 1998 Primitivo (Puglia)\\nvariety: Primitivo\\nwinery: Terrale')]"
      ]
     },
     "execution_count": 71,
     "metadata": {},
     "output_type": "execute_result"
    }
   ],
   "source": [
    "result = vector_store.similarity_search(\n",
    "    response,\n",
    "    k=5,\n",
    "    namespace='wine-review'\n",
    ")\n",
    "result"
   ]
  },
  {
   "cell_type": "markdown",
   "id": "8ea44c70",
   "metadata": {},
   "source": [
    "# Wine Search"
   ]
  },
  {
   "cell_type": "code",
   "execution_count": 88,
   "id": "3f00597b",
   "metadata": {},
   "outputs": [
    {
     "data": {
      "text/plain": [
       "True"
      ]
     },
     "execution_count": 88,
     "metadata": {},
     "output_type": "execute_result"
    }
   ],
   "source": [
    "from dotenv import load_dotenv\n",
    "import os\n",
    "from langchain_openai import ChatOpenAI\n",
    "\n",
    "load_dotenv()"
   ]
  },
  {
   "cell_type": "code",
   "execution_count": 89,
   "id": "b4dd84f4",
   "metadata": {},
   "outputs": [
    {
     "name": "stdout",
     "output_type": "stream",
     "text": [
      "wine-reviews\n"
     ]
    }
   ],
   "source": [
    "from dotenv import load_dotenv\n",
    "import os\n",
    "\n",
    "load_dotenv()\n",
    "\n",
    "print(os.getenv(\"PINECONE_INDEX_NAME\"))  # wine-reviews 출력되어야 함"
   ]
  },
  {
   "cell_type": "code",
   "execution_count": 90,
   "id": "b3486a9b",
   "metadata": {},
   "outputs": [],
   "source": [
    "from langchain_openai import OpenAIEmbeddings\n",
    "from langchain_pinecone import PineconeVectorStore\n",
    "\n",
    "embedding = OpenAIEmbeddings(model='text-embedding-3-small')\n",
    "vector_store = PineconeVectorStore(\n",
    "    index_name=os.getenv(\"PINECONE_INDEX_NAME\"),\n",
    "    embedding=embedding,\n",
    "    pinecone_api_key=os.getenv(\"PINECONE_API_KEY\")\n",
    ")"
   ]
  },
  {
   "cell_type": "code",
   "execution_count": 91,
   "id": "a89ea731",
   "metadata": {},
   "outputs": [
    {
     "data": {
      "text/plain": [
       "[Document(id='120cc1f5-b58a-4ef4-9f9e-f1e6dd79db5f', metadata={'row': 12067.0, 'source': './winemag-data-130k-v2.csv'}, page_content=': 12067\\ncountry: US\\ndescription: Overtly sweet, this tastes like a dessert pastry turned into wine. The flavors are of orange, pineapple, vanilla-cream and buttered toast.\\ndesignation: Back Seat Blonde\\npoints: 82\\nprice: 14.0\\nprovince: California\\nregion_1: Santa Ynez Valley\\nregion_2: Central Coast\\ntaster_name: \\ntaster_twitter_handle: \\ntitle: Coquelicot 2010 Back Seat Blonde White (Santa Ynez Valley)\\nvariety: White Blend\\nwinery: Coquelicot'),\n",
       " Document(id='d2300d18-c382-4bb0-92fe-45423de0bd77', metadata={'row': 115812.0, 'source': './winemag-data-130k-v2.csv'}, page_content=\": 115812\\ncountry: South Africa\\ndescription: Vanilla toast and a compelling yeasty character on the nose entice. It's a little brighter on the palate, offering a balanced combination of minerality, acid and cream that lingers.\\ndesignation: Nine Yards\\npoints: 87\\nprice: 38.0\\nprovince: Stellenbosch\\nregion_1: \\nregion_2: \\ntaster_name: Susan Kostrzewa\\ntaster_twitter_handle: @suskostrzewa\\ntitle: Jardin 2004 Nine Yards Chardonnay (Stellenbosch)\\nvariety: Chardonnay\\nwinery: Jardin\"),\n",
       " Document(id='c13f05dd-e246-4e75-b2fd-0f243925e924', metadata={'row': 125634.0, 'source': './winemag-data-130k-v2.csv'}, page_content=': 125634\\ncountry: US\\ndescription: Simple and satisfying with lots of ripe pineapple jam, orange sorbet, caramel, buttered toast, honey and cinnamon spices, in a creamy texture.\\ndesignation: \\npoints: 86\\nprice: 22.0\\nprovince: California\\nregion_1: Carneros\\nregion_2: Napa-Sonoma\\ntaster_name: \\ntaster_twitter_handle: \\ntitle: Jacella 2010 Chardonnay (Carneros)\\nvariety: Chardonnay\\nwinery: Jacella'),\n",
       " Document(id='80158806-5fa4-482a-bb8c-84d7f23e4787', metadata={'row': 41151.0, 'source': './winemag-data-130k-v2.csv'}, page_content=\": 41151\\ncountry: US\\ndescription: Deliciousness marks this blend of 92% Pinot Noir and 8% Chardonnay. It's forward and sweet in raspberries, strawberries and vanilla, with hints of brioche, white chocolate and buttered toast. Gorgeous all by itself, it will pair well with everything from sushi to steak.\\ndesignation: Blanc de Noirs\\npoints: 90\\nprice: 24.0\\nprovince: California\\nregion_1: Carneros\\nregion_2: Napa-Sonoma\\ntaster_name: \\ntaster_twitter_handle: \\ntitle: Gloria Ferrer NV Blanc de Noirs Sparkling (Carneros)\\nvariety: Sparkling Blend\\nwinery: Gloria Ferrer\"),\n",
       " Document(id='6a273210-0af0-45b7-9a38-314a6773215f', metadata={'row': 81973.0, 'source': './winemag-data-130k-v2.csv'}, page_content=': 81973\\ncountry: South Africa\\ndescription: This is quite oaky upfront, with bold scents of baked apple, toasted hazelnut and vanilla bean. The palate offers more of the same, in addition to a bright yet decadent lemon-custard flavor. Honey-drizzled apple pie comes to the fore on the finish, with just enough acidity to keep the opulence in check.\\ndesignation: Bayten\\npoints: 89\\nprice: 20.0\\nprovince: Constantia\\nregion_1: \\nregion_2: \\ntaster_name: Lauren Buzzeo\\ntaster_twitter_handle: @laurbuzz\\ntitle: Buitenverwachting 2015 Bayten Chardonnay (Constantia)\\nvariety: Chardonnay\\nwinery: Buitenverwachting')]"
      ]
     },
     "execution_count": 91,
     "metadata": {},
     "output_type": "execute_result"
    }
   ],
   "source": [
    "# vector store에서 현재 요리의 풍미와 맛과 유사한 와인 검색\n",
    "taste_query =  \"이 요리는 판차넬라 샐러드로, 신선한 토마토와 바질의 상큼함이 빵의 고소함과 어우러져 상쾌하고 풍부한 맛을 냅니다.\"\n",
    "results = vector_store.similarity_search(\n",
    "  taste_query, \n",
    "    k=5, \n",
    "    namespace=os.getenv(\"PINECONE_NAMESPACE\")\n",
    ")\n",
    "\n",
    "results"
   ]
  },
  {
   "cell_type": "code",
   "execution_count": 92,
   "id": "3976980c",
   "metadata": {},
   "outputs": [
    {
     "data": {
      "text/plain": [
       "[Document(id='390e2b08-6b36-43d9-bed3-74d10f162693', metadata={'row': 98767.0, 'source': './winemag-data-130k-v2.csv'}, page_content=\": 98767\\ncountry: Italy\\ndescription: Here's a jammy, syrupy and dense expression of Primitivo with chewy layers of black cherry, leather, spice and tobacco. There's a sweet, overripe note in there as well that recalls strawberry comfiture and the wine is dense and chewy on the close.\\ndesignation: Jèma\\npoints: 87\\nprice: \\nprovince: Southern Italy\\nregion_1: Salento\\nregion_2: \\ntaster_name: \\ntaster_twitter_handle: \\ntitle: L'Astore Masseria 2007 Jèma Primitivo (Salento)\\nvariety: Primitivo\\nwinery: L'Astore Masseria\"),\n",
       " Document(id='166b7286-61b7-4d75-845d-3ece159de58d', metadata={'row': 24645.0, 'source': './winemag-data-130k-v2.csv'}, page_content=': 24645\\ncountry: Italy\\ndescription: This darkly colored Primitivo opens with sweet notes of Christmas spice, cinnamon, nutmeg, blackberry jam and plum cake. The wine is sticky and chewy on the close with sweet, succulent tannins.\\ndesignation: \\npoints: 87\\nprice: \\nprovince: Southern Italy\\nregion_1: Puglia\\nregion_2: \\ntaster_name: \\ntaster_twitter_handle: \\ntitle: Masseria del Fauno 2010 Primitivo (Puglia)\\nvariety: Primitivo\\nwinery: Masseria del Fauno'),\n",
       " Document(id='82b32dea-92e9-4c9f-beb1-c2b2305ae228', metadata={'row': 52805.0, 'source': './winemag-data-130k-v2.csv'}, page_content=': 52805\\ncountry: Italy\\ndescription: This darkly colored Primitivo opens with sweet notes of Christmas spice, cinnamon, nutmeg, blackberry jam and plum cake. The wine is sticky and chewy on the close with sweet, succulent tannins.\\ndesignation: \\npoints: 87\\nprice: \\nprovince: Southern Italy\\nregion_1: Puglia\\nregion_2: \\ntaster_name: \\ntaster_twitter_handle: \\ntitle: Masseria del Fauno 2010 Primitivo (Puglia)\\nvariety: Primitivo\\nwinery: Masseria del Fauno'),\n",
       " Document(id='f7b25828-4c41-4b32-8b95-6a006edcd2d3', metadata={'row': 89095.0, 'source': './winemag-data-130k-v2.csv'}, page_content=': 89095\\ncountry: Italy\\ndescription: This wine from southern Italy shows notes of ripe cherry, prune, cinnamon and leather. The mouthfeel is soft and seemingly sweet, making this an excellent pairing partner to tomato-based pasta sauces.\\ndesignation: \\npoints: 87\\nprice: 12.0\\nprovince: Southern Italy\\nregion_1: Puglia\\nregion_2: \\ntaster_name: \\ntaster_twitter_handle: \\ntitle: Matané 2011 Primitivo (Puglia)\\nvariety: Primitivo\\nwinery: Matané'),\n",
       " Document(id='2ec5b90a-4386-4031-82e3-e6d329c736bc', metadata={'row': 102853.0, 'source': './winemag-data-130k-v2.csv'}, page_content=': 102853\\ncountry: Italy\\ndescription: Definitely not Zinfandel-like, despite its Primitivo origins; a rather nondescript wine, as a matter of fact. Light cherry overtones are noted on the nose and palate. The tannins are mouth-drying. This is certainly not a good example of how far Puglia has come with this grape. However, it would work fine with a slice or two of pizza.\\ndesignation: \\npoints: 83\\nprice: 5.0\\nprovince: Southern Italy\\nregion_1: Puglia\\nregion_2: \\ntaster_name: \\ntaster_twitter_handle: \\ntitle: Terrale 1998 Primitivo (Puglia)\\nvariety: Primitivo\\nwinery: Terrale')]"
      ]
     },
     "execution_count": 92,
     "metadata": {},
     "output_type": "execute_result"
    }
   ],
   "source": [
    "results = vector_store.similarity_search(\n",
    "   response, \n",
    "    k=5, \n",
    "    namespace=os.getenv(\"PINECONE_NAMESPACE\")\n",
    ")\n",
    "\n",
    "results"
   ]
  },
  {
   "cell_type": "code",
   "execution_count": 93,
   "id": "5940df96",
   "metadata": {},
   "outputs": [],
   "source": [
    "def search_wine(dish_flavor):\n",
    "    results = vector_store.similarity_search(\n",
    "        dish_flavor, \n",
    "        k=5, \n",
    "        namespace=os.getenv(\"PINECONE_NAMESPACE\")\n",
    "    )\n",
    "\n",
    "    return {\n",
    "        \"dish_flavor\": dish_flavor,\n",
    "        \"wine_reviews\": \"\\n\".join([doc.page_content for doc in results])\n",
    "    }"
   ]
  },
  {
   "cell_type": "code",
   "execution_count": 94,
   "id": "11d446bb",
   "metadata": {},
   "outputs": [
    {
     "name": "stdout",
     "output_type": "stream",
     "text": [
      "이 요리는 판차넬라 샐러드로, 신선한 토마토와 바질의 상큼함이 빵의 고소함과 어우러져 상쾌하고 풍부한 맛을 냅니다.\n",
      ": 12067\n",
      "country: US\n",
      "description: Overtly sweet, this tastes like a dessert pastry turned into wine. The flavors are of orange, pineapple, vanilla-cream and buttered toast.\n",
      "designation: Back Seat Blonde\n",
      "points: 82\n",
      "price: 14.0\n",
      "province: California\n",
      "region_1: Santa Ynez Valley\n",
      "region_2: Central Coast\n",
      "taster_name: \n",
      "taster_twitter_handle: \n",
      "title: Coquelicot 2010 Back Seat Blonde White (Santa Ynez Valley)\n",
      "variety: White Blend\n",
      "winery: Coquelicot\n",
      ": 115812\n",
      "country: South Africa\n",
      "description: Vanilla toast and a compelling yeasty character on the nose entice. It's a little brighter on the palate, offering a balanced combination of minerality, acid and cream that lingers.\n",
      "designation: Nine Yards\n",
      "points: 87\n",
      "price: 38.0\n",
      "province: Stellenbosch\n",
      "region_1: \n",
      "region_2: \n",
      "taster_name: Susan Kostrzewa\n",
      "taster_twitter_handle: @suskostrzewa\n",
      "title: Jardin 2004 Nine Yards Chardonnay (Stellenbosch)\n",
      "variety: Chardonnay\n",
      "winery: Jardin\n",
      ": 125634\n",
      "country: US\n",
      "description: Simple and satisfying with lots of ripe pineapple jam, orange sorbet, caramel, buttered toast, honey and cinnamon spices, in a creamy texture.\n",
      "designation: \n",
      "points: 86\n",
      "price: 22.0\n",
      "province: California\n",
      "region_1: Carneros\n",
      "region_2: Napa-Sonoma\n",
      "taster_name: \n",
      "taster_twitter_handle: \n",
      "title: Jacella 2010 Chardonnay (Carneros)\n",
      "variety: Chardonnay\n",
      "winery: Jacella\n",
      ": 41151\n",
      "country: US\n",
      "description: Deliciousness marks this blend of 92% Pinot Noir and 8% Chardonnay. It's forward and sweet in raspberries, strawberries and vanilla, with hints of brioche, white chocolate and buttered toast. Gorgeous all by itself, it will pair well with everything from sushi to steak.\n",
      "designation: Blanc de Noirs\n",
      "points: 90\n",
      "price: 24.0\n",
      "province: California\n",
      "region_1: Carneros\n",
      "region_2: Napa-Sonoma\n",
      "taster_name: \n",
      "taster_twitter_handle: \n",
      "title: Gloria Ferrer NV Blanc de Noirs Sparkling (Carneros)\n",
      "variety: Sparkling Blend\n",
      "winery: Gloria Ferrer\n",
      ": 81973\n",
      "country: South Africa\n",
      "description: This is quite oaky upfront, with bold scents of baked apple, toasted hazelnut and vanilla bean. The palate offers more of the same, in addition to a bright yet decadent lemon-custard flavor. Honey-drizzled apple pie comes to the fore on the finish, with just enough acidity to keep the opulence in check.\n",
      "designation: Bayten\n",
      "points: 89\n",
      "price: 20.0\n",
      "province: Constantia\n",
      "region_1: \n",
      "region_2: \n",
      "taster_name: Lauren Buzzeo\n",
      "taster_twitter_handle: @laurbuzz\n",
      "title: Buitenverwachting 2015 Bayten Chardonnay (Constantia)\n",
      "variety: Chardonnay\n",
      "winery: Buitenverwachting\n"
     ]
    }
   ],
   "source": [
    "runnable = RunnableLambda(search_wine)\n",
    "response = runnable.invoke(taste_query)\n",
    "print(response['dish_flavor'])\n",
    "print(response['wine_reviews'])"
   ]
  },
  {
   "cell_type": "code",
   "execution_count": null,
   "id": "40be70bf",
   "metadata": {},
   "outputs": [],
   "source": []
  },
  {
   "cell_type": "markdown",
   "id": "df65c8bd",
   "metadata": {},
   "source": [
    "# recommend_wine "
   ]
  },
  {
   "cell_type": "code",
   "execution_count": 96,
   "id": "c3acce28",
   "metadata": {},
   "outputs": [],
   "source": [
    "WINE_SOMMELIER_SYSTEM = \"\"\"\n",
    "        Persona:\n",
    "\n",
    "        As a sommelier, I possess an extensive knowledge of wines, including grape varieties, regions, tasting notes, and food pairings. I am highly skilled in recommending wines based on individual preferences, specific occasions, and particular dishes. My expertise includes understanding wine production methods, flavor profiles, and how they interact with different foods. I also stay updated on the latest trends in the wine world and am capable of suggesting wines that are both traditional and adventurous. I strive to provide personalized, thoughtful recommendations to enhance the dining experience.\n",
    "\n",
    "        Role:\n",
    "\n",
    "        1. Wine & Food Pairing: I offer detailed wine recommendations that pair harmoniously with specific dishes, balancing flavors and enhancing the overall dining experience. Whether it's a simple snack or an elaborate meal, I suggest wines that complement the texture, taste, and style of the food.\n",
    "        2. Wine Selection Guidance: For various occasions (celebrations, formal dinners, casual gatherings), I assist in selecting wines that suit the event and align with the preferences of the individuals involved.\n",
    "        3. Wine Tasting Expertise: I can help identify wines based on tasting notes like acidity, tannin levels, sweetness, and body, providing insights into what makes a wine unique.\n",
    "        4. Explaining Wine Terminology: I simplify complex wine terminology, making it easy for everyone to understand grape varieties, regions, and tasting profiles.\n",
    "        5. Educational Role: I inform and educate about different wine regions, production techniques, and wine styles, fostering an appreciation for the diversity of wines available.\n",
    "\n",
    "        Examples:\n",
    "\n",
    "        - Wine Pairing Example (Dish First):\n",
    "        For a grilled butter garlic shrimp dish, I would recommend a Sauvignon Blanc or a Chardonnay with crisp acidity to cut through the richness of the butter and enhance the seafood’s flavors.\n",
    "\n",
    "        - Wine Pairing Example (Wine First):  \n",
    "        If you're enjoying a Cabernet Sauvignon, its bold tannins and dark fruit flavors pair wonderfully with grilled steak or lamb. The richness of the meat complements the intensity of the wine.\n",
    "\n",
    "        - Wine Pairing Example (Wine First):\n",
    "        A Pinot Noir, known for its lighter body and subtle flavors of red berries, is perfect alongside roasted duck or mushroom risotto, as its earthy notes complement the dishes.\n",
    "\n",
    "        - Occasion-Based Selection:\n",
    "        If you are celebrating a romantic anniversary dinner, I would suggest a classic Champagne or an elegant Pinot Noir, perfect for a special and intimate evening.\n",
    "\n",
    "        - Guiding by Taste Preferences:\n",
    "        If you enjoy wines with bold flavors and intense tannins, a Cabernet Sauvignon from Napa Valley would suit your palate perfectly. For something lighter and fruitier, a Riesling could be a delightful alternative, pairing well with spicy dishes or fresh salads.\n",
    "    \"\"\""
   ]
  },
  {
   "cell_type": "code",
   "execution_count": 97,
   "id": "d2441a59",
   "metadata": {},
   "outputs": [],
   "source": [
    "def recommend_wine_chain(query):\n",
    "    chat_template = ChatPromptTemplate.from_messages(\n",
    "        [\n",
    "        ('system', WINE_SOMMELIER_SYSTEM),\n",
    "        ('human',\"\"\"\n",
    "            와인 페이링 추천에 아래 요리/맛, 와인 리뷰만을 참고하여 한글로 답변해 주시기 바랍니다.\n",
    "         \n",
    "         요리/맛:\n",
    "         {dish_flavor}\n",
    "\n",
    "         와인 리뷰:\n",
    "         {wine_reviews}\n",
    "         \n",
    "         \"\"\")\n",
    "        ]\n",
    "    )\n",
    "    \n",
    "    outputParser = StrOutputParser()\n",
    "    \n",
    "    chain = chat_template | llm | StrOutputParser()\n",
    "    \n",
    "    return chain"
   ]
  },
  {
   "cell_type": "code",
   "execution_count": 98,
   "id": "f0ea4bb0",
   "metadata": {},
   "outputs": [],
   "source": [
    "runnable_1 = RunnableLambda(describe_dish_flavor_chain)\n",
    "runnable_2 = RunnableLambda(search_wine)\n",
    "runnable_3 = RunnableLambda(recommend_wine_chain)\n",
    "\n",
    "chain = runnable_1 | runnable_2 | runnable_3"
   ]
  },
  {
   "cell_type": "code",
   "execution_count": 105,
   "id": "f1844ba1",
   "metadata": {},
   "outputs": [],
   "source": [
    "# %pip install -qU grandalf"
   ]
  },
  {
   "cell_type": "code",
   "execution_count": null,
   "id": "26a31cd5",
   "metadata": {},
   "outputs": [
    {
     "name": "stdout",
     "output_type": "stream",
     "text": [
      "+----------------------------------+ \n",
      "| describe_dish_flavor_chain_input | \n",
      "+----------------------------------+ \n",
      "                  *                  \n",
      "                  *                  \n",
      "                  *                  \n",
      "           +------------+            \n",
      "           | ChatOpenAI |            \n",
      "           +------------+            \n",
      "                  *                  \n",
      "                  *                  \n",
      "                  *                  \n",
      "          +-------------+            \n",
      "          | search_wine |            \n",
      "          +-------------+            \n",
      "                  *                  \n",
      "                  *                  \n",
      "                  *                  \n",
      "           +------------+            \n",
      "           | ChatOpenAI |            \n",
      "           +------------+            \n",
      "                  *                  \n",
      "                  *                  \n",
      "                  *                  \n",
      "  +-----------------------------+    \n",
      "  | recommend_wine_chain_output |    \n",
      "  +-----------------------------+    \n"
     ]
    }
   ],
   "source": [
    "# 음식 이미지 링크 > 음식 찾아서 음식맛 >  음식맛이 와인평에 있는 와인 검색 > 와인평 + 음식맛 > 소믈리에 메세지\n",
    "chain.get_graph().print_ascii()"
   ]
  },
  {
   "cell_type": "code",
   "execution_count": 103,
   "id": "a90aa2cd",
   "metadata": {},
   "outputs": [],
   "source": [
    "response = chain.invoke(\n",
    "    {\n",
    "        \"image_url\" : \"https://www.stockfood.com/Sites/StockFood/Documents/Homepage/News//en/16.jpg\"\n",
    "    }\n",
    ")"
   ]
  },
  {
   "cell_type": "code",
   "execution_count": 104,
   "id": "8daa601c",
   "metadata": {},
   "outputs": [
    {
     "data": {
      "text/plain": [
       "'어떤 요리와 와인을 페어링할지 추천해드리겠습니다. 제공된 와인 리뷰를 참고하여 몇 가지 적합한 조합을 생각해보았습니다.\\n\\n1. **요리: 해산물 요리 (예: 홍합 스튜)**\\n    - **와인 추천: Torii Mor 2011 Pinot Gris (Willamette Valley, US)**\\n        - 이 와인은 얇고 신맛이 있으며, 레몬 주스의 맛이 특징입니다. 홍합 스튜와 같은 해산물 요리와 잘 어울리며, 해산물의 풍미를 강조할 수 있습니다. 가격은 약 18,000원으로 합리적입니다.\\n\\n2. **요리: 아시아 요리 (예: 향신료가 들어간 중국식 요리)**\\n    - **와인 추천: Rieflé 2005 Pinot Gris (Alsace, France)**\\n        - 이 와인은 medium-sweet한 맛이 특징이며, 리치와 향신료의 풍미가 강조되어 있습니다. 아시아 요리의 복잡한 맛과 잘 매칭될 수 있습니다.\\n\\n3. **요리: 치킨 요리 (예: 허브로 구운 치킨)**\\n    - **와인 추천: Yealands 2010 Pinot Noir (Marlborough, New Zealand)**\\n        - 이 피노 누아는 체리와 장미향이 매력적이며, 부드러운 질감을 지니고 있습니다. 허브로 구운 치킨과 잘 어울리며, 지금 마셔도 좋습니다. 가격은 약 17,000원입니다.\\n\\n위의 추천 사항들이 도움이 되셨으면 좋겠습니다. 궁금한 점이나 추가하고 싶은 사항이 있으시면 언제든지 말씀해 주세요!'"
      ]
     },
     "execution_count": 104,
     "metadata": {},
     "output_type": "execute_result"
    }
   ],
   "source": [
    "response"
   ]
  }
 ],
 "metadata": {
  "kernelspec": {
   "display_name": "prompt_env",
   "language": "python",
   "name": "python3"
  },
  "language_info": {
   "codemirror_mode": {
    "name": "ipython",
    "version": 3
   },
   "file_extension": ".py",
   "mimetype": "text/x-python",
   "name": "python",
   "nbconvert_exporter": "python",
   "pygments_lexer": "ipython3",
   "version": "3.12.11"
  }
 },
 "nbformat": 4,
 "nbformat_minor": 5
}
