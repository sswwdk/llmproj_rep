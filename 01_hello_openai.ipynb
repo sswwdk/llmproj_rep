{
 "cells": [
  {
   "cell_type": "code",
   "execution_count": 3,
   "id": "0406bbfe",
   "metadata": {},
   "outputs": [],
   "source": [
    "from dotenv import load_dotenv\n",
    "import os"
   ]
  },
  {
   "cell_type": "code",
   "execution_count": 7,
   "id": "44aad39e",
   "metadata": {},
   "outputs": [
    {
     "name": "stdout",
     "output_type": "stream",
     "text": [
      "API Key configured: True\n"
     ]
    }
   ],
   "source": [
    "load_dotenv()\n",
    "openai_api_key = os.getenv('OPENAI_API_KEY')\n",
    "print(\"API Key configured:\", \"OPENAI_API_KEY\" in os.environ)"
   ]
  },
  {
   "cell_type": "code",
   "execution_count": 8,
   "id": "262d2ed1",
   "metadata": {},
   "outputs": [
    {
     "data": {
      "text/plain": [
       "'1.100.1'"
      ]
     },
     "execution_count": 8,
     "metadata": {},
     "output_type": "execute_result"
    }
   ],
   "source": [
    "import openai\n",
    "openai.__version__"
   ]
  },
  {
   "cell_type": "code",
   "execution_count": 1,
   "id": "64be770c",
   "metadata": {},
   "outputs": [],
   "source": [
    "from openai import OpenAI\n",
    "client = OpenAI()\n",
    "\n",
    "response = client.responses.create(\n",
    "  prompt={\n",
    "    \"id\": \"pmpt_68be2d97305c8195941156f298a93f300b420d6db9bc0a63\",\n",
    "    \"version\": \"1\"\n",
    "  },\n",
    "  input=[\n",
    "    {\n",
    "      \"role\": \"user\",\n",
    "      \"content\": [\n",
    "        {\n",
    "          \"type\": \"input_text\",\n",
    "          \"text\": \"오늘 날씨 알려줘\"\n",
    "        }\n",
    "      ]\n",
    "    },\n",
    "    {\n",
    "      \"id\": \"msg_68be2d8e8c08819394f972e376f457970d9cdaa0cc8eda07\",\n",
    "      \"role\": \"assistant\",\n",
    "      \"content\": [\n",
    "        {\n",
    "          \"type\": \"output_text\",\n",
    "          \"text\": \"오늘 날짜와 장소를 알려주시면 날씨 정보를 확인해드릴 수 있어요. 혹시 특정 도시나 지역이 있나요?\"\n",
    "        }\n",
    "      ]\n",
    "    }\n",
    "  ],\n",
    "  text={\n",
    "    \"format\": {\n",
    "      \"type\": \"text\"\n",
    "    }\n",
    "  },\n",
    "  reasoning={},\n",
    "  max_output_tokens=2048,\n",
    "  store=True,\n",
    "  include=[\"web_search_call.action.sources\"]\n",
    ")"
   ]
  },
  {
   "cell_type": "code",
   "execution_count": 2,
   "id": "f3f6ace3",
   "metadata": {},
   "outputs": [
    {
     "data": {
      "text/plain": [
       "Response(id='resp_68be2dc8b5c8819394f151a452a948ad0d9cdaa0cc8eda07', created_at=1757294025.0, error=None, incomplete_details=None, instructions=[EasyInputMessage(content=[], role='system', type='message'), EasyInputMessage(content=[], role='user', type='message')], metadata={}, model='gpt-4o-mini-2024-07-18', object='response', output=[ResponseOutputMessage(id='msg_68be2dc9b8308193a0c4b6e3d191cdfc0d9cdaa0cc8eda07', content=[ResponseOutputText(annotations=[], text='오늘 날짜와 장소를 알려주시면 날씨 정보를 확인해드릴 수 있어요. 특정 도시나 지역이 있나요?', type='output_text', logprobs=[])], role='assistant', status='completed', type='message')], parallel_tool_calls=True, temperature=1.0, tool_choice='auto', tools=[], top_p=1.0, background=False, conversation=None, max_output_tokens=2048, max_tool_calls=None, previous_response_id=None, prompt=ResponsePrompt(id='pmpt_68be2d97305c8195941156f298a93f300b420d6db9bc0a63', variables={}, version='1'), prompt_cache_key=None, reasoning=Reasoning(effort=None, generate_summary=None, summary=None), safety_identifier=None, service_tier='default', status='completed', text=ResponseTextConfig(format=ResponseFormatText(type='text'), verbosity='medium'), top_logprobs=0, truncation='disabled', usage=ResponseUsage(input_tokens=45, input_tokens_details=InputTokensDetails(cached_tokens=0), output_tokens=28, output_tokens_details=OutputTokensDetails(reasoning_tokens=0), total_tokens=73), user=None, store=True)"
      ]
     },
     "execution_count": 2,
     "metadata": {},
     "output_type": "execute_result"
    }
   ],
   "source": [
    "response"
   ]
  },
  {
   "cell_type": "code",
   "execution_count": 3,
   "id": "cbbae5a9",
   "metadata": {},
   "outputs": [
    {
     "data": {
      "text/plain": [
       "'오늘 날짜와 장소를 알려주시면 날씨 정보를 확인해드릴 수 있어요. 특정 도시나 지역이 있나요?'"
      ]
     },
     "execution_count": 3,
     "metadata": {},
     "output_type": "execute_result"
    }
   ],
   "source": [
    "response.output[0].content[0].text"
   ]
  },
  {
   "cell_type": "markdown",
   "id": "1000d23c",
   "metadata": {},
   "source": [
    "# chat completion api"
   ]
  },
  {
   "cell_type": "code",
   "execution_count": 4,
   "id": "ee78d5dc",
   "metadata": {},
   "outputs": [],
   "source": [
    "from openai import OpenAI\n",
    "client = OpenAI()\n",
    "\n",
    "response = client.chat.completions.create(\n",
    "  model=\"gpt-4o-mini\",\n",
    "  messages=[\n",
    "    {\n",
    "      \"role\": \"system\",\n",
    "      \"content\": [\n",
    "        {\n",
    "          \"type\": \"text\",\n",
    "          \"text\": \"답변을 할 때 항상 세부 목록을 만들어서 제공해줘\"\n",
    "        }\n",
    "      ]\n",
    "    },\n",
    "    {\n",
    "      \"role\": \"user\",\n",
    "      \"content\": [\n",
    "        {\n",
    "          \"type\": \"text\",\n",
    "          \"text\": \"하늘은\"\n",
    "        }\n",
    "      ]\n",
    "    },\n",
    "    {\n",
    "      \"role\": \"assistant\",\n",
    "      \"content\": [\n",
    "        {\n",
    "          \"type\": \"text\",\n",
    "          \"text\": \"\\\"하늘은\\\"에 관한 주제를 세부적으로 정리해드릴게요.\\n\\n### 1. 하늘의 정의\\n   - 지구의 대기\\n   - 우주와의 경계\\n\\n### 2. 하늘의 색상 변화\\n   - 낮의 파란 하늘\\n   - 저녁 노을\\n   - 밤의 별빛\\n\\n### 3. 하늘의 구성 요소\\n   - 구름\\n   - 태양\\n   - 달\\n   - 별\\n\\n### 4. 하늘의 역할\\n   - 기후 조절\\n   - 생태계의 유지\\n   - 항공 및 우주 탐사\\n\\n### 5. 하늘과 문화\\n   - 신화와 전설\\n   - 예술에서의 표현\\n   - 시와 문학 속의 하늘\\n\\n### 6. 현대의 하늘 관측\\n   - 천문학\\n   - 기상 관측\\n   - 항공 관제\\n\\n더 알고 싶은 부분이 있으면 말씀해 주세요!\"\n",
    "        }\n",
    "      ]\n",
    "    }\n",
    "  ],\n",
    "  response_format={\n",
    "    \"type\": \"text\"\n",
    "  },\n",
    "  temperature=1,\n",
    "  max_completion_tokens=10000,\n",
    "  top_p=1,\n",
    "  frequency_penalty=0,\n",
    "  presence_penalty=0\n",
    ")"
   ]
  },
  {
   "cell_type": "code",
   "execution_count": 5,
   "id": "ffd495b6",
   "metadata": {},
   "outputs": [
    {
     "data": {
      "text/plain": [
       "'\"하늘은\"에 관한 내용을 더 깊이 있게 다뤄보겠습니다. 아래 내용을 참고해 주세요.\\n\\n### 1. 하늘의 정의\\n   - **대기**: 지구를 둘러싸고 있는 기체의 층으로, 다양한 기상 현상이 발생.\\n   - **우주**: 지구 위의 광대한 공간으로 별, 행성과 같은 천체가 존재.\\n\\n### 2. 하늘의 색상 변화\\n   - **낮의 파란 하늘**: 대기 중의 산란에 의해 나타나는 파란색.\\n   - **저녁 노을**: 햇빛의 경로 변화로 여러 색상(주황, 빨강)으로 변함.\\n   - **밤의 별빛**: 별, 달, 행성의 가시성, 우주 공간의 검은 배경.\\n\\n### 3. 하늘의 구성 요소\\n   - **구름**: 수증기가 응결되어 형성된 기상 현상, 다양한 종류(적운, 층운 등).\\n   - **태양**: 생명의 원천, 낮과 밤의 주기를 결정.\\n   - **달**: 지구의 유일한 위성, 조수 간만의 차이와 밤 하늘의 밝기를 결정.\\n   - **별**: 우주의 천체로, 거리와 크기에 따라 다양한 밝기.\\n\\n### 4. 하늘의 역할\\n   - **기후 조절**: 대기의 순환과 구름 형성을 통해 날씨 패턴에 기여.\\n   - **생태계의 유지**: 태양의 빛과 물질 순환을 통해 생물 다양성 지원.\\n   - **항공 및 우주 탐사**: 비행기 및 우주선이 이동하는 공간으로 인간 활동의 필수 요소.\\n\\n### 5. 하늘과 문화\\n   - **신화와 전설**: 여러 민족의 신과 신화에 관련된 하늘 이야기.\\n   - **예술에서의 표현**: 회화, 시, 음악 등 다양한 예술작품에 하늘이 주제로 사용됨.\\n   - **시와 문학 속의 하늘**: 감정과 사상을 담은 상징적 표현, 예를 들어 절망이나 희망.\\n\\n### 6. 현대의 하늘 관측\\n   - **천문학**: 별, 행성, 우주 현상 연구로 인류의 이해를 깊게 함.\\n   - **기상 관측**: 날씨 예보 및 기후 변화 연구를 위한 기술적 접근.\\n   - **항공 관제**: 비행기의 안전한 운항을 위한 하늘 공간의 관리.\\n\\n더 궁금한 점이나 특정 주제에 대해 더 알고 싶으시면 말씀해 주세요!'"
      ]
     },
     "execution_count": 5,
     "metadata": {},
     "output_type": "execute_result"
    }
   ],
   "source": [
    "response.choices[0].message.content"
   ]
  }
 ],
 "metadata": {
  "kernelspec": {
   "display_name": "prompting_env",
   "language": "python",
   "name": "python3"
  },
  "language_info": {
   "codemirror_mode": {
    "name": "ipython",
    "version": 3
   },
   "file_extension": ".py",
   "mimetype": "text/x-python",
   "name": "python",
   "nbconvert_exporter": "python",
   "pygments_lexer": "ipython3",
   "version": "3.12.11"
  }
 },
 "nbformat": 4,
 "nbformat_minor": 5
}
