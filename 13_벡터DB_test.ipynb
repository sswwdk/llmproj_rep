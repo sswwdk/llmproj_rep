{
 "cells": [
  {
   "cell_type": "markdown",
   "id": "fc92c710",
   "metadata": {},
   "source": [
    "pinecone"
   ]
  },
  {
   "cell_type": "code",
   "execution_count": 10,
   "id": "1b4c1923",
   "metadata": {},
   "outputs": [],
   "source": [
    "from dotenv import load_dotenv\n",
    "import os\n",
    "# .env 파일에서 환경 변수를 로드합니다.\n",
    "load_dotenv()\n",
    "\n",
    "# 환경 변수에서 PINECONE_API_KEY를 가져옵니다.\n",
    "PINECONE_API_KEY = os.environ['PINECONE_API_KEY']"
   ]
  },
  {
   "cell_type": "markdown",
   "id": "6eb7ddbb",
   "metadata": {},
   "source": [
    "# index 생성"
   ]
  },
  {
   "cell_type": "code",
   "execution_count": null,
   "id": "92f0d9a1",
   "metadata": {},
   "outputs": [
    {
     "name": "stdout",
     "output_type": "stream",
     "text": [
      "Collecting pinecone\n",
      "  Downloading pinecone-7.3.0-py3-none-any.whl.metadata (9.5 kB)\n",
      "Requirement already satisfied: certifi>=2019.11.17 in c:\\users\\admin\\miniconda3\\envs\\prompting_env\\lib\\site-packages (from pinecone) (2025.8.3)\n",
      "Collecting pinecone-plugin-assistant<2.0.0,>=1.6.0 (from pinecone)\n",
      "  Downloading pinecone_plugin_assistant-1.8.0-py3-none-any.whl.metadata (30 kB)\n",
      "Collecting pinecone-plugin-interface<0.0.8,>=0.0.7 (from pinecone)\n",
      "  Downloading pinecone_plugin_interface-0.0.7-py3-none-any.whl.metadata (1.2 kB)\n",
      "Requirement already satisfied: python-dateutil>=2.5.3 in c:\\users\\admin\\miniconda3\\envs\\prompting_env\\lib\\site-packages (from pinecone) (2.9.0.post0)\n",
      "Requirement already satisfied: typing-extensions>=3.7.4 in c:\\users\\admin\\miniconda3\\envs\\prompting_env\\lib\\site-packages (from pinecone) (4.15.0)\n",
      "Requirement already satisfied: urllib3>=1.26.5 in c:\\users\\admin\\miniconda3\\envs\\prompting_env\\lib\\site-packages (from pinecone) (2.5.0)\n",
      "Collecting packaging<25.0,>=24.2 (from pinecone-plugin-assistant<2.0.0,>=1.6.0->pinecone)\n",
      "  Downloading packaging-24.2-py3-none-any.whl.metadata (3.2 kB)\n",
      "Requirement already satisfied: requests<3.0.0,>=2.32.3 in c:\\users\\admin\\miniconda3\\envs\\prompting_env\\lib\\site-packages (from pinecone-plugin-assistant<2.0.0,>=1.6.0->pinecone) (2.32.5)\n",
      "Requirement already satisfied: charset_normalizer<4,>=2 in c:\\users\\admin\\miniconda3\\envs\\prompting_env\\lib\\site-packages (from requests<3.0.0,>=2.32.3->pinecone-plugin-assistant<2.0.0,>=1.6.0->pinecone) (3.4.3)\n",
      "Requirement already satisfied: idna<4,>=2.5 in c:\\users\\admin\\miniconda3\\envs\\prompting_env\\lib\\site-packages (from requests<3.0.0,>=2.32.3->pinecone-plugin-assistant<2.0.0,>=1.6.0->pinecone) (3.10)\n",
      "Requirement already satisfied: six>=1.5 in c:\\users\\admin\\miniconda3\\envs\\prompting_env\\lib\\site-packages (from python-dateutil>=2.5.3->pinecone) (1.17.0)\n",
      "Downloading pinecone-7.3.0-py3-none-any.whl (587 kB)\n",
      "   ---------------------------------------- 0.0/587.6 kB ? eta -:--:--\n",
      "   ---------------------------------------- 587.6/587.6 kB 10.5 MB/s  0:00:00\n",
      "Downloading pinecone_plugin_assistant-1.8.0-py3-none-any.whl (259 kB)\n",
      "Downloading packaging-24.2-py3-none-any.whl (65 kB)\n",
      "Downloading pinecone_plugin_interface-0.0.7-py3-none-any.whl (6.2 kB)\n",
      "Installing collected packages: pinecone-plugin-interface, packaging, pinecone-plugin-assistant, pinecone\n",
      "\n",
      "  Attempting uninstall: packaging\n",
      "\n",
      "    Found existing installation: packaging 25.0\n",
      "\n",
      "    Uninstalling packaging-25.0:\n",
      "\n",
      "      Successfully uninstalled packaging-25.0\n",
      "\n",
      "   -------------------- ------------------- 2/4 [pinecone-plugin-assistant]\n",
      "   ------------------------------ --------- 3/4 [pinecone]\n",
      "   ------------------------------ --------- 3/4 [pinecone]\n",
      "   ------------------------------ --------- 3/4 [pinecone]\n",
      "   ------------------------------ --------- 3/4 [pinecone]\n",
      "   ---------------------------------------- 4/4 [pinecone]\n",
      "\n",
      "Successfully installed packaging-24.2 pinecone-7.3.0 pinecone-plugin-assistant-1.8.0 pinecone-plugin-interface-0.0.7\n",
      "Note: you may need to restart the kernel to use updated packages.\n"
     ]
    },
    {
     "name": "stderr",
     "output_type": "stream",
     "text": [
      "ERROR: pip's dependency resolver does not currently take into account all the packages that are installed. This behaviour is the source of the following dependency conflicts.\n",
      "langchain-upstage 0.7.3 requires tokenizers<0.21.0,>=0.20.0, but you have tokenizers 0.22.0 which is incompatible.\n"
     ]
    }
   ],
   "source": [
    "# pip install pinecone"
   ]
  },
  {
   "cell_type": "code",
   "execution_count": 11,
   "id": "e612ed8c",
   "metadata": {},
   "outputs": [],
   "source": [
    "from pinecone import Pinecone\n",
    "\n",
    "# 클라이언트 생성\n",
    "pinecone_client = Pinecone(api_key=PINECOME_API_KEY)"
   ]
  },
  {
   "cell_type": "code",
   "execution_count": 12,
   "id": "922f5cd6",
   "metadata": {},
   "outputs": [
    {
     "data": {
      "text/plain": [
       "<pinecone.pinecone.Pinecone at 0x1d355f1cb30>"
      ]
     },
     "execution_count": 12,
     "metadata": {},
     "output_type": "execute_result"
    }
   ],
   "source": [
    "pinecone_client"
   ]
  },
  {
   "cell_type": "code",
   "execution_count": 14,
   "id": "6bca9a8f",
   "metadata": {},
   "outputs": [
    {
     "data": {
      "text/plain": [
       "{\n",
       "    \"name\": \"embedding-3d\",\n",
       "    \"metric\": \"cosine\",\n",
       "    \"host\": \"embedding-3d-1az4ojo.svc.aped-4627-b74a.pinecone.io\",\n",
       "    \"spec\": {\n",
       "        \"serverless\": {\n",
       "            \"cloud\": \"aws\",\n",
       "            \"region\": \"us-east-1\"\n",
       "        }\n",
       "    },\n",
       "    \"status\": {\n",
       "        \"ready\": true,\n",
       "        \"state\": \"Ready\"\n",
       "    },\n",
       "    \"vector_type\": \"dense\",\n",
       "    \"dimension\": 3,\n",
       "    \"deletion_protection\": \"disabled\",\n",
       "    \"tags\": null\n",
       "}"
      ]
     },
     "execution_count": 14,
     "metadata": {},
     "output_type": "execute_result"
    }
   ],
   "source": [
    "from pinecone import ServerlessSpec\n",
    "pinecone_client.create_index(\n",
    "    name='embedding-3d',\n",
    "    dimension=3,\n",
    "    metric='cosine',\n",
    "    spec=ServerlessSpec(\n",
    "        cloud='aws',\n",
    "        region='us-east-1'\n",
    "    )\n",
    ")"
   ]
  },
  {
   "cell_type": "code",
   "execution_count": 15,
   "id": "621c7b32",
   "metadata": {},
   "outputs": [
    {
     "name": "stderr",
     "output_type": "stream",
     "text": [
      "c:\\Users\\Admin\\miniconda3\\envs\\prompting_env\\Lib\\site-packages\\tqdm\\auto.py:21: TqdmWarning: IProgress not found. Please update jupyter and ipywidgets. See https://ipywidgets.readthedocs.io/en/stable/user_install.html\n",
      "  from .autonotebook import tqdm as notebook_tqdm\n"
     ]
    },
    {
     "data": {
      "text/plain": [
       "<pinecone.db_data.index.Index at 0x1d355f237d0>"
      ]
     },
     "execution_count": 15,
     "metadata": {},
     "output_type": "execute_result"
    }
   ],
   "source": [
    "index = pinecone_client.Index('embedding-3d')\n",
    "index"
   ]
  },
  {
   "cell_type": "code",
   "execution_count": null,
   "id": "79f5a475",
   "metadata": {},
   "outputs": [
    {
     "data": {
      "text/plain": [
       "{'dimension': 3,\n",
       " 'index_fullness': 0.0,\n",
       " 'metric': 'cosine',\n",
       " 'namespaces': {},\n",
       " 'total_vector_count': 0,\n",
       " 'vector_type': 'dense'}"
      ]
     },
     "execution_count": 16,
     "metadata": {},
     "output_type": "execute_result"
    }
   ],
   "source": [
    "index.describe_index_stats() # 'total_vector_count': 0"
   ]
  },
  {
   "cell_type": "code",
   "execution_count": null,
   "id": "b36c230c",
   "metadata": {},
   "outputs": [],
   "source": [
    "for ids in index.list(namespace='embedding-3d-ns1'):\n",
    "    print(ids) # 없어서 안나옴"
   ]
  },
  {
   "cell_type": "markdown",
   "id": "defd3a59",
   "metadata": {},
   "source": [
    "# pinecone data 형식\n",
    "      \n",
    "[{ 'id' : 'vec1' , 'values' : [1.0, 1.5, 2.0] , 'metadata' : {'genre':'drama'}},      \n",
    "{ 'id' : 'vec2' , 'values' : [2.0, 0.5, 0.5] , 'metadata' : {'genre':'action'}},       \n",
    "{ 'id' : 'vec3' , 'values' : [0.1, 0.3, 0.5] , 'metadata' : {'genre':'drama'}},     \n",
    "{ 'id' : 'vec4' , 'values' : [1.0, 2.5, 3.5] , 'metadata' : {'genre':'action'}},     \n",
    "{ 'id' : 'vec5' , 'values' : [3.0, 1.2, 1.3] , 'metadata' : {'genre':'action'}},    \n",
    "{ 'id' : 'vec6' , 'values' : [0.3, 1.1, 2.5] , 'metadata' : {'genre':'drama'}},     \n",
    "]    "
   ]
  },
  {
   "cell_type": "code",
   "execution_count": 20,
   "id": "6f786aad",
   "metadata": {},
   "outputs": [
    {
     "data": {
      "text/plain": [
       "{'upserted_count': 6}"
      ]
     },
     "execution_count": 20,
     "metadata": {},
     "output_type": "execute_result"
    }
   ],
   "source": [
    "index.upsert( # update + insert\n",
    "[\n",
    "    { 'id' : 'vec1' , 'values' : [1.0, 1.5, 2.0] , 'metadata' : {'genre':'drama'}},\n",
    "    { 'id' : 'vec2' , 'values' : [2.0, 0.5, 0.5] , 'metadata' : {'genre':'action'}},\n",
    "    { 'id' : 'vec3' , 'values' : [0.1, 0.3, 0.5] , 'metadata' : {'genre':'drama'}},\n",
    "    { 'id' : 'vec4' , 'values' : [1.0, 2.5, 3.5] , 'metadata' : {'genre':'action'}},\n",
    "    { 'id' : 'vec5' , 'values' : [3.0, 1.2, 1.3] , 'metadata' : {'genre':'action'}},\n",
    "    { 'id' : 'vec6' , 'values' : [0.3, 1.1, 2.5] , 'metadata' : {'genre':'drama'}},\n",
    "], namespace='embedding-3d-ns1'\n",
    ")"
   ]
  },
  {
   "cell_type": "code",
   "execution_count": null,
   "id": "a67d61e1",
   "metadata": {},
   "outputs": [
    {
     "data": {
      "text/plain": [
       "{'dimension': 3,\n",
       " 'index_fullness': 0.0,\n",
       " 'metric': 'cosine',\n",
       " 'namespaces': {'embedding-3d-ns1': {'vector_count': 6}},\n",
       " 'total_vector_count': 6,\n",
       " 'vector_type': 'dense'}"
      ]
     },
     "execution_count": 21,
     "metadata": {},
     "output_type": "execute_result"
    }
   ],
   "source": [
    "index.describe_index_stats() # 'total_vector_count': 6"
   ]
  },
  {
   "cell_type": "code",
   "execution_count": 22,
   "id": "3daed66e",
   "metadata": {},
   "outputs": [
    {
     "name": "stdout",
     "output_type": "stream",
     "text": [
      "['vec1', 'vec2', 'vec3', 'vec4', 'vec5', 'vec6']\n"
     ]
    }
   ],
   "source": [
    "for ids in index.list(namespace='embedding-3d-ns1'):\n",
    "    print(ids)"
   ]
  },
  {
   "cell_type": "markdown",
   "id": "19574ed8",
   "metadata": {},
   "source": [
    "# query"
   ]
  },
  {
   "cell_type": "code",
   "execution_count": 25,
   "id": "5d583192",
   "metadata": {},
   "outputs": [
    {
     "data": {
      "text/plain": [
       "{'matches': [{'id': 'vec3',\n",
       "              'metadata': {'genre': 'drama'},\n",
       "              'score': 1.00008953,\n",
       "              'values': [0.1, 0.3, 0.5]},\n",
       "             {'id': 'vec6',\n",
       "              'metadata': {'genre': 'drama'},\n",
       "              'score': 0.99550879,\n",
       "              'values': [0.3, 1.1, 2.5]},\n",
       "             {'id': 'vec1',\n",
       "              'metadata': {'genre': 'drama'},\n",
       "              'score': 0.961182,\n",
       "              'values': [1.0, 1.5, 2.0]}],\n",
       " 'namespace': 'embedding-3d-ns1',\n",
       " 'usage': {'read_units': 1}}"
      ]
     },
     "execution_count": 25,
     "metadata": {},
     "output_type": "execute_result"
    }
   ],
   "source": [
    "response = index.query(\n",
    "    namespace='embedding-3d-ns1',\n",
    "    vector=[0.1, 0.4, 0.7],\n",
    "    top_k=3,\n",
    "    include_values=True,\n",
    "    include_metadata=True,\n",
    "    filter={'genre': {'$eq':'drama'}} \n",
    ")\n",
    "\n",
    "response"
   ]
  },
  {
   "cell_type": "code",
   "execution_count": null,
   "id": "88c1ae59",
   "metadata": {},
   "outputs": [],
   "source": []
  }
 ],
 "metadata": {
  "kernelspec": {
   "display_name": "prompting_env",
   "language": "python",
   "name": "python3"
  },
  "language_info": {
   "codemirror_mode": {
    "name": "ipython",
    "version": 3
   },
   "file_extension": ".py",
   "mimetype": "text/x-python",
   "name": "python",
   "nbconvert_exporter": "python",
   "pygments_lexer": "ipython3",
   "version": "3.12.11"
  }
 },
 "nbformat": 4,
 "nbformat_minor": 5
}
