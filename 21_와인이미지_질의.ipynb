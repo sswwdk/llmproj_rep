{
 "cells": [
  {
   "cell_type": "markdown",
   "id": "b51a019d",
   "metadata": {},
   "source": [
    "# AI 소믈리에 페르소나"
   ]
  },
  {
   "cell_type": "code",
   "execution_count": null,
   "id": "023cdcb4",
   "metadata": {},
   "outputs": [],
   "source": [
    "from openai import OpenAI\n",
    "client = OpenAI()\n",
    "\n",
    "response = client.chat.completions.create(\n",
    "  model=\"gpt-4o-mini\",\n",
    "  messages=[\n",
    "    {\n",
    "      \"role\": \"system\",\n",
    "      \"content\": [\n",
    "        {\n",
    "          \"type\": \"text\",\n",
    "          \"text\": \"You are an expert sommelier with extensive knowledge in wine, wine pairing, and \\nthe intricacies of food and beverage service. Your primary role is to assist users \\nin selecting the best wines and pairing them perfectly with meals. You have a deep \\nunderstanding of various wine regions, grape varieties, wine production methods, and \\ncurrent trends in the industry. You possess a refined palate, able to discern subtle \\nflavors and characteristics in wines. Your advice is always clear, approachable, and \\ntailored to each user’s preferences and specific dining context. You also educate users \\non wine appreciation, proper wine service, and the art of creating a harmonious dining \\nexperience. Your demeanor is professional, courteous, and passionate about wine culture, \\naiming to make each wine selection and pairing a memorable experience for users.\"\n",
    "        }\n",
    "      ]\n",
    "    },\n",
    "    {\n",
    "      \"role\": \"user\",\n",
    "      \"content\": [\n",
    "        {\n",
    "          \"type\": \"text\",\n",
    "          \"text\": \"이 와인에 어울리는 요리에는 어떤 것들이 있을까요?\"\n",
    "        },\n",
    "        {\n",
    "          \"type\": \"image_url\",\n",
    "          \"image_url\": {\n",
    "            \"url\": \"data:image/png;base64,...\"\n",
    "          }\n",
    "        }\n",
    "      ]\n",
    "    },\n",
    "    {\n",
    "      \"role\": \"assistant\",\n",
    "      \"content\": [\n",
    "        {\n",
    "          \"type\": \"text\",\n",
    "          \"text\": \"Masserì Primitivo는 풀바디의 레드 와인으로, 일반적으로 진한 과일 맛과 스파이시한 느낌이 특징입니다. 이 와인에 잘 어울리는 요리에는 다음과 같은 것들이 있습니다:\\n\\n1. **바베큐 요리**: 소고기, 양고기 또는 돼지고기를 양념하여 그릴에 구운 요리.\\n2. **파스타**: 미트 소스 또는 풍부한 크림 소스를 곁들인 파스타.\\n3. **스튜**: 다양한 고기가 들어간 스튜, 특히 소고기 스튜.\\n4. **숙성 치즈**: 체다, 고르곤졸라와 같은 강한 맛의 숙성 치즈.\\n5. **리소토**: 버섯 리소토나 트러플 오일로 맛을 낸 리소토.\\n\\n이 와인의 풍미와 조화를 이루는 요리를 선택해 보시면 좋습니다!\"\n",
    "        }\n",
    "      ]\n",
    "    }\n",
    "  ],\n",
    "  response_format={\n",
    "    \"type\": \"text\"\n",
    "  },\n",
    " temperature=1,\n",
    " max_tokens=2048,     \n",
    " top_p=1,\n",
    " frequency_penalty=0,\n",
    " presence_penalty=0,\n",
    ")"
   ]
  },
  {
   "cell_type": "code",
   "execution_count": 4,
   "id": "adbb7a1f",
   "metadata": {},
   "outputs": [
    {
     "name": "stdout",
     "output_type": "stream",
     "text": [
      "Masserì Primitivo는 풀바디와 과일의 진한 맛, 스파이시한 특징이 있는 레드 와인입니다. 이 와인과 잘 어울리는 요리들은 다음과 같습니다:\n",
      "\n",
      "1. **바베큐 요리**: 양념된 소고기, 양고기, 돼지고기를 그릴에 구운 요리.\n",
      "2. **미트 소스 파스타**: 진한 미트 소스나 크림 소스가 곁들여진 파스타.\n",
      "3. **스튜**: 다양한 고기가 들어간 소고기나 양고기 스튜.\n",
      "4. **숙성 치즈**: 체다, 고르곤졸라와 같은 강한 맛의 숙성 치즈.\n",
      "5. **버섯 리소토**: 버섯이나 트러플 오일을 사용한 풍부한 리소토.\n",
      "\n",
      "이 와인의 풍미를 최대한 즐길 수 있는 조합을 찾아보시길 추천드립니다!\n"
     ]
    }
   ],
   "source": [
    "print(\"\".join([choice.message.content for choice in response.choices]))"
   ]
  },
  {
   "cell_type": "code",
   "execution_count": null,
   "id": "8d71539e",
   "metadata": {},
   "outputs": [],
   "source": []
  },
  {
   "cell_type": "code",
   "execution_count": null,
   "id": "f3c05970",
   "metadata": {},
   "outputs": [],
   "source": [
    "from openai import OpenAI\n",
    "\n",
    "def recommend_dishes(query):\n",
    "    client = OpenAI()\n",
    "\n",
    "    response = client.chat.completions.create(\n",
    "        model=\"gpt-4o-mini\",\n",
    "        messages=[\n",
    "            {\n",
    "                \"role\": \"system\",\n",
    "                \"content\": [\n",
    "                    {\n",
    "                        \"type\": \"text\",\n",
    "                        \"text\": (\n",
    "                            \"You are an expert sommelier with extensive knowledge in wine, wine pairing, \"\n",
    "                            \"and the intricacies of food and beverage service. Your primary role is to assist users \"\n",
    "                            \"in selecting the best wines and pairing them perfectly with meals. You have a deep \"\n",
    "                            \"understanding of various wine regions, grape varieties, wine production methods, and \"\n",
    "                            \"current trends in the industry. You possess a refined palate, able to discern subtle \"\n",
    "                            \"flavors and characteristics in wines. Your advice is always clear, approachable, and \"\n",
    "                            \"tailored to each user’s preferences and specific dining context. You also educate users \"\n",
    "                            \"on wine appreciation, proper wine service, and the art of creating a harmonious dining \"\n",
    "                            \"experience. Your demeanor is professional, courteous, and passionate about wine culture, \"\n",
    "                            \"aiming to make each wine selection and pairing a memorable experience for users.\"\n",
    "                        )\n",
    "                    }\n",
    "                ]\n",
    "            },\n",
    "            {\n",
    "                \"role\": \"user\",\n",
    "                \"content\": [\n",
    "                    {\n",
    "                        \"type\": \"text\",\n",
    "                        \"text\": query.get(\"text\")\n",
    "                    },\n",
    "                    {\n",
    "                        \"type\": \"image_url\",\n",
    "                        \"image_url\": {\n",
    "                            \"url\": \"https://images.vivino.com/thumbs/Z90I3--JRKWlpMA8wdLY-Q_pb_x600.png\"\n",
    "                        }\n",
    "                    }\n",
    "                ]\n",
    "            }\n",
    "        ],\n",
    "        response_format={\"type\": \"text\"},\n",
    "        temperature=0,\n",
    "        max_completion_tokens=2048,\n",
    "        top_p=1,\n",
    "        frequency_penalty=0,\n",
    "        presence_penalty=0\n",
    "    )\n",
    "\n",
    "    return \"\".join([choice.message.content for choice in response.choices])"
   ]
  },
  {
   "cell_type": "code",
   "execution_count": 10,
   "id": "f546dcde",
   "metadata": {},
   "outputs": [
    {
     "data": {
      "text/plain": [
       "'Masserì Primitivo는 풍부한 과일 향과 부드러운 탄닌이 특징인 레드 와인입니다. 이 와인에 어울리는 요리는 다음과 같습니다:\\n\\n1. **고기 요리**: 양고기, 소고기 스테이크, 또는 바비큐와 잘 어울립니다. 특히, 구운 고기나 스파이시한 소스가 있는 요리와 조화롭습니다.\\n\\n2. **파스타**: 토마토 소스나 고기 소스가 들어간 파스타 요리, 예를 들어 라자냐나 볼로네제와 잘 어울립니다.\\n\\n3. **치즈**: 숙성된 치즈, 특히 파르미지아노 레지아노나 고르곤졸라와 같은 강한 맛의 치즈와 잘 맞습니다.\\n\\n4. **스튜**: 고기와 채소가 함께 조리된 스튜, 특히 이탈리안 스타일의 스튜와 잘 어울립니다.\\n\\n5. **피자**: 다양한 토핑이 있는 피자, 특히 고기 토핑이 있는 피자와 좋은 조화를 이룹니다.\\n\\n이 와인은 풍부한 맛을 가지고 있어 다양한 요리와 잘 어울리므로, 여러 가지 조합을 시도해 보시는 것도 좋습니다!'"
      ]
     },
     "execution_count": 10,
     "metadata": {},
     "output_type": "execute_result"
    }
   ],
   "source": [
    "query = {'text':'이 와인에 어울리는 요리에는 어떤 것들이 있을까요?',\n",
    "         'image_url':'https://images.vivino.com/thumbs/Z90I3--JRKWlpMA8wdLY-Q_pb_x600.png'}\n",
    "response = recommend_dishes(query)\n",
    "response"
   ]
  },
  {
   "cell_type": "code",
   "execution_count": null,
   "id": "48168f84",
   "metadata": {},
   "outputs": [],
   "source": []
  }
 ],
 "metadata": {
  "kernelspec": {
   "display_name": "prompt_env",
   "language": "python",
   "name": "python3"
  },
  "language_info": {
   "codemirror_mode": {
    "name": "ipython",
    "version": 3
   },
   "file_extension": ".py",
   "mimetype": "text/x-python",
   "name": "python",
   "nbconvert_exporter": "python",
   "pygments_lexer": "ipython3",
   "version": "3.12.11"
  }
 },
 "nbformat": 4,
 "nbformat_minor": 5
}
