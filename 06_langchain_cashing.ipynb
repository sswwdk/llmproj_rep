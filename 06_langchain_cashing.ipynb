{
 "cells": [
  {
   "cell_type": "code",
   "execution_count": 1,
   "id": "9dcf4f8e",
   "metadata": {},
   "outputs": [
    {
     "data": {
      "text/plain": [
       "'0.3.27'"
      ]
     },
     "execution_count": 1,
     "metadata": {},
     "output_type": "execute_result"
    }
   ],
   "source": [
    "import langchain\n",
    "langchain.__version__"
   ]
  },
  {
   "cell_type": "code",
   "execution_count": 2,
   "id": "05e52729",
   "metadata": {},
   "outputs": [
    {
     "data": {
      "text/plain": [
       "ChatOpenAI(client=<openai.resources.chat.completions.completions.Completions object at 0x0000023286DF2ED0>, async_client=<openai.resources.chat.completions.completions.AsyncCompletions object at 0x00000232868B11F0>, root_client=<openai.OpenAI object at 0x0000023286841AF0>, root_async_client=<openai.AsyncOpenAI object at 0x0000023286956840>, model_name='gpt-4o-mini', model_kwargs={}, openai_api_key=SecretStr('**********'))"
      ]
     },
     "execution_count": 2,
     "metadata": {},
     "output_type": "execute_result"
    }
   ],
   "source": [
    "from langchain_openai import ChatOpenAI\n",
    "llm = ChatOpenAI(model='gpt-4o-mini')\n",
    "llm"
   ]
  },
  {
   "cell_type": "code",
   "execution_count": 3,
   "id": "11ac5a9d",
   "metadata": {},
   "outputs": [
    {
     "data": {
      "text/plain": [
       "AIMessage(content='서울에서 대표적인 음식을 맛볼 수 있는 레스토랑 5곳을 추천합니다:\\n\\n1. **광화문 미진**  \\n   - **특징**: 전통적인 육회비빔밥과 불고기가 유명한 곳으로, 깔끔한 해장국도 인기가 많습니다. 전통적인 한국 분위기를 느낄 수 있습니다.\\n\\n2. **명동교자**  \\n   - **특징**: 칼국수가 유명한 이곳은 쫄깃한 면과 진한 국물 맛으로 많은 사랑을 받고 있습니다. 만두와 함께 제공되는 칼국수는 꼭 한 번 맛봐야 할 메뉴입니다.\\n\\n3. **삼청동 수제비**  \\n   - **특징**: 수제비와 전통 한식을 전문으로 한 레스토랑으로, 푸짐하고 자연스러운 맛을 자랑합니다. 특히 계절별 재료를 사용한 메뉴가 인기입니다.\\n\\n4. **토속촌 삼계탕**  \\n   - **특징**: 전통 삼계탕을 즐길 수 있는 곳으로, 여름철 보양식으로 잘 알려져 있습니다. 신선한 재료로 끓인 건강한 삼계탕이 몸에 좋습니다.\\n\\n5. **청기와대**  \\n   - **특징**: 다양한 전통 한식을 제공하는 레스토랑으로, 전통 반찬과 함께 차려주는 한정식이 특히 인기입니다. 고급스러운 분위기에서 한국의 맛을 경험할 수 있습니다.\\n\\n이들 레스토랑은 서울의 전통적인 맛을 잘 살리고 있어 많은 관광객과 현지인들에게 사랑받고 있습니다. 즐거운 식사 되세요!', additional_kwargs={'refusal': None}, response_metadata={'token_usage': {'completion_tokens': 370, 'prompt_tokens': 28, 'total_tokens': 398, 'completion_tokens_details': {'accepted_prediction_tokens': 0, 'audio_tokens': 0, 'reasoning_tokens': 0, 'rejected_prediction_tokens': 0}, 'prompt_tokens_details': {'audio_tokens': 0, 'cached_tokens': 0}}, 'model_name': 'gpt-4o-mini-2024-07-18', 'system_fingerprint': 'fp_8bda4d3a2c', 'id': 'chatcmpl-CDMRmZFSQKv0oGvUHWOB2LzRNAyRx', 'service_tier': 'default', 'finish_reason': 'stop', 'logprobs': None}, id='run--781d23cc-df7d-414c-8a6f-41212f76b58f-0', usage_metadata={'input_tokens': 28, 'output_tokens': 370, 'total_tokens': 398, 'input_token_details': {'audio': 0, 'cache_read': 0}, 'output_token_details': {'audio': 0, 'reasoning': 0}})"
      ]
     },
     "execution_count": 3,
     "metadata": {},
     "output_type": "execute_result"
    }
   ],
   "source": [
    "from langchain_core.messages import HumanMessage\n",
    "message = [\n",
    "    HumanMessage(content=\"서울을 대표하는 음식을 맛볼 수 있는 레스토랑 5개를 추천해 주세요.\")\n",
    "]\n",
    "response = llm.invoke(message) # 6.0s\n",
    "response"
   ]
  },
  {
   "cell_type": "markdown",
   "id": "966ee97f",
   "metadata": {},
   "source": [
    "# Cashing\n",
    "1. inmemorycache\n",
    "2. cache db"
   ]
  },
  {
   "cell_type": "code",
   "execution_count": 4,
   "id": "03b761d9",
   "metadata": {},
   "outputs": [],
   "source": [
    "from langchain_core.globals import set_llm_cache\n",
    "from langchain_core.caches import InMemoryCache\n",
    "\n",
    "set_llm_cache( InMemoryCache())"
   ]
  },
  {
   "cell_type": "code",
   "execution_count": 5,
   "id": "78c221c8",
   "metadata": {},
   "outputs": [
    {
     "data": {
      "text/plain": [
       "AIMessage(content='서울에서 전통적인 한국 음식을 맛볼 수 있는 레스토랑 다섯 곳을 추천해 드립니다.\\n\\n1. **광장시장** - 다양한 전통 음식을 맛볼 수 있는 재래시장이며, 특히 빈대떡, 김밥, 떡볶이 등을 즐길 수 있는 포장마차가 많이 있습니다. 현지 음식의 다양성을 경험할 수 있는 곳입니다.\\n\\n2. **Ssamzigil (쌈지길)** - 인사동에 위치한 이 복합문화공간에서는 한국의 전통 음식과 현대적인 퓨전 음식을 모두 경험할 수 있습니다. 여러 음식점과 기념품 가게가 있어 즐길 거리가 많습니다.\\n\\n3. **토속촌 삼계탕** - 삼계탕으로 유명한 이 식당은 서울에서 대표적인 삼계탕 전문점 중 하나입니다. 싱싱한 재료로 만든 국물과 부드러운 닭고기가 일품입니다.\\n\\n4. **백리향** - 고급 중식 레스토랑으로, 전통 중식과 현대적인 감각이 어우러진 다양한 요리를 제공합니다. 특히, 사천 요리와 베이징 덕이 유명합니다.\\n\\n5. **모둠상** - 전통 한국 가정식을 전문으로 하는 레스토랑으로, 여러 가지 반찬과 메인 요리를 함께 제공하여 다양한 맛을 느낄 수 있는 곳입니다.\\n\\n이들 레스토랑에서 서울의 맛을 충분히 느낄 수 있을 것입니다! 즐거운 식사 되세요!', additional_kwargs={'refusal': None}, response_metadata={'token_usage': {'completion_tokens': 335, 'prompt_tokens': 28, 'total_tokens': 363, 'completion_tokens_details': {'accepted_prediction_tokens': 0, 'audio_tokens': 0, 'reasoning_tokens': 0, 'rejected_prediction_tokens': 0}, 'prompt_tokens_details': {'audio_tokens': 0, 'cached_tokens': 0}}, 'model_name': 'gpt-4o-mini-2024-07-18', 'system_fingerprint': 'fp_8bda4d3a2c', 'id': 'chatcmpl-CDMRtFXwS7jtxPUqfzUob9eRkyvSs', 'service_tier': 'default', 'finish_reason': 'stop', 'logprobs': None}, id='run--deb735cf-0d15-4c6d-9b3c-fee5f21ad359-0', usage_metadata={'input_tokens': 28, 'output_tokens': 335, 'total_tokens': 363, 'input_token_details': {'audio': 0, 'cache_read': 0}, 'output_token_details': {'audio': 0, 'reasoning': 0}})"
      ]
     },
     "execution_count": 5,
     "metadata": {},
     "output_type": "execute_result"
    }
   ],
   "source": [
    "response = llm.invoke(message) # 0.0s\n",
    "response"
   ]
  },
  {
   "cell_type": "markdown",
   "id": "11bf9fcd",
   "metadata": {},
   "source": [
    "# message가 동일해야 한다. 처음 실행시 캐싱한다."
   ]
  },
  {
   "cell_type": "code",
   "execution_count": 6,
   "id": "f2229292",
   "metadata": {},
   "outputs": [],
   "source": [
    "# pip install redis"
   ]
  },
  {
   "cell_type": "markdown",
   "id": "97400625",
   "metadata": {},
   "source": [
    "Databasename : database-MFAGU5GK   \n"
   ]
  },
  {
   "cell_type": "code",
   "execution_count": 7,
   "id": "8de64865",
   "metadata": {},
   "outputs": [
    {
     "name": "stdout",
     "output_type": "stream",
     "text": [
      "bar\n"
     ]
    }
   ],
   "source": [
    "\"\"\"Basic connection example.\n",
    "\"\"\"\n",
    "\n",
    "import redis\n",
    "# redis client\n",
    "r = redis.Redis(\n",
    "    host='redis-16962.c340.ap-northeast-2-1.ec2.redns.redis-cloud.com',\n",
    "    port=16962,\n",
    "    decode_responses=True,\n",
    "    username=\"default\",\n",
    "    password=\"o3G5mxCpZ5MzUs8yurIQJG2ujPw4MKfC\",\n",
    ")\n",
    "\n",
    "success = r.set('foo', 'bar')\n",
    "# True\n",
    "\n",
    "result = r.get('foo')\n",
    "print(result)\n",
    "# >>> bar"
   ]
  },
  {
   "cell_type": "code",
   "execution_count": 8,
   "id": "f27fd42f",
   "metadata": {},
   "outputs": [
    {
     "name": "stdout",
     "output_type": "stream",
     "text": [
      "None\n"
     ]
    }
   ],
   "source": [
    "result = r.get('foo2')\n",
    "print(result)\n",
    "# >>> bar"
   ]
  },
  {
   "cell_type": "code",
   "execution_count": 9,
   "id": "ce85dd4e",
   "metadata": {},
   "outputs": [],
   "source": [
    "# pip install langchain_community"
   ]
  },
  {
   "cell_type": "markdown",
   "id": "c1f7efef",
   "metadata": {},
   "source": [
    "# resid cache 설정"
   ]
  },
  {
   "cell_type": "code",
   "execution_count": 10,
   "id": "4b52a57a",
   "metadata": {},
   "outputs": [],
   "source": [
    "from langchain_community.cache import RedisCache\n",
    "from redis import Redis\n",
    "\n",
    "\n",
    "set_llm_cache(RedisCache( # free 30M\n",
    "    redis_= Redis(        \n",
    "        host='redis-16962.c340.ap-northeast-2-1.ec2.redns.redis-cloud.com',\n",
    "        port=16962,\n",
    "        password=\"o3G5mxCpZ5MzUs8yurIQJG2ujPw4MKfC\"\n",
    "    )\n",
    "))"
   ]
  },
  {
   "cell_type": "code",
   "execution_count": 11,
   "id": "bf54cce2",
   "metadata": {},
   "outputs": [],
   "source": [
    "response = llm.invoke(message)"
   ]
  },
  {
   "cell_type": "code",
   "execution_count": 13,
   "id": "beba791a",
   "metadata": {},
   "outputs": [
    {
     "data": {
      "text/plain": [
       "AIMessage(content='서울에서 대표적인 음식을 맛볼 수 있는 레스토랑을 몇 군데 추천해 드릴게요.\\n\\n1. **신주쿠** (Shinjuku)\\n   - 위치: 강남구\\n   - 추천 메뉴: 갈비찜, 불고기\\n   - 설명: 전통적인 한식을 현대적으로 재해석한 곳으로, 퀄리티 높은 고기 요리를 즐길 수 있습니다.\\n\\n2. **명동교자** (Myeongdong Kyoja)\\n   - 위치: 중구\\n   - 추천 메뉴: 칼국수, 만두\\n   - 설명: 오래된 명성의 칼국수 집으로, 수제 면과 진한 국물 맛이 일품입니다. \\n\\n3. **을지로 골뱅이** (Euljiro Golbaengi)\\n   - 위치: 중구\\n   - 추천 메뉴: 골뱅이 무침, 소주\\n   - 설명: 골뱅이 무침과 쫄면이 유명한 곳으로, 부담 없는 가격에 맛있는 안주를 제공합니다.\\n\\n4. **광화문 국밥** (Gwanghwamun Gukbap)\\n   - 위치: 종로구\\n   - 추천 메뉴: 소고기 국밥\\n   - 설명: 구수하고 깊은 맛의 국밥을 제공하는 곳으로, 아침 식사나 간단한 점심 메뉴로 인기가 많습니다.\\n\\n5. **목동 보쌈** (Mokdong Bossam)\\n   - 위치: 양천구\\n   - 추천 메뉴: 보쌈, 김치\\n   - 설명: 푹 삶은 돼지고기와 다양한 야채, 특제 소스를 곁들여 즐기는 보쌈이 인기 있는 식당입니다.\\n\\n각 레스토랑은 서울의 전통적인 맛을 잘 살리고 있어, 방문하시면 좋은 경험이 될 것입니다!', additional_kwargs={'refusal': None}, response_metadata={'token_usage': {'completion_tokens': 417, 'prompt_tokens': 28, 'total_tokens': 445, 'completion_tokens_details': {'accepted_prediction_tokens': 0, 'audio_tokens': 0, 'reasoning_tokens': 0, 'rejected_prediction_tokens': 0}, 'prompt_tokens_details': {'audio_tokens': 0, 'cached_tokens': 0}}, 'model_name': 'gpt-4o-mini-2024-07-18', 'system_fingerprint': 'fp_8bda4d3a2c', 'id': 'chatcmpl-CDLvDlh08G1YpGlRVV2F5MnuwwyzP', 'service_tier': 'default', 'finish_reason': 'stop', 'logprobs': None}, id='run--8a9dde93-8b82-45d1-98c8-22e73f26e10a-0', usage_metadata={'input_tokens': 28, 'output_tokens': 417, 'total_tokens': 445, 'input_token_details': {'audio': 0, 'cache_read': 0}, 'output_token_details': {'audio': 0, 'reasoning': 0}, 'total_cost': 0})"
      ]
     },
     "execution_count": 13,
     "metadata": {},
     "output_type": "execute_result"
    }
   ],
   "source": [
    "response"
   ]
  },
  {
   "cell_type": "code",
   "execution_count": null,
   "id": "1a925f7a",
   "metadata": {},
   "outputs": [],
   "source": []
  }
 ],
 "metadata": {
  "kernelspec": {
   "display_name": "prompting_env",
   "language": "python",
   "name": "python3"
  },
  "language_info": {
   "codemirror_mode": {
    "name": "ipython",
    "version": 3
   },
   "file_extension": ".py",
   "mimetype": "text/x-python",
   "name": "python",
   "nbconvert_exporter": "python",
   "pygments_lexer": "ipython3",
   "version": "3.12.11"
  }
 },
 "nbformat": 4,
 "nbformat_minor": 5
}
