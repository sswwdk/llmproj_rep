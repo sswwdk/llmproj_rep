{
 "cells": [
  {
   "cell_type": "markdown",
   "id": "b1515107",
   "metadata": {},
   "source": [
    "Knowledge base System\n",
    "\n",
    "문서를 이용한 벡터DB 구성 실습"
   ]
  },
  {
   "cell_type": "code",
   "execution_count": 1,
   "id": "400d9c67",
   "metadata": {},
   "outputs": [
    {
     "name": "stdout",
     "output_type": "stream",
     "text": [
      "Collecting docx2txt\n",
      "  Downloading docx2txt-0.9-py3-none-any.whl.metadata (529 bytes)\n",
      "Downloading docx2txt-0.9-py3-none-any.whl (4.0 kB)\n",
      "Installing collected packages: docx2txt\n",
      "Successfully installed docx2txt-0.9\n",
      "Note: you may need to restart the kernel to use updated packages.\n"
     ]
    }
   ],
   "source": [
    "# pip install docx2txt"
   ]
  },
  {
   "cell_type": "markdown",
   "id": "3440a441",
   "metadata": {},
   "source": [
    "# 문서 로딩"
   ]
  },
  {
   "cell_type": "code",
   "execution_count": 1,
   "id": "1e2d2b5c",
   "metadata": {},
   "outputs": [],
   "source": [
    "from langchain_community.document_loaders import Docx2txtLoader\n",
    "loader = Docx2txtLoader('./tax_with_table.docx')\n",
    "docu = loader.load()"
   ]
  },
  {
   "cell_type": "markdown",
   "id": "d20c9286",
   "metadata": {},
   "source": [
    "# 문서의 분할\n",
    "RecursiveCharacterTextSplitter"
   ]
  },
  {
   "cell_type": "code",
   "execution_count": 4,
   "id": "5e5a57ca",
   "metadata": {},
   "outputs": [
    {
     "data": {
      "text/plain": [
       "<langchain_text_splitters.character.RecursiveCharacterTextSplitter at 0x1d7346f1ac0>"
      ]
     },
     "execution_count": 4,
     "metadata": {},
     "output_type": "execute_result"
    }
   ],
   "source": [
    "from langchain.text_splitter import RecursiveCharacterTextSplitter\n",
    "splitter = RecursiveCharacterTextSplitter(\n",
    "    chunk_size=1500, # 강사님이 추천해준 값\n",
    "    chunk_overlap=200, # 강사님이 추천해준 값\n",
    ")\n",
    "\n",
    "splitter"
   ]
  },
  {
   "cell_type": "code",
   "execution_count": 5,
   "id": "9850e60e",
   "metadata": {},
   "outputs": [],
   "source": [
    "doc_list = loader.load_and_split(text_splitter=splitter)"
   ]
  },
  {
   "cell_type": "code",
   "execution_count": 6,
   "id": "ebf7897f",
   "metadata": {},
   "outputs": [
    {
     "data": {
      "text/plain": [
       "184"
      ]
     },
     "execution_count": 6,
     "metadata": {},
     "output_type": "execute_result"
    }
   ],
   "source": [
    "len(doc_list)"
   ]
  },
  {
   "cell_type": "markdown",
   "id": "2f1a7a99",
   "metadata": {},
   "source": [
    "# 임베딩"
   ]
  },
  {
   "cell_type": "code",
   "execution_count": 7,
   "id": "a285d817",
   "metadata": {},
   "outputs": [
    {
     "data": {
      "text/plain": [
       "True"
      ]
     },
     "execution_count": 7,
     "metadata": {},
     "output_type": "execute_result"
    }
   ],
   "source": [
    "from langchain_openai import OpenAIEmbeddings\n",
    "from dotenv import load_dotenv\n",
    "\n",
    "load_dotenv()"
   ]
  },
  {
   "cell_type": "code",
   "execution_count": 8,
   "id": "a7a48ab0",
   "metadata": {},
   "outputs": [],
   "source": [
    "embedding = OpenAIEmbeddings(model='text-embedding-3-large')"
   ]
  },
  {
   "cell_type": "markdown",
   "id": "f8f6e2f5",
   "metadata": {},
   "source": [
    "# 벡터 DB 적재\n",
    "로컬에서 사용할 수 있는 벡터 db : Chroma DB (인메모리 DB) @ 주의 @"
   ]
  },
  {
   "cell_type": "code",
   "execution_count": null,
   "id": "67806727",
   "metadata": {},
   "outputs": [
    {
     "name": "stdout",
     "output_type": "stream",
     "text": [
      "Collecting langchain-chroma\n",
      "  Downloading langchain_chroma-0.2.5-py3-none-any.whl.metadata (1.1 kB)\n",
      "Requirement already satisfied: langchain-core>=0.3.70 in c:\\users\\admin\\miniconda3\\envs\\prompt_env\\lib\\site-packages (from langchain-chroma) (0.3.75)\n",
      "Requirement already satisfied: numpy>=1.26.0 in c:\\users\\admin\\miniconda3\\envs\\prompt_env\\lib\\site-packages (from langchain-chroma) (2.3.2)\n",
      "Collecting chromadb>=1.0.9 (from langchain-chroma)\n",
      "  Downloading chromadb-1.0.20-cp39-abi3-win_amd64.whl.metadata (7.4 kB)\n",
      "Collecting build>=1.0.3 (from chromadb>=1.0.9->langchain-chroma)\n",
      "  Downloading build-1.3.0-py3-none-any.whl.metadata (5.6 kB)\n",
      "Requirement already satisfied: pydantic>=1.9 in c:\\users\\admin\\miniconda3\\envs\\prompt_env\\lib\\site-packages (from chromadb>=1.0.9->langchain-chroma) (2.11.7)\n",
      "Collecting pybase64>=1.4.1 (from chromadb>=1.0.9->langchain-chroma)\n",
      "  Downloading pybase64-1.4.2-cp312-cp312-win_amd64.whl.metadata (9.0 kB)\n",
      "Collecting uvicorn>=0.18.3 (from uvicorn[standard]>=0.18.3->chromadb>=1.0.9->langchain-chroma)\n",
      "  Using cached uvicorn-0.35.0-py3-none-any.whl.metadata (6.5 kB)\n",
      "Collecting posthog<6.0.0,>=2.4.0 (from chromadb>=1.0.9->langchain-chroma)\n",
      "  Downloading posthog-5.4.0-py3-none-any.whl.metadata (5.7 kB)\n",
      "Requirement already satisfied: typing-extensions>=4.5.0 in c:\\users\\admin\\miniconda3\\envs\\prompt_env\\lib\\site-packages (from chromadb>=1.0.9->langchain-chroma) (4.15.0)\n",
      "Collecting onnxruntime>=1.14.1 (from chromadb>=1.0.9->langchain-chroma)\n",
      "  Downloading onnxruntime-1.22.1-cp312-cp312-win_amd64.whl.metadata (5.1 kB)\n",
      "Collecting opentelemetry-api>=1.2.0 (from chromadb>=1.0.9->langchain-chroma)\n",
      "  Downloading opentelemetry_api-1.36.0-py3-none-any.whl.metadata (1.5 kB)\n",
      "Collecting opentelemetry-exporter-otlp-proto-grpc>=1.2.0 (from chromadb>=1.0.9->langchain-chroma)\n",
      "  Downloading opentelemetry_exporter_otlp_proto_grpc-1.36.0-py3-none-any.whl.metadata (2.4 kB)\n",
      "Collecting opentelemetry-sdk>=1.2.0 (from chromadb>=1.0.9->langchain-chroma)\n",
      "  Downloading opentelemetry_sdk-1.36.0-py3-none-any.whl.metadata (1.5 kB)\n",
      "Requirement already satisfied: tokenizers>=0.13.2 in c:\\users\\admin\\miniconda3\\envs\\prompt_env\\lib\\site-packages (from chromadb>=1.0.9->langchain-chroma) (0.22.0)\n",
      "Collecting pypika>=0.48.9 (from chromadb>=1.0.9->langchain-chroma)\n",
      "  Downloading PyPika-0.48.9.tar.gz (67 kB)\n",
      "  Installing build dependencies: started\n",
      "  Installing build dependencies: finished with status 'done'\n",
      "  Getting requirements to build wheel: started\n",
      "  Getting requirements to build wheel: finished with status 'done'\n",
      "  Preparing metadata (pyproject.toml): started\n",
      "  Preparing metadata (pyproject.toml): finished with status 'done'\n",
      "Requirement already satisfied: tqdm>=4.65.0 in c:\\users\\admin\\miniconda3\\envs\\prompt_env\\lib\\site-packages (from chromadb>=1.0.9->langchain-chroma) (4.67.1)\n",
      "Collecting overrides>=7.3.1 (from chromadb>=1.0.9->langchain-chroma)\n",
      "  Using cached overrides-7.7.0-py3-none-any.whl.metadata (5.8 kB)\n",
      "Collecting importlib-resources (from chromadb>=1.0.9->langchain-chroma)\n",
      "  Downloading importlib_resources-6.5.2-py3-none-any.whl.metadata (3.9 kB)\n",
      "Collecting grpcio>=1.58.0 (from chromadb>=1.0.9->langchain-chroma)\n",
      "  Downloading grpcio-1.74.0-cp312-cp312-win_amd64.whl.metadata (4.0 kB)\n",
      "Collecting bcrypt>=4.0.1 (from chromadb>=1.0.9->langchain-chroma)\n",
      "  Downloading bcrypt-4.3.0-cp39-abi3-win_amd64.whl.metadata (10 kB)\n",
      "Collecting typer>=0.9.0 (from chromadb>=1.0.9->langchain-chroma)\n",
      "  Downloading typer-0.17.4-py3-none-any.whl.metadata (15 kB)\n",
      "Collecting kubernetes>=28.1.0 (from chromadb>=1.0.9->langchain-chroma)\n",
      "  Downloading kubernetes-33.1.0-py2.py3-none-any.whl.metadata (1.7 kB)\n",
      "Requirement already satisfied: tenacity>=8.2.3 in c:\\users\\admin\\miniconda3\\envs\\prompt_env\\lib\\site-packages (from chromadb>=1.0.9->langchain-chroma) (9.1.2)\n",
      "Requirement already satisfied: pyyaml>=6.0.0 in c:\\users\\admin\\miniconda3\\envs\\prompt_env\\lib\\site-packages (from chromadb>=1.0.9->langchain-chroma) (6.0.2)\n",
      "Collecting mmh3>=4.0.1 (from chromadb>=1.0.9->langchain-chroma)\n",
      "  Downloading mmh3-5.2.0-cp312-cp312-win_amd64.whl.metadata (14 kB)\n",
      "Requirement already satisfied: orjson>=3.9.12 in c:\\users\\admin\\miniconda3\\envs\\prompt_env\\lib\\site-packages (from chromadb>=1.0.9->langchain-chroma) (3.11.3)\n",
      "Requirement already satisfied: httpx>=0.27.0 in c:\\users\\admin\\miniconda3\\envs\\prompt_env\\lib\\site-packages (from chromadb>=1.0.9->langchain-chroma) (0.28.1)\n",
      "Collecting rich>=10.11.0 (from chromadb>=1.0.9->langchain-chroma)\n",
      "  Downloading rich-14.1.0-py3-none-any.whl.metadata (18 kB)\n",
      "Collecting jsonschema>=4.19.0 (from chromadb>=1.0.9->langchain-chroma)\n",
      "  Using cached jsonschema-4.25.1-py3-none-any.whl.metadata (7.6 kB)\n",
      "Requirement already satisfied: requests<3.0,>=2.7 in c:\\users\\admin\\miniconda3\\envs\\prompt_env\\lib\\site-packages (from posthog<6.0.0,>=2.4.0->chromadb>=1.0.9->langchain-chroma) (2.32.5)\n",
      "Requirement already satisfied: six>=1.5 in c:\\users\\admin\\miniconda3\\envs\\prompt_env\\lib\\site-packages (from posthog<6.0.0,>=2.4.0->chromadb>=1.0.9->langchain-chroma) (1.17.0)\n",
      "Requirement already satisfied: python-dateutil>=2.2 in c:\\users\\admin\\miniconda3\\envs\\prompt_env\\lib\\site-packages (from posthog<6.0.0,>=2.4.0->chromadb>=1.0.9->langchain-chroma) (2.9.0.post0)\n",
      "Collecting backoff>=1.10.0 (from posthog<6.0.0,>=2.4.0->chromadb>=1.0.9->langchain-chroma)\n",
      "  Using cached backoff-2.2.1-py3-none-any.whl.metadata (14 kB)\n",
      "Requirement already satisfied: distro>=1.5.0 in c:\\users\\admin\\miniconda3\\envs\\prompt_env\\lib\\site-packages (from posthog<6.0.0,>=2.4.0->chromadb>=1.0.9->langchain-chroma) (1.9.0)\n",
      "Requirement already satisfied: charset_normalizer<4,>=2 in c:\\users\\admin\\miniconda3\\envs\\prompt_env\\lib\\site-packages (from requests<3.0,>=2.7->posthog<6.0.0,>=2.4.0->chromadb>=1.0.9->langchain-chroma) (3.4.3)\n",
      "Requirement already satisfied: idna<4,>=2.5 in c:\\users\\admin\\miniconda3\\envs\\prompt_env\\lib\\site-packages (from requests<3.0,>=2.7->posthog<6.0.0,>=2.4.0->chromadb>=1.0.9->langchain-chroma) (3.10)\n",
      "Requirement already satisfied: urllib3<3,>=1.21.1 in c:\\users\\admin\\miniconda3\\envs\\prompt_env\\lib\\site-packages (from requests<3.0,>=2.7->posthog<6.0.0,>=2.4.0->chromadb>=1.0.9->langchain-chroma) (2.5.0)\n",
      "Requirement already satisfied: certifi>=2017.4.17 in c:\\users\\admin\\miniconda3\\envs\\prompt_env\\lib\\site-packages (from requests<3.0,>=2.7->posthog<6.0.0,>=2.4.0->chromadb>=1.0.9->langchain-chroma) (2025.8.3)\n",
      "Requirement already satisfied: packaging>=19.1 in c:\\users\\admin\\miniconda3\\envs\\prompt_env\\lib\\site-packages (from build>=1.0.3->chromadb>=1.0.9->langchain-chroma) (24.2)\n",
      "Collecting pyproject_hooks (from build>=1.0.3->chromadb>=1.0.9->langchain-chroma)\n",
      "  Downloading pyproject_hooks-1.2.0-py3-none-any.whl.metadata (1.3 kB)\n",
      "Requirement already satisfied: colorama in c:\\users\\admin\\miniconda3\\envs\\prompt_env\\lib\\site-packages (from build>=1.0.3->chromadb>=1.0.9->langchain-chroma) (0.4.6)\n",
      "Requirement already satisfied: anyio in c:\\users\\admin\\miniconda3\\envs\\prompt_env\\lib\\site-packages (from httpx>=0.27.0->chromadb>=1.0.9->langchain-chroma) (4.10.0)\n",
      "Requirement already satisfied: httpcore==1.* in c:\\users\\admin\\miniconda3\\envs\\prompt_env\\lib\\site-packages (from httpx>=0.27.0->chromadb>=1.0.9->langchain-chroma) (1.0.9)\n",
      "Requirement already satisfied: h11>=0.16 in c:\\users\\admin\\miniconda3\\envs\\prompt_env\\lib\\site-packages (from httpcore==1.*->httpx>=0.27.0->chromadb>=1.0.9->langchain-chroma) (0.16.0)\n",
      "Requirement already satisfied: attrs>=22.2.0 in c:\\users\\admin\\miniconda3\\envs\\prompt_env\\lib\\site-packages (from jsonschema>=4.19.0->chromadb>=1.0.9->langchain-chroma) (25.3.0)\n",
      "Collecting jsonschema-specifications>=2023.03.6 (from jsonschema>=4.19.0->chromadb>=1.0.9->langchain-chroma)\n",
      "  Using cached jsonschema_specifications-2025.9.1-py3-none-any.whl.metadata (2.9 kB)\n",
      "Collecting referencing>=0.28.4 (from jsonschema>=4.19.0->chromadb>=1.0.9->langchain-chroma)\n",
      "  Using cached referencing-0.36.2-py3-none-any.whl.metadata (2.8 kB)\n",
      "Collecting rpds-py>=0.7.1 (from jsonschema>=4.19.0->chromadb>=1.0.9->langchain-chroma)\n",
      "  Using cached rpds_py-0.27.1-cp312-cp312-win_amd64.whl.metadata (4.3 kB)\n",
      "Collecting google-auth>=1.0.1 (from kubernetes>=28.1.0->chromadb>=1.0.9->langchain-chroma)\n",
      "  Downloading google_auth-2.40.3-py2.py3-none-any.whl.metadata (6.2 kB)\n",
      "Collecting websocket-client!=0.40.0,!=0.41.*,!=0.42.*,>=0.32.0 (from kubernetes>=28.1.0->chromadb>=1.0.9->langchain-chroma)\n",
      "  Using cached websocket_client-1.8.0-py3-none-any.whl.metadata (8.0 kB)\n",
      "Collecting requests-oauthlib (from kubernetes>=28.1.0->chromadb>=1.0.9->langchain-chroma)\n",
      "  Downloading requests_oauthlib-2.0.0-py2.py3-none-any.whl.metadata (11 kB)\n",
      "Collecting oauthlib>=3.2.2 (from kubernetes>=28.1.0->chromadb>=1.0.9->langchain-chroma)\n",
      "  Downloading oauthlib-3.3.1-py3-none-any.whl.metadata (7.9 kB)\n",
      "Collecting durationpy>=0.7 (from kubernetes>=28.1.0->chromadb>=1.0.9->langchain-chroma)\n",
      "  Downloading durationpy-0.10-py3-none-any.whl.metadata (340 bytes)\n",
      "Collecting cachetools<6.0,>=2.0.0 (from google-auth>=1.0.1->kubernetes>=28.1.0->chromadb>=1.0.9->langchain-chroma)\n",
      "  Downloading cachetools-5.5.2-py3-none-any.whl.metadata (5.4 kB)\n",
      "Collecting pyasn1-modules>=0.2.1 (from google-auth>=1.0.1->kubernetes>=28.1.0->chromadb>=1.0.9->langchain-chroma)\n",
      "  Downloading pyasn1_modules-0.4.2-py3-none-any.whl.metadata (3.5 kB)\n",
      "Collecting rsa<5,>=3.1.4 (from google-auth>=1.0.1->kubernetes>=28.1.0->chromadb>=1.0.9->langchain-chroma)\n",
      "  Downloading rsa-4.9.1-py3-none-any.whl.metadata (5.6 kB)\n",
      "Collecting pyasn1>=0.1.3 (from rsa<5,>=3.1.4->google-auth>=1.0.1->kubernetes>=28.1.0->chromadb>=1.0.9->langchain-chroma)\n",
      "  Downloading pyasn1-0.6.1-py3-none-any.whl.metadata (8.4 kB)\n",
      "Requirement already satisfied: langsmith>=0.3.45 in c:\\users\\admin\\miniconda3\\envs\\prompt_env\\lib\\site-packages (from langchain-core>=0.3.70->langchain-chroma) (0.4.27)\n",
      "Requirement already satisfied: jsonpatch<2.0,>=1.33 in c:\\users\\admin\\miniconda3\\envs\\prompt_env\\lib\\site-packages (from langchain-core>=0.3.70->langchain-chroma) (1.33)\n",
      "Requirement already satisfied: jsonpointer>=1.9 in c:\\users\\admin\\miniconda3\\envs\\prompt_env\\lib\\site-packages (from jsonpatch<2.0,>=1.33->langchain-core>=0.3.70->langchain-chroma) (3.0.0)\n",
      "Requirement already satisfied: requests-toolbelt>=1.0.0 in c:\\users\\admin\\miniconda3\\envs\\prompt_env\\lib\\site-packages (from langsmith>=0.3.45->langchain-core>=0.3.70->langchain-chroma) (1.0.0)\n",
      "Requirement already satisfied: zstandard>=0.23.0 in c:\\users\\admin\\miniconda3\\envs\\prompt_env\\lib\\site-packages (from langsmith>=0.3.45->langchain-core>=0.3.70->langchain-chroma) (0.24.0)\n",
      "Requirement already satisfied: annotated-types>=0.6.0 in c:\\users\\admin\\miniconda3\\envs\\prompt_env\\lib\\site-packages (from pydantic>=1.9->chromadb>=1.0.9->langchain-chroma) (0.7.0)\n",
      "Requirement already satisfied: pydantic-core==2.33.2 in c:\\users\\admin\\miniconda3\\envs\\prompt_env\\lib\\site-packages (from pydantic>=1.9->chromadb>=1.0.9->langchain-chroma) (2.33.2)\n",
      "Requirement already satisfied: typing-inspection>=0.4.0 in c:\\users\\admin\\miniconda3\\envs\\prompt_env\\lib\\site-packages (from pydantic>=1.9->chromadb>=1.0.9->langchain-chroma) (0.4.1)\n",
      "Collecting coloredlogs (from onnxruntime>=1.14.1->chromadb>=1.0.9->langchain-chroma)\n",
      "  Downloading coloredlogs-15.0.1-py2.py3-none-any.whl.metadata (12 kB)\n",
      "Collecting flatbuffers (from onnxruntime>=1.14.1->chromadb>=1.0.9->langchain-chroma)\n",
      "  Downloading flatbuffers-25.2.10-py2.py3-none-any.whl.metadata (875 bytes)\n",
      "Collecting protobuf (from onnxruntime>=1.14.1->chromadb>=1.0.9->langchain-chroma)\n",
      "  Using cached protobuf-6.32.0-cp310-abi3-win_amd64.whl.metadata (593 bytes)\n",
      "Requirement already satisfied: sympy in c:\\users\\admin\\miniconda3\\envs\\prompt_env\\lib\\site-packages (from onnxruntime>=1.14.1->chromadb>=1.0.9->langchain-chroma) (1.14.0)\n",
      "Collecting importlib-metadata<8.8.0,>=6.0 (from opentelemetry-api>=1.2.0->chromadb>=1.0.9->langchain-chroma)\n",
      "  Downloading importlib_metadata-8.7.0-py3-none-any.whl.metadata (4.8 kB)\n",
      "Collecting zipp>=3.20 (from importlib-metadata<8.8.0,>=6.0->opentelemetry-api>=1.2.0->chromadb>=1.0.9->langchain-chroma)\n",
      "  Downloading zipp-3.23.0-py3-none-any.whl.metadata (3.6 kB)\n",
      "Collecting googleapis-common-protos~=1.57 (from opentelemetry-exporter-otlp-proto-grpc>=1.2.0->chromadb>=1.0.9->langchain-chroma)\n",
      "  Downloading googleapis_common_protos-1.70.0-py3-none-any.whl.metadata (9.3 kB)\n",
      "Collecting opentelemetry-exporter-otlp-proto-common==1.36.0 (from opentelemetry-exporter-otlp-proto-grpc>=1.2.0->chromadb>=1.0.9->langchain-chroma)\n",
      "  Downloading opentelemetry_exporter_otlp_proto_common-1.36.0-py3-none-any.whl.metadata (1.8 kB)\n",
      "Collecting opentelemetry-proto==1.36.0 (from opentelemetry-exporter-otlp-proto-grpc>=1.2.0->chromadb>=1.0.9->langchain-chroma)\n",
      "  Downloading opentelemetry_proto-1.36.0-py3-none-any.whl.metadata (2.3 kB)\n",
      "Collecting opentelemetry-semantic-conventions==0.57b0 (from opentelemetry-sdk>=1.2.0->chromadb>=1.0.9->langchain-chroma)\n",
      "  Downloading opentelemetry_semantic_conventions-0.57b0-py3-none-any.whl.metadata (2.4 kB)\n",
      "Collecting markdown-it-py>=2.2.0 (from rich>=10.11.0->chromadb>=1.0.9->langchain-chroma)\n",
      "  Downloading markdown_it_py-4.0.0-py3-none-any.whl.metadata (7.3 kB)\n",
      "Requirement already satisfied: pygments<3.0.0,>=2.13.0 in c:\\users\\admin\\miniconda3\\envs\\prompt_env\\lib\\site-packages (from rich>=10.11.0->chromadb>=1.0.9->langchain-chroma) (2.19.2)\n",
      "Collecting mdurl~=0.1 (from markdown-it-py>=2.2.0->rich>=10.11.0->chromadb>=1.0.9->langchain-chroma)\n",
      "  Downloading mdurl-0.1.2-py3-none-any.whl.metadata (1.6 kB)\n",
      "Requirement already satisfied: huggingface-hub<1.0,>=0.16.4 in c:\\users\\admin\\miniconda3\\envs\\prompt_env\\lib\\site-packages (from tokenizers>=0.13.2->chromadb>=1.0.9->langchain-chroma) (0.34.4)\n",
      "Requirement already satisfied: filelock in c:\\users\\admin\\miniconda3\\envs\\prompt_env\\lib\\site-packages (from huggingface-hub<1.0,>=0.16.4->tokenizers>=0.13.2->chromadb>=1.0.9->langchain-chroma) (3.19.1)\n",
      "Requirement already satisfied: fsspec>=2023.5.0 in c:\\users\\admin\\miniconda3\\envs\\prompt_env\\lib\\site-packages (from huggingface-hub<1.0,>=0.16.4->tokenizers>=0.13.2->chromadb>=1.0.9->langchain-chroma) (2025.3.0)\n",
      "Requirement already satisfied: click>=8.0.0 in c:\\users\\admin\\miniconda3\\envs\\prompt_env\\lib\\site-packages (from typer>=0.9.0->chromadb>=1.0.9->langchain-chroma) (8.2.1)\n",
      "Collecting shellingham>=1.3.0 (from typer>=0.9.0->chromadb>=1.0.9->langchain-chroma)\n",
      "  Downloading shellingham-1.5.4-py2.py3-none-any.whl.metadata (3.5 kB)\n",
      "Collecting httptools>=0.6.3 (from uvicorn[standard]>=0.18.3->chromadb>=1.0.9->langchain-chroma)\n",
      "  Downloading httptools-0.6.4-cp312-cp312-win_amd64.whl.metadata (3.7 kB)\n",
      "Requirement already satisfied: python-dotenv>=0.13 in c:\\users\\admin\\miniconda3\\envs\\prompt_env\\lib\\site-packages (from uvicorn[standard]>=0.18.3->chromadb>=1.0.9->langchain-chroma) (1.1.1)\n",
      "Collecting watchfiles>=0.13 (from uvicorn[standard]>=0.18.3->chromadb>=1.0.9->langchain-chroma)\n",
      "  Downloading watchfiles-1.1.0-cp312-cp312-win_amd64.whl.metadata (5.0 kB)\n",
      "Collecting websockets>=10.4 (from uvicorn[standard]>=0.18.3->chromadb>=1.0.9->langchain-chroma)\n",
      "  Using cached websockets-15.0.1-cp312-cp312-win_amd64.whl.metadata (7.0 kB)\n",
      "Requirement already satisfied: sniffio>=1.1 in c:\\users\\admin\\miniconda3\\envs\\prompt_env\\lib\\site-packages (from anyio->httpx>=0.27.0->chromadb>=1.0.9->langchain-chroma) (1.3.1)\n",
      "Collecting humanfriendly>=9.1 (from coloredlogs->onnxruntime>=1.14.1->chromadb>=1.0.9->langchain-chroma)\n",
      "  Downloading humanfriendly-10.0-py2.py3-none-any.whl.metadata (9.2 kB)\n",
      "Collecting pyreadline3 (from humanfriendly>=9.1->coloredlogs->onnxruntime>=1.14.1->chromadb>=1.0.9->langchain-chroma)\n",
      "  Downloading pyreadline3-3.5.4-py3-none-any.whl.metadata (4.7 kB)\n",
      "Requirement already satisfied: mpmath<1.4,>=1.1.0 in c:\\users\\admin\\miniconda3\\envs\\prompt_env\\lib\\site-packages (from sympy->onnxruntime>=1.14.1->chromadb>=1.0.9->langchain-chroma) (1.3.0)\n",
      "Downloading langchain_chroma-0.2.5-py3-none-any.whl (12 kB)\n",
      "Downloading chromadb-1.0.20-cp39-abi3-win_amd64.whl (19.8 MB)\n",
      "   ---------------------------------------- 0.0/19.8 MB ? eta -:--:--\n",
      "   -- ------------------------------------- 1.0/19.8 MB 52.4 MB/s eta 0:00:01\n",
      "   ------------- -------------------------- 6.8/19.8 MB 16.8 MB/s eta 0:00:01\n",
      "   --------------------------- ------------ 13.6/19.8 MB 22.0 MB/s eta 0:00:01\n",
      "   ---------------------------------------- 19.8/19.8 MB 25.0 MB/s  0:00:00\n",
      "Downloading posthog-5.4.0-py3-none-any.whl (105 kB)\n",
      "Using cached backoff-2.2.1-py3-none-any.whl (15 kB)\n",
      "Downloading bcrypt-4.3.0-cp39-abi3-win_amd64.whl (152 kB)\n",
      "Downloading build-1.3.0-py3-none-any.whl (23 kB)\n",
      "Downloading grpcio-1.74.0-cp312-cp312-win_amd64.whl (4.5 MB)\n",
      "   ---------------------------------------- 0.0/4.5 MB ? eta -:--:--\n",
      "   ------------------ --------------------- 2.1/4.5 MB 9.0 MB/s eta 0:00:01\n",
      "   ---------------------------------------- 4.5/4.5 MB 11.8 MB/s  0:00:00\n",
      "Using cached jsonschema-4.25.1-py3-none-any.whl (90 kB)\n",
      "Using cached jsonschema_specifications-2025.9.1-py3-none-any.whl (18 kB)\n",
      "Downloading kubernetes-33.1.0-py2.py3-none-any.whl (1.9 MB)\n",
      "   ---------------------------------------- 0.0/1.9 MB ? eta -:--:--\n",
      "   ---------------------------------------- 1.9/1.9 MB 10.8 MB/s  0:00:00\n",
      "Downloading durationpy-0.10-py3-none-any.whl (3.9 kB)\n",
      "Downloading google_auth-2.40.3-py2.py3-none-any.whl (216 kB)\n",
      "Downloading cachetools-5.5.2-py3-none-any.whl (10 kB)\n",
      "Downloading rsa-4.9.1-py3-none-any.whl (34 kB)\n",
      "Downloading mmh3-5.2.0-cp312-cp312-win_amd64.whl (41 kB)\n",
      "Downloading oauthlib-3.3.1-py3-none-any.whl (160 kB)\n",
      "Downloading onnxruntime-1.22.1-cp312-cp312-win_amd64.whl (12.7 MB)\n",
      "   ---------------------------------------- 0.0/12.7 MB ? eta -:--:--\n",
      "   ---------- ----------------------------- 3.4/12.7 MB 16.8 MB/s eta 0:00:01\n",
      "   -------------------- ------------------- 6.6/12.7 MB 16.1 MB/s eta 0:00:01\n",
      "   --------------------------- ------------ 8.7/12.7 MB 13.4 MB/s eta 0:00:01\n",
      "   ----------------------------------- ---- 11.3/12.7 MB 13.6 MB/s eta 0:00:01\n",
      "   ---------------------------------------- 12.7/12.7 MB 13.3 MB/s  0:00:00\n",
      "Downloading opentelemetry_api-1.36.0-py3-none-any.whl (65 kB)\n",
      "Downloading importlib_metadata-8.7.0-py3-none-any.whl (27 kB)\n",
      "Downloading opentelemetry_exporter_otlp_proto_grpc-1.36.0-py3-none-any.whl (18 kB)\n",
      "Downloading opentelemetry_exporter_otlp_proto_common-1.36.0-py3-none-any.whl (18 kB)\n",
      "Downloading opentelemetry_proto-1.36.0-py3-none-any.whl (72 kB)\n",
      "Downloading googleapis_common_protos-1.70.0-py3-none-any.whl (294 kB)\n",
      "Downloading opentelemetry_sdk-1.36.0-py3-none-any.whl (119 kB)\n",
      "Downloading opentelemetry_semantic_conventions-0.57b0-py3-none-any.whl (201 kB)\n",
      "Using cached protobuf-6.32.0-cp310-abi3-win_amd64.whl (435 kB)\n",
      "Using cached overrides-7.7.0-py3-none-any.whl (17 kB)\n",
      "Downloading pyasn1-0.6.1-py3-none-any.whl (83 kB)\n",
      "Downloading pyasn1_modules-0.4.2-py3-none-any.whl (181 kB)\n",
      "Downloading pybase64-1.4.2-cp312-cp312-win_amd64.whl (35 kB)\n",
      "Using cached referencing-0.36.2-py3-none-any.whl (26 kB)\n",
      "Downloading rich-14.1.0-py3-none-any.whl (243 kB)\n",
      "Downloading markdown_it_py-4.0.0-py3-none-any.whl (87 kB)\n",
      "Downloading mdurl-0.1.2-py3-none-any.whl (10.0 kB)\n",
      "Using cached rpds_py-0.27.1-cp312-cp312-win_amd64.whl (232 kB)\n",
      "Downloading typer-0.17.4-py3-none-any.whl (46 kB)\n",
      "Downloading shellingham-1.5.4-py2.py3-none-any.whl (9.8 kB)\n",
      "Using cached uvicorn-0.35.0-py3-none-any.whl (66 kB)\n",
      "Downloading httptools-0.6.4-cp312-cp312-win_amd64.whl (88 kB)\n",
      "Downloading watchfiles-1.1.0-cp312-cp312-win_amd64.whl (292 kB)\n",
      "Using cached websocket_client-1.8.0-py3-none-any.whl (58 kB)\n",
      "Using cached websockets-15.0.1-cp312-cp312-win_amd64.whl (176 kB)\n",
      "Downloading zipp-3.23.0-py3-none-any.whl (10 kB)\n",
      "Downloading coloredlogs-15.0.1-py2.py3-none-any.whl (46 kB)\n",
      "Downloading humanfriendly-10.0-py2.py3-none-any.whl (86 kB)\n",
      "Downloading flatbuffers-25.2.10-py2.py3-none-any.whl (30 kB)\n",
      "Downloading importlib_resources-6.5.2-py3-none-any.whl (37 kB)\n",
      "Downloading pyproject_hooks-1.2.0-py3-none-any.whl (10 kB)\n",
      "Downloading pyreadline3-3.5.4-py3-none-any.whl (83 kB)\n",
      "Downloading requests_oauthlib-2.0.0-py2.py3-none-any.whl (24 kB)\n",
      "Building wheels for collected packages: pypika\n",
      "  Building wheel for pypika (pyproject.toml): started\n",
      "  Building wheel for pypika (pyproject.toml): finished with status 'done'\n",
      "  Created wheel for pypika: filename=pypika-0.48.9-py2.py3-none-any.whl size=53916 sha256=f3a7d901bdf4369c7faea99e06228a9d11db18652e4ada2fad83ea364f0e317e\n",
      "  Stored in directory: c:\\users\\admin\\appdata\\local\\pip\\cache\\wheels\\d5\\3d\\69\\8d68d249cd3de2584f226e27fd431d6344f7d70fd856ebd01b\n",
      "Successfully built pypika\n",
      "Installing collected packages: pypika, flatbuffers, durationpy, zipp, websockets, websocket-client, shellingham, rpds-py, pyreadline3, pyproject_hooks, pybase64, pyasn1, protobuf, overrides, oauthlib, mmh3, mdurl, importlib-resources, httptools, grpcio, cachetools, bcrypt, backoff, watchfiles, uvicorn, rsa, requests-oauthlib, referencing, pyasn1-modules, posthog, opentelemetry-proto, markdown-it-py, importlib-metadata, humanfriendly, googleapis-common-protos, build, rich, opentelemetry-exporter-otlp-proto-common, opentelemetry-api, jsonschema-specifications, google-auth, coloredlogs, typer, opentelemetry-semantic-conventions, onnxruntime, kubernetes, jsonschema, opentelemetry-sdk, opentelemetry-exporter-otlp-proto-grpc, chromadb, langchain-chroma\n",
      "\n",
      "   --- ------------------------------------  4/51 [websockets]\n",
      "   ---- -----------------------------------  6/51 [shellingham]\n",
      "   -------- ------------------------------- 11/51 [pyasn1]\n",
      "   --------- ------------------------------ 12/51 [protobuf]\n",
      "   ---------- ----------------------------- 14/51 [oauthlib]\n",
      "   ------------- -------------------------- 17/51 [importlib-resources]\n",
      "   -------------- ------------------------- 19/51 [grpcio]\n",
      "   ------------------ --------------------- 24/51 [uvicorn]\n",
      "   --------------------- ------------------ 28/51 [pyasn1-modules]\n",
      "   --------------------- ------------------ 28/51 [pyasn1-modules]\n",
      "   ---------------------- ----------------- 29/51 [posthog]\n",
      "   ------------------------ --------------- 31/51 [markdown-it-py]\n",
      "   ------------------------- -------------- 33/51 [humanfriendly]\n",
      "   -------------------------- ------------- 34/51 [googleapis-common-protos]\n",
      "   ---------------------------- ----------- 36/51 [rich]\n",
      "   ----------------------------- ---------- 38/51 [opentelemetry-api]\n",
      "   ------------------------------- -------- 40/51 [google-auth]\n",
      "   --------------------------- ----- 43/51 [opentelemetry-semantic-conventions]\n",
      "   ---------------------------------- ----- 44/51 [onnxruntime]\n",
      "   ---------------------------------- ----- 44/51 [onnxruntime]\n",
      "   ---------------------------------- ----- 44/51 [onnxruntime]\n",
      "   ---------------------------------- ----- 44/51 [onnxruntime]\n",
      "   ---------------------------------- ----- 44/51 [onnxruntime]\n",
      "   ---------------------------------- ----- 44/51 [onnxruntime]\n",
      "   ----------------------------------- ---- 45/51 [kubernetes]\n",
      "   ----------------------------------- ---- 45/51 [kubernetes]\n",
      "   ----------------------------------- ---- 45/51 [kubernetes]\n",
      "   ----------------------------------- ---- 45/51 [kubernetes]\n",
      "   ----------------------------------- ---- 45/51 [kubernetes]\n",
      "   ----------------------------------- ---- 45/51 [kubernetes]\n",
      "   ----------------------------------- ---- 45/51 [kubernetes]\n",
      "   ----------------------------------- ---- 45/51 [kubernetes]\n",
      "   ----------------------------------- ---- 45/51 [kubernetes]\n",
      "   ----------------------------------- ---- 45/51 [kubernetes]\n",
      "   ----------------------------------- ---- 45/51 [kubernetes]\n",
      "   ----------------------------------- ---- 45/51 [kubernetes]\n",
      "   ------------------------------------ --- 46/51 [jsonschema]\n",
      "   --------------------------- - 48/51 [opentelemetry-exporter-otlp-proto-grpc]\n",
      "   -------------------------------------- - 49/51 [chromadb]\n",
      "   -------------------------------------- - 49/51 [chromadb]\n",
      "   -------------------------------------- - 49/51 [chromadb]\n",
      "   -------------------------------------- - 49/51 [chromadb]\n",
      "   ---------------------------------------- 51/51 [langchain-chroma]\n",
      "\n",
      "Successfully installed backoff-2.2.1 bcrypt-4.3.0 build-1.3.0 cachetools-5.5.2 chromadb-1.0.20 coloredlogs-15.0.1 durationpy-0.10 flatbuffers-25.2.10 google-auth-2.40.3 googleapis-common-protos-1.70.0 grpcio-1.74.0 httptools-0.6.4 humanfriendly-10.0 importlib-metadata-8.7.0 importlib-resources-6.5.2 jsonschema-4.25.1 jsonschema-specifications-2025.9.1 kubernetes-33.1.0 langchain-chroma-0.2.5 markdown-it-py-4.0.0 mdurl-0.1.2 mmh3-5.2.0 oauthlib-3.3.1 onnxruntime-1.22.1 opentelemetry-api-1.36.0 opentelemetry-exporter-otlp-proto-common-1.36.0 opentelemetry-exporter-otlp-proto-grpc-1.36.0 opentelemetry-proto-1.36.0 opentelemetry-sdk-1.36.0 opentelemetry-semantic-conventions-0.57b0 overrides-7.7.0 posthog-5.4.0 protobuf-6.32.0 pyasn1-0.6.1 pyasn1-modules-0.4.2 pybase64-1.4.2 pypika-0.48.9 pyproject_hooks-1.2.0 pyreadline3-3.5.4 referencing-0.36.2 requests-oauthlib-2.0.0 rich-14.1.0 rpds-py-0.27.1 rsa-4.9.1 shellingham-1.5.4 typer-0.17.4 uvicorn-0.35.0 watchfiles-1.1.0 websocket-client-1.8.0 websockets-15.0.1 zipp-3.23.0\n"
     ]
    }
   ],
   "source": [
    "# !pip install langchain-chroma"
   ]
  },
  {
   "cell_type": "code",
   "execution_count": 9,
   "id": "a98501b2",
   "metadata": {},
   "outputs": [],
   "source": [
    "from langchain_chroma import Chroma\n",
    "database = Chroma.from_documents(\n",
    "    documents=doc_list, \n",
    "    embedding=embedding,\n",
    "    collection_name='chroma-tax',\n",
    "    persist_directory='./chroma'\n",
    ")"
   ]
  },
  {
   "cell_type": "code",
   "execution_count": null,
   "id": "3cf4a647",
   "metadata": {},
   "outputs": [],
   "source": [
    "# database = Chroma(collection_name='chroma-tax',\n",
    "#                     persist_directory='./chroma', embedding_function=embedding) # ??"
   ]
  },
  {
   "cell_type": "markdown",
   "id": "2649e87d",
   "metadata": {},
   "source": [
    "# Retrieval"
   ]
  },
  {
   "cell_type": "code",
   "execution_count": 35,
   "id": "2ea43b57",
   "metadata": {},
   "outputs": [
    {
     "data": {
      "text/plain": [
       "[Document(id='252b43d0-1bbf-4e27-8de6-e6f810cadc31', metadata={'source': './tax.docx'}, page_content='[전문개정 2009. 12. 31.]\\n\\n\\n\\n제10조(납세지의 변경신고) 거주자나 비거주자는 제6조부터 제9조까지의 규정에 따른 납세지가 변경된 경우 변경된 날부터 15일 이내에 대통령령으로 정하는 바에 따라 그 변경 후의 납세지 관할 세무서장에게 신고하여야 한다.\\n\\n[전문개정 2009. 12. 31.]\\n\\n\\n\\n제11조(과세 관할) 소득세는 제6조부터 제10조까지의 규정에 따른 납세지를 관할하는 세무서장 또는 지방국세청장이 과세한다.\\n\\n[전문개정 2009. 12. 31.]\\n\\n\\n\\n제2장 거주자의 종합소득 및 퇴직소득에 대한 납세의무 <개정 2009. 12. 31.>\\n\\n\\n\\n제1절 비과세 <개정 2009. 12. 31.>\\n\\n\\n\\n제12조(비과세소득) 다음 각 호의 소득에 대해서는 소득세를 과세하지 아니한다. <개정 2010. 12. 27., 2011. 7. 25., 2011. 9. 15., 2012. 2. 1., 2013. 1. 1., 2013. 3. 22., 2014. 1. 1., 2014. 3. 18., 2014. 12. 23., 2015. 12. 15., 2016. 12. 20., 2018. 3. 20., 2018. 12. 31., 2019. 12. 10., 2019. 12. 31., 2020. 6. 9., 2020. 12. 29., 2022. 8. 12., 2022. 12. 31., 2023. 8. 8., 2023. 12. 31., 2024. 12. 31.>\\n\\n1. 「공익신탁법」에 따른 공익신탁의 이익\\n\\n2. 사업소득 중 다음 각 목의 어느 하나에 해당하는 소득\\n\\n가. 논ㆍ밭을 작물 생산에 이용하게 함으로써 발생하는 소득\\n\\n나. 1개의 주택을 소유하는 자의 주택임대소득(제99조에 따른 기준시가가 12억원을 초과하는 주택 및 국외에 소재하는 주택의 임대소득은 제외한다) 또는 해당 과세기간에 대통령령으로 정하는 총수입금액의 합계액이 2천만원 이하인 자의 주택임대소득(2018년 12월 31일 이전에 끝나는 과세기간까지 발생하는 소득으로 한정한다). 이 경우 주택 수의 계산 및 주택임대소득의 산정 등 필요한 사항은 대통령령으로 정한다.\\n\\n다. 대통령령으로 정하는 농어가부업소득\\n\\n라. 대통령령으로 정하는 전통주의 제조에서 발생하는 소득\\n\\n마. 조림기간 5년 이상인 임지(林地)의 임목(林木)의 벌채 또는 양도로 발생하는 소득으로서 연 600만원 이하의 금액. 이 경우 조림기간 및 세액의 계산 등 필요한 사항은 대통령령으로 정한다.\\n\\n바. 대통령령으로 정하는 작물재배업에서 발생하는 소득\\n\\n사. 대통령령으로 정하는 어로어업 또는 양식어업에서 발생하는 소득\\n\\n3. 근로소득과 퇴직소득 중 다음 각 목의 어느 하나에 해당하는 소득\\n\\n가. 대통령령으로 정하는 복무 중인 병(兵)이 받는 급여\\n\\n나. 법률에 따라 동원된 사람이 그 동원 직장에서 받는 급여'),\n",
       " Document(id='c78ef7e7-f0bf-4c4c-b32f-d9e9b1d36827', metadata={'source': './tax.docx'}, page_content='[전문개정 2009. 12. 31.]\\n\\n\\n\\n제10조(납세지의 변경신고) 거주자나 비거주자는 제6조부터 제9조까지의 규정에 따른 납세지가 변경된 경우 변경된 날부터 15일 이내에 대통령령으로 정하는 바에 따라 그 변경 후의 납세지 관할 세무서장에게 신고하여야 한다.\\n\\n[전문개정 2009. 12. 31.]\\n\\n\\n\\n제11조(과세 관할) 소득세는 제6조부터 제10조까지의 규정에 따른 납세지를 관할하는 세무서장 또는 지방국세청장이 과세한다.\\n\\n[전문개정 2009. 12. 31.]\\n\\n\\n\\n제2장 거주자의 종합소득 및 퇴직소득에 대한 납세의무 <개정 2009. 12. 31.>\\n\\n\\n\\n제1절 비과세 <개정 2009. 12. 31.>\\n\\n\\n\\n제12조(비과세소득) 다음 각 호의 소득에 대해서는 소득세를 과세하지 아니한다. <개정 2010. 12. 27., 2011. 7. 25., 2011. 9. 15., 2012. 2. 1., 2013. 1. 1., 2013. 3. 22., 2014. 1. 1., 2014. 3. 18., 2014. 12. 23., 2015. 12. 15., 2016. 12. 20., 2018. 3. 20., 2018. 12. 31., 2019. 12. 10., 2019. 12. 31., 2020. 6. 9., 2020. 12. 29., 2022. 8. 12., 2022. 12. 31., 2023. 8. 8., 2023. 12. 31., 2024. 12. 31.>\\n\\n1. 「공익신탁법」에 따른 공익신탁의 이익\\n\\n2. 사업소득 중 다음 각 목의 어느 하나에 해당하는 소득\\n\\n가. 논ㆍ밭을 작물 생산에 이용하게 함으로써 발생하는 소득\\n\\n나. 1개의 주택을 소유하는 자의 주택임대소득(제99조에 따른 기준시가가 12억원을 초과하는 주택 및 국외에 소재하는 주택의 임대소득은 제외한다) 또는 해당 과세기간에 대통령령으로 정하는 총수입금액의 합계액이 2천만원 이하인 자의 주택임대소득(2018년 12월 31일 이전에 끝나는 과세기간까지 발생하는 소득으로 한정한다). 이 경우 주택 수의 계산 및 주택임대소득의 산정 등 필요한 사항은 대통령령으로 정한다.\\n\\n다. 대통령령으로 정하는 농어가부업소득\\n\\n라. 대통령령으로 정하는 전통주의 제조에서 발생하는 소득\\n\\n마. 조림기간 5년 이상인 임지(林地)의 임목(林木)의 벌채 또는 양도로 발생하는 소득으로서 연 600만원 이하의 금액. 이 경우 조림기간 및 세액의 계산 등 필요한 사항은 대통령령으로 정한다.\\n\\n바. 대통령령으로 정하는 작물재배업에서 발생하는 소득\\n\\n사. 대통령령으로 정하는 어로어업 또는 양식어업에서 발생하는 소득\\n\\n3. 근로소득과 퇴직소득 중 다음 각 목의 어느 하나에 해당하는 소득\\n\\n가. 대통령령으로 정하는 복무 중인 병(兵)이 받는 급여\\n\\n나. 법률에 따라 동원된 사람이 그 동원 직장에서 받는 급여'),\n",
       " Document(id='4be66d0b-886d-48db-b2ad-849c21ca81d6', metadata={'source': './tax.docx'}, page_content='바. 「문화유산의 보존 및 활용에 관한 법률」에 따라 국가지정문화유산으로 지정된 서화ㆍ골동품의 양도로 발생하는 소득\\n\\n사. 서화ㆍ골동품을 박물관 또는 미술관에 양도함으로써 발생하는 소득\\n\\n아. 제21조제1항제26호에 따른 종교인소득 중 다음의 어느 하나에 해당하는 소득\\n\\n\\u3000\\u3000\\u3000\\u30001) 「통계법」 제22조에 따라 통계청장이 고시하는 한국표준직업분류에 따른 종교관련종사자(이하 “종교관련종사자”라 한다)가 받는 대통령령으로 정하는 학자금\\n\\n\\u3000\\u3000\\u3000\\u30002) 종교관련종사자가 받는 대통령령으로 정하는 식사 또는 식사대\\n\\n\\u3000\\u3000\\u3000\\u30003) 종교관련종사자가 받는 대통령령으로 정하는 실비변상적 성질의 지급액\\n\\n\\u3000\\u3000\\u3000\\u30004) 종교관련종사자 또는 그 배우자의 출산이나 6세 이하(해당 과세기간 개시일을 기준으로 판단한다) 자녀의 보육과 관련하여 종교단체로부터 받는 금액으로서 월 20만원 이내의 금액\\n\\n\\u3000\\u3000\\u3000\\u30005) 종교관련종사자가 기획재정부령으로 정하는 사택을 제공받아 얻는 이익\\n\\n자. 법령ㆍ조례에 따른 위원회 등의 보수를 받지 아니하는 위원(학술원 및 예술원의 회원을 포함한다) 등이 받는 수당\\n\\n[전문개정 2009. 12. 31.]\\n\\n\\n\\n제13조 삭제 <2009. 12. 31.>\\n\\n\\n\\n제2절 과세표준과 세액의 계산 <개정 2009. 12. 31.>\\n\\n\\n\\n제1관 세액계산 통칙 <개정 2009. 12. 31.>\\n\\n\\n\\n제14조(과세표준의 계산) ① 거주자의 종합소득 및 퇴직소득에 대한 과세표준은 각각 구분하여 계산한다.\\n\\n② 종합소득에 대한 과세표준(이하 “종합소득과세표준”이라 한다)은 제16조, 제17조, 제19조, 제20조, 제20조의3, 제21조, 제24조부터 제26조까지, 제27조부터 제29조까지, 제31조부터 제35조까지, 제37조, 제39조, 제41조부터 제46조까지, 제46조의2, 제47조 및 제47조의2에 따라 계산한 이자소득금액, 배당소득금액, 사업소득금액, 근로소득금액, 연금소득금액 및 기타소득금액의 합계액(이하 “종합소득금액”이라 한다)에서 제50조, 제51조, 제51조의3, 제51조의4 및 제52조에 따른 공제(이하 “종합소득공제”라 한다)를 적용한 금액으로 한다.<개정 2013. 1. 1., 2014. 1. 1.>\\n\\n③ 다음 각 호에 따른 소득의 금액은 종합소득과세표준을 계산할 때 합산하지 아니한다.<개정 2010. 12. 27., 2011. 7. 14., 2013. 1. 1., 2014. 12. 23., 2015. 12. 15., 2017. 12. 19., 2018. 12. 31., 2019. 12. 31., 2020. 12. 29., 2023. 12. 31.>\\n\\n1. 「조세특례제한법」 또는 이 법 제12조에 따라 과세되지 아니하는 소득\\n\\n2. 대통령령으로 정하는 일용근로자(이하 “일용근로자”라 한다)의 근로소득\\n\\n3. 제129조제2항의 세율에 따라 원천징수하는 이자소득 및 배당소득과 제16조제1항제10호에 따른 직장공제회 초과반환금'),\n",
       " Document(id='143b2521-91be-4fc8-a10f-c28f741623a5', metadata={'source': './tax.docx'}, page_content='바. 「문화유산의 보존 및 활용에 관한 법률」에 따라 국가지정문화유산으로 지정된 서화ㆍ골동품의 양도로 발생하는 소득\\n\\n사. 서화ㆍ골동품을 박물관 또는 미술관에 양도함으로써 발생하는 소득\\n\\n아. 제21조제1항제26호에 따른 종교인소득 중 다음의 어느 하나에 해당하는 소득\\n\\n\\u3000\\u3000\\u3000\\u30001) 「통계법」 제22조에 따라 통계청장이 고시하는 한국표준직업분류에 따른 종교관련종사자(이하 “종교관련종사자”라 한다)가 받는 대통령령으로 정하는 학자금\\n\\n\\u3000\\u3000\\u3000\\u30002) 종교관련종사자가 받는 대통령령으로 정하는 식사 또는 식사대\\n\\n\\u3000\\u3000\\u3000\\u30003) 종교관련종사자가 받는 대통령령으로 정하는 실비변상적 성질의 지급액\\n\\n\\u3000\\u3000\\u3000\\u30004) 종교관련종사자 또는 그 배우자의 출산이나 6세 이하(해당 과세기간 개시일을 기준으로 판단한다) 자녀의 보육과 관련하여 종교단체로부터 받는 금액으로서 월 20만원 이내의 금액\\n\\n\\u3000\\u3000\\u3000\\u30005) 종교관련종사자가 기획재정부령으로 정하는 사택을 제공받아 얻는 이익\\n\\n자. 법령ㆍ조례에 따른 위원회 등의 보수를 받지 아니하는 위원(학술원 및 예술원의 회원을 포함한다) 등이 받는 수당\\n\\n[전문개정 2009. 12. 31.]\\n\\n\\n\\n제13조 삭제 <2009. 12. 31.>\\n\\n\\n\\n제2절 과세표준과 세액의 계산 <개정 2009. 12. 31.>\\n\\n\\n\\n제1관 세액계산 통칙 <개정 2009. 12. 31.>\\n\\n\\n\\n제14조(과세표준의 계산) ① 거주자의 종합소득 및 퇴직소득에 대한 과세표준은 각각 구분하여 계산한다.\\n\\n② 종합소득에 대한 과세표준(이하 “종합소득과세표준”이라 한다)은 제16조, 제17조, 제19조, 제20조, 제20조의3, 제21조, 제24조부터 제26조까지, 제27조부터 제29조까지, 제31조부터 제35조까지, 제37조, 제39조, 제41조부터 제46조까지, 제46조의2, 제47조 및 제47조의2에 따라 계산한 이자소득금액, 배당소득금액, 사업소득금액, 근로소득금액, 연금소득금액 및 기타소득금액의 합계액(이하 “종합소득금액”이라 한다)에서 제50조, 제51조, 제51조의3, 제51조의4 및 제52조에 따른 공제(이하 “종합소득공제”라 한다)를 적용한 금액으로 한다.<개정 2013. 1. 1., 2014. 1. 1.>\\n\\n③ 다음 각 호에 따른 소득의 금액은 종합소득과세표준을 계산할 때 합산하지 아니한다.<개정 2010. 12. 27., 2011. 7. 14., 2013. 1. 1., 2014. 12. 23., 2015. 12. 15., 2017. 12. 19., 2018. 12. 31., 2019. 12. 31., 2020. 12. 29., 2023. 12. 31.>\\n\\n1. 「조세특례제한법」 또는 이 법 제12조에 따라 과세되지 아니하는 소득\\n\\n2. 대통령령으로 정하는 일용근로자(이하 “일용근로자”라 한다)의 근로소득\\n\\n3. 제129조제2항의 세율에 따라 원천징수하는 이자소득 및 배당소득과 제16조제1항제10호에 따른 직장공제회 초과반환금'),\n",
       " Document(id='26aec19e-7454-4e33-8997-de3cfcf6cfd6', metadata={'source': './tax.docx'}, page_content='2) 대학의 교직원 또는 대학과 고용관계가 있는 학생이 소속 대학에 설치된 「산업교육진흥 및 산학연협력촉진에 관한 법률」 제25조에 따른 산학협력단(이하 이 조에서 “산학협력단”이라 한다)으로부터 같은 법 제32조제1항제4호에 따라 받는 보상금\\n\\n저. 대통령령으로 정하는 복리후생적 성질의 급여\\n\\n처. 제20조제1항제6호에 따른 소득 중 다음의 요건을 모두 충족하는 소득으로서 대통령령으로 정하는 금액 이하의 금액\\n\\n1) 임원 또는 종업원(이하 이 조, 제20조 및 제164조의5에서 “임원등”이라 한다) 본인이 소비하는 것을 목적으로 제공받거나 지원을 받아 구입한 재화 또는 용역으로서 대통령령으로 정하는 기간 동안 재판매가 허용되지 아니할 것\\n\\n2) 해당 재화 또는 용역의 제공과 관련하여 모든 임원등에게 공통으로 적용되는 기준이 있을 것\\n\\n4. 연금소득 중 다음 각 목의 어느 하나에 해당하는 소득\\n\\n가. 「국민연금법」, 「공무원연금법」 또는 「공무원 재해보상법」, 「군인연금법」 또는 「군인 재해보상법」, 「사립학교교직원 연금법」, 「별정우체국법」 또는 「국민연금과 직역연금의 연계에 관한 법률」(이하 “공적연금 관련법”이라 한다)에 따라 받는 유족연금ㆍ퇴직유족연금ㆍ퇴역유족연금ㆍ장해유족연금ㆍ상이유족연금ㆍ순직유족연금ㆍ직무상유족연금ㆍ위험직무순직유족연금, 장애연금, 장해연금ㆍ비공무상 장해연금ㆍ비직무상 장해연금, 상이연금(傷痍年金), 연계노령유족연금 또는 연계퇴직유족연금\\n\\n나. 삭제<2013. 1. 1.>\\n\\n다. 「산업재해보상보험법」에 따라 받는 각종 연금\\n\\n라. 「국군포로의 송환 및 대우 등에 관한 법률」에 따른 국군포로가 받는 연금\\n\\n마. 삭제<2013. 1. 1.>\\n\\n5. 기타소득 중 다음 각 목의 어느 하나에 해당하는 소득\\n\\n가. 「국가유공자 등 예우 및 지원에 관한 법률」 또는 「보훈보상대상자 지원에 관한 법률」에 따라 받는 보훈급여금ㆍ학습보조비 및 「북한이탈주민의 보호 및 정착지원에 관한 법률」에 따라 받는 정착금ㆍ보로금(報勞金)과 그 밖의 금품\\n\\n나. 「국가보안법」에 따라 받는 상금과 보로금\\n\\n다. 「상훈법」에 따른 훈장과 관련하여 받는 부상(副賞)이나 그 밖에 대통령령으로 정하는 상금과 부상\\n\\n라. 종업원등 또는 대학의 교직원이 퇴직한 후에 사용자등 또는 산학협력단으로부터 지급받거나 대학의 학생이 소속 대학에 설치된 산학협력단으로부터 받는 직무발명보상금으로서 대통령령으로 정하는 금액. 다만, 직무발명보상금을 지급한 사용자등 또는 산학협력단과 대통령령으로 정하는 특수관계에 있는 자가 받는 직무발명보상금은 제외한다.\\n\\n마. 「국군포로의 송환 및 대우 등에 관한 법률」에 따라 국군포로가 받는 위로지원금과 그 밖의 금품\\n\\n바. 「문화유산의 보존 및 활용에 관한 법률」에 따라 국가지정문화유산으로 지정된 서화ㆍ골동품의 양도로 발생하는 소득\\n\\n사. 서화ㆍ골동품을 박물관 또는 미술관에 양도함으로써 발생하는 소득\\n\\n아. 제21조제1항제26호에 따른 종교인소득 중 다음의 어느 하나에 해당하는 소득')]"
      ]
     },
     "execution_count": 35,
     "metadata": {},
     "output_type": "execute_result"
    }
   ],
   "source": [
    "query = '연봉 5천만원인 직장인의 소득세는 얼마인가요?'\n",
    "retrieved_docs = database.similarity_search(query, k=5)\n",
    "retrieved_docs"
   ]
  },
  {
   "cell_type": "markdown",
   "id": "3c0dda87",
   "metadata": {},
   "source": [
    "# augumentation "
   ]
  },
  {
   "cell_type": "code",
   "execution_count": 17,
   "id": "f60bd349",
   "metadata": {},
   "outputs": [],
   "source": [
    "from langchain_openai import ChatOpenAI\n",
    "llm = ChatOpenAI(model='gpt-4o-mini')"
   ]
  },
  {
   "cell_type": "code",
   "execution_count": null,
   "id": "a7634c03",
   "metadata": {},
   "outputs": [],
   "source": [
    "query = '연봉 5천만원인 직장인의 소득세는 얼마인가요?'\n",
    "prompt = f\"\"\"[Identity]\n",
    "- 당신은 최고의 한국 소득세 전문가 입니다.\n",
    "- [context]만 참조해서 사용자의 질문에 답변해 주세요.\n",
    "[context]\n",
    "Questrion : {query}\n",
    "\"\"\""
   ]
  },
  {
   "cell_type": "code",
   "execution_count": 32,
   "id": "f077e72b",
   "metadata": {},
   "outputs": [],
   "source": [
    "response = llm.invoke(prompt)"
   ]
  },
  {
   "cell_type": "code",
   "execution_count": 33,
   "id": "e49e8419",
   "metadata": {},
   "outputs": [
    {
     "data": {
      "text/plain": [
       "AIMessage(content='연봉 5천만원인 직장인의 소득세를 계산하기 위해서는 기본 세율과 공제를 고려해야 합니다. 2023년 기준으로, 소득세의 기본 세율은 다음과 같습니다:\\n\\n- 1,200만원 이하: 6%\\n- 1,200만원 초과 4,600만원 이하: 15%\\n- 4,600만원 초과 8,800만원 이하: 24%\\n\\n연봉 5천만원에 대한 소득세를 계산해 보겠습니다.\\n\\n1. 1,200만원에 대한 세금: 1,200만원 × 6% = 72만원\\n2. 1,200만원 초과 4,600만원 이하 (3,400만원)에 대한 세금: 3,400만원 × 15% = 510만원\\n3. 4,600만원 초과 5천만원 (400만원)에 대한 세금: 400만원 × 24% = 96만원\\n\\n이 세금들을 모두 합산하면:\\n- 72만원 + 510만원 + 96만원 = 678만원\\n\\n여기서 기본공제(주로 인적공제)가 포함되지 않았기 때문에, 직접 세부적인 공제 사항에 따라 최종 세액이 달라질 수 있습니다. 따라서, 연말정산이나 결혼, 자녀 양육 등의 상황에 따라 실제 납부할 세액은 다를 수 있습니다. \\n\\n정확한 세액을 계산하기 위해서는 개인의 상황에 따른 추가적인 정보를 확인해야 합니다.', additional_kwargs={'refusal': None}, response_metadata={'token_usage': {'completion_tokens': 329, 'prompt_tokens': 64, 'total_tokens': 393, 'completion_tokens_details': {'accepted_prediction_tokens': 0, 'audio_tokens': 0, 'reasoning_tokens': 0, 'rejected_prediction_tokens': 0}, 'prompt_tokens_details': {'audio_tokens': 0, 'cached_tokens': 0}}, 'model_name': 'gpt-4o-mini-2024-07-18', 'system_fingerprint': 'fp_8bda4d3a2c', 'id': 'chatcmpl-CDnGdaJchhMqw5e9HW9o2o5xKQE7w', 'service_tier': 'default', 'finish_reason': 'stop', 'logprobs': None}, id='run--267a378d-2c5d-459b-9d2d-42bd61b71401-0', usage_metadata={'input_tokens': 64, 'output_tokens': 329, 'total_tokens': 393, 'input_token_details': {'audio': 0, 'cache_read': 0}, 'output_token_details': {'audio': 0, 'reasoning': 0}})"
      ]
     },
     "execution_count": 33,
     "metadata": {},
     "output_type": "execute_result"
    }
   ],
   "source": [
    "response # 안된다고 함"
   ]
  },
  {
   "cell_type": "code",
   "execution_count": null,
   "id": "dd43ae6f",
   "metadata": {},
   "outputs": [],
   "source": [
    "# docx의 55조 그림(세금계산)을 표로 바꿔서 실행\n",
    "query = '연봉 5천만원인 직장인의 소득세는 얼마인가요?'\n",
    "prompt = f\"\"\"[Identity]\n",
    "- 당신은 최고의 한국 소득세 전문가 입니다.\n",
    "- [context]만 참조해서 사용자의 질문에 답변해 주세요.\n",
    "[context]\n",
    "{retrieved_docs}\n",
    "Questrion : {query}\n",
    "\"\"\""
   ]
  },
  {
   "cell_type": "code",
   "execution_count": 26,
   "id": "7bc4bb14",
   "metadata": {},
   "outputs": [],
   "source": [
    "response = llm.invoke(prompt)"
   ]
  },
  {
   "cell_type": "code",
   "execution_count": 27,
   "id": "4d06328f",
   "metadata": {},
   "outputs": [
    {
     "data": {
      "text/plain": [
       "AIMessage(content='연봉 5천만원인 직장인의 소득세를 계산하기 위해서는 다음과 같은 단계를 따릅니다.\\n\\n1. **종합소득금액 계산**: 연봉 5천만원을 기준으로 하여 종합소득을 계산합니다. 직장인의 경우 대부분 근로소득만 고려하므로 5천만원이 종합소득금액이 됩니다.\\n\\n2. **소득공제 적용**: 소득세를 계산하기 전에 기본공제, 인적공제, 연금보험료공제 등 다양한 공제를 적용해야 합니다. 예를 들어, 2023년 기준으로 기본공제는 개인 150만원, 배우자 150만원, 그리고 부양가족(자녀 등)도 각각 150만원이 적용됩니다. 총 공제액은 공제 대상에 따라 달라지므로, 예를 들어 부양가족이 없다면 150만원의 공제를 받게 됩니다.\\n\\n3. **과세표준 계산**: \\n   - 연봉 5천만원 - 공제 후 금액 (가정: 공제 150만원) = 4,850만원이 과세표준이 됩니다.\\n\\n4. **세율 적용**: 과세표준에 따라 소득세율이 차등 적용됩니다. 예를 들면 4,850만원은 다음과 같은 세율에 따라 계산될 수 있습니다 (2023년 기준):\\n   - 1,200만원까지는 6%\\n   - 1,200만원 초과 4,600만원까지는 15%\\n   - 남은 금액에 대해 24%\\n\\n5. **소득세 산출**: \\n   - 첫 1,200만원: 1,200만원 * 6% = 72만원\\n   - 다음 3,400만원 (1,200만원 초과): 3,400만원 * 15% = 510만원\\n   - 따라서 총 소득세는 72만원 + 510만원 = 582만원이 됩니다.\\n\\n위의 과정을 통해 소득세가 약 582만원으로 계산됩니다. 그러나 세액공제 등의 추가 고려사항이 있을 수 있으므로, 연말정산 시점에 맞춰 구체적인 세금 액수는 달라질 수 있습니다. 추가적인 세액공제 사항에 따라 정확한 세금은 다를 수 있습니다.', additional_kwargs={'refusal': None}, response_metadata={'token_usage': {'completion_tokens': 506, 'prompt_tokens': 5181, 'total_tokens': 5687, 'completion_tokens_details': {'accepted_prediction_tokens': 0, 'audio_tokens': 0, 'reasoning_tokens': 0, 'rejected_prediction_tokens': 0}, 'prompt_tokens_details': {'audio_tokens': 0, 'cached_tokens': 0}}, 'model_name': 'gpt-4o-mini-2024-07-18', 'system_fingerprint': 'fp_8bda4d3a2c', 'id': 'chatcmpl-CDn21MBwEFBZKZJHTzLoQz9E8EDNY', 'service_tier': 'default', 'finish_reason': 'stop', 'logprobs': None}, id='run--7147ff24-f04f-483b-9ba5-5b3dbd7702e5-0', usage_metadata={'input_tokens': 5181, 'output_tokens': 506, 'total_tokens': 5687, 'input_token_details': {'audio': 0, 'cache_read': 0}, 'output_token_details': {'audio': 0, 'reasoning': 0}})"
      ]
     },
     "execution_count": 27,
     "metadata": {},
     "output_type": "execute_result"
    }
   ],
   "source": [
    "response # 답변이 나오긴 함 624만원이 맞는데 이거 이상함"
   ]
  },
  {
   "cell_type": "code",
   "execution_count": null,
   "id": "6f08286b",
   "metadata": {},
   "outputs": [],
   "source": [
    "# docx의 55조 그림(세금계산)을 표로 바꿔서 실행\n",
    "# query에서 직장인 >> 거주자로 변경\n",
    "query = '연봉 5천만원인 거주자의 소득세는 얼마인가요?'\n",
    "prompt = f\"\"\"[Identity]\n",
    "- 당신은 최고의 한국 소득세 전문가 입니다.\n",
    "- [context]만 참조해서 사용자의 질문에 답변해 주세요.\n",
    "[context]\n",
    "{retrieved_docs}\n",
    "Questrion : {query}\n",
    "\"\"\"\n",
    "response = llm.invoke(prompt)"
   ]
  },
  {
   "cell_type": "code",
   "execution_count": 29,
   "id": "fcd8c764",
   "metadata": {},
   "outputs": [
    {
     "data": {
      "text/plain": [
       "AIMessage(content='연봉 5천만원인 거주자의 소득세를 계산하기 위해서는 다음과 같은 단계를 따라야 합니다.\\n\\n1. **소득금액 계산**: 연봉 5천만원이 소득금액입니다.\\n2. **공제액 적용**: 종합소득공제 및 각종 세액공제를 적용하여 과세표준을 계산합니다. 일반적으로, 근로소득공제를 적용해야 하며, 이는 소득금액의 일정 비율과 더불어 일정액이 공제됩니다.\\n3. **세율 적용**: 과세표준에 해당하는 금액에 대해 소득세율을 적용합니다. 2023년 기준으로 한국의 소득세율은 다음과 같습니다:\\n\\n   - 1,200만원 이하: 6%\\n   - 1,200만원 초과 4,600만원 이하: 15%\\n   - 4,600만원 초과 8,800만원 이하: 24%\\n\\n4. **세액 계산**: 각 구간별로 세액을 계산하여 합계합니다.\\n\\n   예를 들어, 5천만원의 확정된 소득에 대해 공제를 고려한 후 과세표준을 4,000만원으로 가정할 수 있습니다. 이 경우의 세액은 다음과 같습니다:\\n\\n   - 1,200만원 * 6% = 72만원\\n   - (4,600만원 - 1,200만원) * 15% = 510만원\\n   - (4,000만원 - 4,600만원) * 24% = 0만원 (4,000만원은 4,600만원 이하)\\n\\n   최종 세액은 72만원 + 510만원 = 582만원입니다.\\n\\n이러한 과정으로 구체적인 세액을 계산할 수 있습니다. 연봉 5천만원이지만 실제 적용되는 공제 금액이나 세액바에 따라 변동이 있을 수 있음을 염두에 두시기 바랍니다. 공제와 세액의 구체적인 수치는 개인의 상황에 따라 다를 수 있습니다.', additional_kwargs={'refusal': None}, response_metadata={'token_usage': {'completion_tokens': 447, 'prompt_tokens': 5181, 'total_tokens': 5628, 'completion_tokens_details': {'accepted_prediction_tokens': 0, 'audio_tokens': 0, 'reasoning_tokens': 0, 'rejected_prediction_tokens': 0}, 'prompt_tokens_details': {'audio_tokens': 0, 'cached_tokens': 0}}, 'model_name': 'gpt-4o-mini-2024-07-18', 'system_fingerprint': 'fp_8bda4d3a2c', 'id': 'chatcmpl-CDn8sbZAzYghm24CBYFuviOqAaCzl', 'service_tier': 'default', 'finish_reason': 'stop', 'logprobs': None}, id='run--d3ffcdd7-8bd7-44f0-b9be-391fd5485bf4-0', usage_metadata={'input_tokens': 5181, 'output_tokens': 447, 'total_tokens': 5628, 'input_token_details': {'audio': 0, 'cache_read': 0}, 'output_token_details': {'audio': 0, 'reasoning': 0}})"
      ]
     },
     "execution_count": 29,
     "metadata": {},
     "output_type": "execute_result"
    }
   ],
   "source": [
    "response"
   ]
  },
  {
   "cell_type": "code",
   "execution_count": 30,
   "id": "e092765c",
   "metadata": {},
   "outputs": [
    {
     "data": {
      "text/plain": [
       "AIMessage(content='거주자의 소득세를 계산하기 위해서는 연봉 5천만원에 대한 과세표준을 결정하고, 이를 기반으로 소득세 세율을 적용해야 합니다. 한국의 소득세는 누진세율 구조를 가지고 있습니다.\\n\\n2023년 기준으로 한국의 소득세 세율은 다음과 같습니다:\\n\\n- 1,200만원 이하: 6%\\n- 1,200만원 초과 ~ 4,600만원 이하: 15%\\n- 4,600만원 초과 ~ 8,800만원 이하: 24%\\n\\n따라서, 연봉 5천만원에 대한 소득세는 다음과 같이 계산됩니다:\\n\\n1. 1,200만원까지의 세금: 1,200만원 × 6% = 72만원\\n2. 1,200만원 초과 ~ 4,600만원까지의 세금: (4,600만원 - 1,200만원) × 15% = 5,400만원 × 15% = 810만원\\n3. 4,600만원 초과 ~ 5,000만원까지의 세금: (5,000만원 - 4,600만원) × 24% = 400만원 × 24% = 96만원\\n\\n이제 이 세금들을 모두 더하면 됩니다:\\n\\n- 총 소득세 = 72만원 + 810만원 + 96만원 = 978만원\\n\\n결론적으로, 연봉 5천만원인 거주자의 소득세는 약 978만원입니다. \\n\\n다만, 실제 세액은 각종 공제와 세액공제를 반영해야 하므로, 최종 세액은 다를 수 있습니다.', additional_kwargs={'refusal': None}, response_metadata={'token_usage': {'completion_tokens': 359, 'prompt_tokens': 5181, 'total_tokens': 5540, 'completion_tokens_details': {'accepted_prediction_tokens': 0, 'audio_tokens': 0, 'reasoning_tokens': 0, 'rejected_prediction_tokens': 0}, 'prompt_tokens_details': {'audio_tokens': 0, 'cached_tokens': 0}}, 'model_name': 'gpt-4o-mini-2024-07-18', 'system_fingerprint': 'fp_8bda4d3a2c', 'id': 'chatcmpl-CDnBmJ13zi2belnHxCniqSqqa4Ppv', 'service_tier': 'default', 'finish_reason': 'stop', 'logprobs': None}, id='run--7f3d8af3-082f-4d28-a06f-a836f7f4781e-0', usage_metadata={'input_tokens': 5181, 'output_tokens': 359, 'total_tokens': 5540, 'input_token_details': {'audio': 0, 'cache_read': 0}, 'output_token_details': {'audio': 0, 'reasoning': 0}})"
      ]
     },
     "execution_count": 30,
     "metadata": {},
     "output_type": "execute_result"
    }
   ],
   "source": [
    "# docx의 55조 그림(세금계산)을 표로 바꿔서 실행\n",
    "# query에서 직장인 >> 거주자로 변경\n",
    "# docx의 55조 표를 마크다운으로 바꿔서 실행\n",
    "query = '연봉 5천만원인 거주자의 소득세는 얼마인가요?'\n",
    "prompt = f\"\"\"[Identity]\n",
    "- 당신은 최고의 한국 소득세 전문가 입니다.\n",
    "- [context]만 참조해서 사용자의 질문에 답변해 주세요.\n",
    "[context]\n",
    "{retrieved_docs}\n",
    "Questrion : {query}\n",
    "\"\"\"\n",
    "response = llm.invoke(prompt)\n",
    "response"
   ]
  },
  {
   "cell_type": "code",
   "execution_count": null,
   "id": "5b9288a7",
   "metadata": {},
   "outputs": [],
   "source": []
  },
  {
   "cell_type": "markdown",
   "id": "837afe30",
   "metadata": {},
   "source": [
    "# 질의 정규화"
   ]
  },
  {
   "cell_type": "code",
   "execution_count": 1,
   "id": "a06cca6e",
   "metadata": {},
   "outputs": [],
   "source": [
    "# 표 마크타운으로 수정 - tax_with_table // chroma_with_table\n",
    "# 문서 로딩\n",
    "from langchain_community.document_loaders import Docx2txtLoader\n",
    "loader = Docx2txtLoader('./tax_with_table.docx')\n",
    "docu = loader.load()\n",
    "\n",
    "# 문서 분할\n",
    "from langchain.text_splitter import RecursiveCharacterTextSplitter\n",
    "splitter = RecursiveCharacterTextSplitter(\n",
    "    chunk_size=1500, # 강사님이 추천해준 값\n",
    "    chunk_overlap=200, # 강사님이 추천해준 값\n",
    ")\n",
    "\n",
    "doc_list = loader.load_and_split(text_splitter=splitter)\n",
    "\n",
    "# 임베딩\n",
    "from langchain_openai import OpenAIEmbeddings\n",
    "from dotenv import load_dotenv\n",
    "\n",
    "# 임베딩 모델\n",
    "embedding = OpenAIEmbeddings(model='text-embedding-3-large')\n",
    "\n",
    "# 벡터 DB 적재\n",
    "from langchain_chroma import Chroma\n",
    "database = Chroma.from_documents(\n",
    "    documents=doc_list, \n",
    "    embedding=embedding,\n",
    "    collection_name='chroma',\n",
    "    persist_directory='./chroma_with_table' # 저장소 이름 다르게 해\n",
    ")"
   ]
  },
  {
   "cell_type": "code",
   "execution_count": 2,
   "id": "46acabfa",
   "metadata": {},
   "outputs": [
    {
     "data": {
      "text/plain": [
       "('연봉 5천만원인 직장인의 소득세는 얼마인가요?',\n",
       " '과세표준 5,000만원인 거주자의 소득세는 얼마인가 계산 기준과 누진공제를 적용해 계산')"
      ]
     },
     "execution_count": 2,
     "metadata": {},
     "output_type": "execute_result"
    }
   ],
   "source": [
    "# 질의의 품질을 높이기 위한 정규화 과정 추가\n",
    "def normalize_query(q: str) -> str:\n",
    "    # 숫자: '5천만원' → '5,000만원'\n",
    "    q = q.replace(\"오천만원\",\"5,000만원\").replace(\"5천만원\",\"5,000만원\")\n",
    "    # 용어: 연봉 → (과세) 과세표준 후보어 추가\n",
    "    q = q.replace(\"연봉\", \"과세표준\")\n",
    "    # 직장인 → 거주자\n",
    "    q = q.replace(\"직장인\", \"거주자\")\n",
    "    # 의도 신호: 계산 키워드 보강\n",
    "    if \"계산\" not in q:\n",
    "        q = q.rstrip(\"요?\").rstrip(\"?\") + \" 계산 기준과 누진공제를 적용해 계산\"\n",
    "    return q\n",
    "\n",
    "query = '연봉 5천만원인 직장인의 소득세는 얼마인가요?'\n",
    "query_n = normalize_query(query)\n",
    "query, query_n"
   ]
  },
  {
   "cell_type": "code",
   "execution_count": 3,
   "id": "3c32b038",
   "metadata": {},
   "outputs": [
    {
     "data": {
      "text/plain": [
       "[Document(id='9d0da24d-1928-4a80-b1a2-47dfb2926a22', metadata={'source': './tax_with_table.docx'}, page_content='제55조(세율) ①거주자의 종합소득에 대한 소득세는 해당 연도의 종합소득과세표준에 다음의 세율을 적용하여 계산한 금액(이하 “종합소득산출세액”이라 한다)을 그 세액으로 한다. <개정 2014. 1. 1., 2016. 12. 20., 2017. 12. 19., 2020. 12. 29., 2022. 12. 31.>\\n\\n| 종합소득 과세표준 구간               | 세율 (산출세액 계산식)                           |\\n\\n| ---------------------------------- | ----------------------------------------- |\\n\\n| 1,400만 원 이하                       | 과세표준의 **6%**                          |\\n\\n| 1,400만 원 초과 ~ 5,000만 원 이하        | **84만 원** + (1,400만 원 초과분 × 15%)      |\\n\\n| 5,000만 원 초과 ~ 8,800만 원 이하        | **624만 원** + (5,000만 원 초과분 × 24%)     |\\n\\n| 8,800만 원 초과 ~ 1억 5천만 원 이하      | **1,536만 원** + (8,800만 원 초과분 × 35%)   |\\n\\n| 1억 5천만 원 초과 ~ 3억 원 이하          | **3,706만 원** + (1억 5천만 원 초과분 × 38%) |\\n\\n| 3억 원 초과 ~ 5억 원 이하              | **9,406만 원** + (3억 원 초과분 × 40%)       |\\n\\n| 5억 원 초과 ~ 10억 원 이하             | **1억 7,406만 원** + (5억 원 초과분 × 42%)    |\\n\\n| 10억 원 초과                        | **3억 8,406만 원** + (10억 원 초과분 × 45%)   |\\n\\n종합소득 과세표준 구간\\n\\n세율 (산출세액 계산식)\\n\\n1,400만 원 이하\\n\\n과세표준의 6%\\n\\n1,400만 원 초과 ~ 5,000만 원 이하\\n\\n84만 원 + (1,400만 원 초과분 × 15%)\\n\\n5,000만 원 초과 ~ 8,800만 원 이하\\n\\n624만 원 + (5,000만 원 초과분 × 24%)\\n\\n8,800만 원 초과 ~ 1억 5천만 원 이하\\n\\n1,536만 원 + (8,800만 원 초과분 × 35%)\\n\\n1억 5천만 원 초과 ~ 3억 원 이하\\n\\n3,706만 원 + (1억 5천만 원 초과분 × 38%)\\n\\n3억 원 초과 ~ 5억 원 이하\\n\\n9,406만 원 + (3억 원 초과분 × 40%)\\n\\n5억 원 초과 ~ 10억 원 이하\\n\\n1억 7,406만 원 + (5억 원 초과분 × 42%)\\n\\n10억 원 초과\\n\\n3억 8,406만 원 + (10억 원 초과분 × 45%)\\n\\n\\n\\n② 거주자의 퇴직소득에 대한 소득세는 다음 각 호의 순서에 따라 계산한 금액(이하 “퇴직소득 산출세액”이라 한다)으로 한다.<개정 2013. 1. 1., 2014. 12. 23.>'),\n",
       " Document(id='6a1fcabe-e72f-4297-ba8c-4d7d4230503f', metadata={'source': './tax_with_table.docx'}, page_content='바. 「문화유산의 보존 및 활용에 관한 법률」에 따라 국가지정문화유산으로 지정된 서화ㆍ골동품의 양도로 발생하는 소득\\n\\n사. 서화ㆍ골동품을 박물관 또는 미술관에 양도함으로써 발생하는 소득\\n\\n아. 제21조제1항제26호에 따른 종교인소득 중 다음의 어느 하나에 해당하는 소득\\n\\n\\u3000\\u3000\\u3000\\u30001) 「통계법」 제22조에 따라 통계청장이 고시하는 한국표준직업분류에 따른 종교관련종사자(이하 “종교관련종사자”라 한다)가 받는 대통령령으로 정하는 학자금\\n\\n\\u3000\\u3000\\u3000\\u30002) 종교관련종사자가 받는 대통령령으로 정하는 식사 또는 식사대\\n\\n\\u3000\\u3000\\u3000\\u30003) 종교관련종사자가 받는 대통령령으로 정하는 실비변상적 성질의 지급액\\n\\n\\u3000\\u3000\\u3000\\u30004) 종교관련종사자 또는 그 배우자의 출산이나 6세 이하(해당 과세기간 개시일을 기준으로 판단한다) 자녀의 보육과 관련하여 종교단체로부터 받는 금액으로서 월 20만원 이내의 금액\\n\\n\\u3000\\u3000\\u3000\\u30005) 종교관련종사자가 기획재정부령으로 정하는 사택을 제공받아 얻는 이익\\n\\n자. 법령ㆍ조례에 따른 위원회 등의 보수를 받지 아니하는 위원(학술원 및 예술원의 회원을 포함한다) 등이 받는 수당\\n\\n[전문개정 2009. 12. 31.]\\n\\n\\n\\n제13조 삭제 <2009. 12. 31.>\\n\\n\\n\\n제2절 과세표준과 세액의 계산 <개정 2009. 12. 31.>\\n\\n\\n\\n제1관 세액계산 통칙 <개정 2009. 12. 31.>\\n\\n\\n\\n제14조(과세표준의 계산) ① 거주자의 종합소득 및 퇴직소득에 대한 과세표준은 각각 구분하여 계산한다.\\n\\n② 종합소득에 대한 과세표준(이하 “종합소득과세표준”이라 한다)은 제16조, 제17조, 제19조, 제20조, 제20조의3, 제21조, 제24조부터 제26조까지, 제27조부터 제29조까지, 제31조부터 제35조까지, 제37조, 제39조, 제41조부터 제46조까지, 제46조의2, 제47조 및 제47조의2에 따라 계산한 이자소득금액, 배당소득금액, 사업소득금액, 근로소득금액, 연금소득금액 및 기타소득금액의 합계액(이하 “종합소득금액”이라 한다)에서 제50조, 제51조, 제51조의3, 제51조의4 및 제52조에 따른 공제(이하 “종합소득공제”라 한다)를 적용한 금액으로 한다.<개정 2013. 1. 1., 2014. 1. 1.>\\n\\n③ 다음 각 호에 따른 소득의 금액은 종합소득과세표준을 계산할 때 합산하지 아니한다.<개정 2010. 12. 27., 2011. 7. 14., 2013. 1. 1., 2014. 12. 23., 2015. 12. 15., 2017. 12. 19., 2018. 12. 31., 2019. 12. 31., 2020. 12. 29., 2023. 12. 31.>\\n\\n1. 「조세특례제한법」 또는 이 법 제12조에 따라 과세되지 아니하는 소득\\n\\n2. 대통령령으로 정하는 일용근로자(이하 “일용근로자”라 한다)의 근로소득\\n\\n3. 제129조제2항의 세율에 따라 원천징수하는 이자소득 및 배당소득과 제16조제1항제10호에 따른 직장공제회 초과반환금'),\n",
       " Document(id='dcd7442d-eb21-4cb2-b664-b5048b779c98', metadata={'source': './tax_with_table.docx'}, page_content='제5관 근로소득공제ㆍ연금소득공제 및 퇴직소득공제 <개정 2009. 12. 31.>\\n\\n\\n\\n제47조(근로소득공제) ①근로소득이 있는 거주자에 대해서는 해당 과세기간에 받는 총급여액에서 다음의 금액을 공제한다. 다만, 공제액이 2천만원을 초과하는 경우에는 2천만원을 공제한다. <개정 2012. 1. 1., 2014. 1. 1., 2019. 12. 31.>\\n\\n\\n\\n② 일용근로자에 대한 공제액은 제1항에도 불구하고 1일 15만원으로 한다.<개정 2018. 12. 31.>\\n\\n③ 근로소득이 있는 거주자의 해당 과세기간의 총급여액이 제1항 또는 제2항의 공제액에 미달하는 경우에는 그 총급여액을 공제액으로 한다.\\n\\n④ 제1항부터 제3항까지의 규정에 따른 공제를 “근로소득공제”라 한다.\\n\\n⑤ 제1항의 경우에 2인 이상으로부터 근로소득을 받는 사람(일용근로자는 제외한다)에 대하여는 그 근로소득의 합계액을 총급여액으로 하여 제1항에 따라 계산한 근로소득공제액을 총급여액에서 공제한다.<개정 2010. 12. 27.>\\n\\n⑥ 삭제<2010. 12. 27.>\\n\\n[전문개정 2009. 12. 31.]\\n\\n\\n\\n제47조의2(연금소득공제) ①연금소득이 있는 거주자에 대해서는 해당 과세기간에 받은 총연금액(분리과세연금소득은 제외하며, 이하 이 항에서 같다)에서 다음 표에 규정된 금액을 공제한다. 다만, 공제액이 900만원을 초과하는 경우에는 900만원을 공제한다. <개정 2013. 1. 1.>\\n\\n\\n\\n② 제1항에 따른 공제를 “연금소득공제”라 한다.\\n\\n[전문개정 2009. 12. 31.]\\n\\n\\n\\n제48조(퇴직소득공제) ① 퇴직소득이 있는 거주자에 대해서는 해당 과세기간의 퇴직소득금액에서 제1호의 구분에 따른 금액을 공제하고, 그 금액을 근속연수(1년 미만의 기간이 있는 경우에는 이를 1년으로 보며, 제22조제1항제1호의 경우에는 대통령령으로 정하는 방법에 따라 계산한 연수를 말한다. 이하 같다)로 나누고 12를 곱한 후의 금액(이하 이 항에서 “환산급여”라 한다)에서 제2호의 구분에 따른 금액을 공제한다. <개정 2014. 12. 23., 2022. 12. 31.>\\n\\n1. 근속연수에 따라 정한 다음의 금액\\n\\n\\n\\n2. 환산급여에 따라 정한 다음의 금액\\n\\n\\n\\n② 해당 과세기간의 퇴직소득금액이 제1항제1호에 따른 공제금액에 미달하는 경우에는 그 퇴직소득금액을 공제액으로 한다.<개정 2014. 12. 23.>\\n\\n③ 제1항과 제2항에 따른 공제를 “퇴직소득공제”라 한다.\\n\\n④ 퇴직소득공제의 계산 방법에 관하여 필요한 사항은 대통령령으로 정한다.<개정 2013. 1. 1.>\\n\\n⑤ 삭제<2013. 1. 1.>\\n\\n[전문개정 2009. 12. 31.]\\n\\n\\n\\n제49조 삭제 <2006. 12. 30.>\\n\\n\\n\\n제6관 종합소득공제 <개정 2009. 12. 31.>'),\n",
       " Document(id='583b6e44-889b-4093-a0fe-3a96fc91f169', metadata={'source': './tax_with_table.docx'}, page_content='③ 제1항과 제2항에 따른 공제를 “퇴직소득공제”라 한다.\\n\\n④ 퇴직소득공제의 계산 방법에 관하여 필요한 사항은 대통령령으로 정한다.<개정 2013. 1. 1.>\\n\\n⑤ 삭제<2013. 1. 1.>\\n\\n[전문개정 2009. 12. 31.]\\n\\n\\n\\n제49조 삭제 <2006. 12. 30.>\\n\\n\\n\\n제6관 종합소득공제 <개정 2009. 12. 31.>\\n\\n\\n\\n제50조(기본공제) ① 종합소득이 있는 거주자(자연인만 해당한다)에 대해서는 다음 각 호의 어느 하나에 해당하는 사람의 수에 1명당 연 150만원을 곱하여 계산한 금액을 그 거주자의 해당 과세기간의 종합소득금액에서 공제한다. <개정 2015. 12. 15., 2024. 12. 31.>\\n\\n1. 해당 거주자\\n\\n2. 거주자의 배우자로서 해당 과세기간의 소득금액이 없거나 해당 과세기간의 소득금액 합계액이 100만원 이하인 사람(총급여액 500만원 이하의 근로소득만 있는 배우자를 포함한다)\\n\\n3. 거주자(그 배우자를 포함한다. 이하 이 호에서 같다)와 생계를 같이 하는 다음 각 목의 어느 하나에 해당하는 부양가족(제51조제1항제2호의 장애인에 해당되는 경우에는 나이의 제한을 받지 아니한다)으로서 해당 과세기간의 소득금액 합계액이 100만원 이하인 사람(총급여액 500만원 이하의 근로소득만 있는 부양가족을 포함한다)\\n\\n가. 거주자의 직계존속(직계존속이 재혼한 경우에는 그 배우자로서 대통령령으로 정하는 사람을 포함한다)으로서 60세 이상인 사람\\n\\n나. 거주자의 직계비속으로서 대통령령으로 정하는 사람과 대통령령으로 정하는 동거 입양자(이하 “입양자”라 한다)로서 20세 이하(20세가 되는 날과 그 이전 기간을 말한다. 이하 이 조에서 같다)인 사람. 이 경우 해당 직계비속 또는 입양자와 그 배우자가 모두 제51조제1항제2호에 따른 장애인에 해당하는 경우에는 그 배우자를 포함한다.\\n\\n다. 거주자의 형제자매로서 20세 이하 또는 60세 이상인 사람\\n\\n라. 「국민기초생활 보장법」에 따른 수급권자 중 대통령령으로 정하는 사람\\n\\n마. 「아동복지법」에 따른 가정위탁을 받아 양육하는 아동으로서 대통령령으로 정하는 사람(이하 “위탁아동”이라 한다)\\n\\n② 제1항에 따른 공제를 “기본공제”라 한다.\\n\\n③ 거주자의 배우자 또는 부양가족이 다른 거주자의 부양가족에 해당되는 경우에는 대통령령으로 정하는 바에 따라 이를 어느 한 거주자의 종합소득금액에서 공제한다.\\n\\n[전문개정 2009. 12. 31.]\\n\\n\\n\\n제51조(추가공제) ① 제50조에 따른 기본공제대상이 되는 사람(이하 “기본공제대상자”라 한다)이 다음 각 호의 어느 하나에 해당하는 경우에는 거주자의 해당 과세기간 종합소득금액에서 기본공제 외에 각 호별로 정해진 금액을 추가로 공제한다. 다만, 제3호와 제6호에 모두 해당되는 경우에는 제6호를 적용한다. <개정 2013. 1. 1., 2014. 1. 1.>\\n\\n1. 70세 이상인 사람(이하 “경로우대자”라 한다)의 경우 1명당 연 100만원'),\n",
       " Document(id='567005a3-0f37-4e10-baf3-8ff33fc59b3f', metadata={'source': './tax_with_table.docx'}, page_content='⑥ 제1항과 제2항에 따라 결손금 및 이월결손금을 공제할 때 해당 과세기간에 결손금이 발생하고 이월결손금이 있는 경우에는 그 과세기간의 결손금을 먼저 소득금액에서 공제한다.\\n\\n[전문개정 2009. 12. 31.]\\n\\n\\n\\n제46조(채권 등에 대한 소득금액의 계산 특례) ① 거주자가 제16조제1항제1호ㆍ제2호ㆍ제5호 및 제6호에 해당하는 채권 또는 증권과 타인에게 양도가 가능한 증권으로서 대통령령으로 정하는 것(이하 이 조, 제133조의2 및 제156조의3에서 “채권등”이라 한다)의 발행법인으로부터 해당 채권등에서 발생하는 이자 또는 할인액(이하 이 조, 제133조의2 및 제156조의3에서 “이자등”이라 한다)을 지급[전환사채의 주식전환, 교환사채의 주식교환 및 신주인수권부사채의 신주인수권행사(신주 발행대금을 해당 신주인수권부사채로 납입하는 경우만 해당한다) 및 「자본시장과 금융투자업에 관한 법률」 제4조제7항제3호ㆍ제3호의2 및 제3호의3에 해당하는 채권등이 주식으로 전환ㆍ상환되는 경우를 포함한다. 이하 같다]받거나 해당 채권등을 매도(증여ㆍ변제 및 출자 등으로 채권등의 소유권 또는 이자소득의 수급권의 변동이 있는 경우와 매도를 위탁하거나 중개 또는 알선시키는 경우를 포함하되, 환매조건부채권매매거래 등 대통령령으로 정하는 경우는 제외한다. 이하 제133조의2에서 같다)하는 경우에는 거주자에게 그 보유기간별로 귀속되는 이자등 상당액을 해당 거주자의 제16조에 따른 이자소득으로 보아 소득금액을 계산한다. <개정 2010. 12. 27., 2012. 1. 1., 2020. 12. 29., 2024. 12. 31.>\\n\\n② 제1항을 적용할 때 해당 거주자가 해당 채권등을 보유한 기간을 대통령령으로 정하는 바에 따라 입증하지 못하는 경우에는 제133조의2제1항에 따른 원천징수기간의 이자등 상당액이 해당 거주자에게 귀속되는 것으로 보아 소득금액을 계산한다.<개정 2010. 12. 27.>\\n\\n③ 제1항 및 제2항에 따른 이자등 상당액의 계산방법과 그 밖에 필요한 사항은 대통령령으로 정한다.\\n\\n[전문개정 2009. 12. 31.]\\n\\n\\n\\n제46조의2(중도 해지로 인한 이자소득금액 계산의 특례) 종합소득과세표준 확정신고 후 예금 또는 신탁계약의 중도 해지로 이미 지난 과세기간에 속하는 이자소득금액이 감액된 경우 그 중도 해지일이 속하는 과세기간의 종합소득금액에 포함된 이자소득금액에서 그 감액된 이자소득금액을 뺄 수 있다. 다만, 「국세기본법」 제45조의2에 따라 과세표준 및 세액의 경정(更正)을 청구한 경우에는 그러하지 아니하다.\\n\\n[전문개정 2009. 12. 31.]\\n\\n\\n\\n제5관 근로소득공제ㆍ연금소득공제 및 퇴직소득공제 <개정 2009. 12. 31.>\\n\\n\\n\\n제47조(근로소득공제) ①근로소득이 있는 거주자에 대해서는 해당 과세기간에 받는 총급여액에서 다음의 금액을 공제한다. 다만, 공제액이 2천만원을 초과하는 경우에는 2천만원을 공제한다. <개정 2012. 1. 1., 2014. 1. 1., 2019. 12. 31.>'),\n",
       " Document(id='aae61e93-ac01-4873-9df9-d47b25734f1e', metadata={'source': './tax_with_table.docx'}, page_content='5억 원 초과 ~ 10억 원 이하\\n\\n1억 7,406만 원 + (5억 원 초과분 × 42%)\\n\\n10억 원 초과\\n\\n3억 8,406만 원 + (10억 원 초과분 × 45%)\\n\\n\\n\\n② 거주자의 퇴직소득에 대한 소득세는 다음 각 호의 순서에 따라 계산한 금액(이하 “퇴직소득 산출세액”이라 한다)으로 한다.<개정 2013. 1. 1., 2014. 12. 23.>\\n\\n1. 해당 과세기간의 퇴직소득과세표준에 제1항의 세율을 적용하여 계산한 금액\\n\\n2. 제1호의 금액을 12로 나눈 금액에 근속연수를 곱한 금액\\n\\n3. 삭제<2014. 12. 23.>\\n\\n[전문개정 2009. 12. 31.]\\n\\n\\n\\n제2관 세액공제 <개정 2009. 12. 31.>\\n\\n\\n\\n제56조(배당세액공제) ① 거주자의 종합소득금액에 제17조제3항 각 호 외의 부분 단서가 적용되는 배당소득금액이 합산되어 있는 경우에는 같은 항 각 호 외의 부분 단서에 따라 해당 과세기간의 총수입금액에 더한 금액에 해당하는 금액을 종합소득 산출세액에서 공제한다. <개정 2009. 12. 31.>\\n\\n② 제1항에 따른 공제를 “배당세액공제”라 한다.<개정 2009. 12. 31.>\\n\\n③ 삭제<2003. 12. 30.>\\n\\n④ 제1항을 적용할 때 배당세액공제의 대상이 되는 배당소득금액은 제14조제2항의 종합소득과세표준에 포함된 배당소득금액으로서 이자소득등의 종합과세기준금액을 초과하는 것으로 한다.<개정 2009. 12. 31.>\\n\\n⑤ 삭제<2006. 12. 30.>\\n\\n⑥ 배당세액공제액의 계산 등에 필요한 사항은 대통령령으로 정한다.<개정 2009. 12. 31.>\\n\\n[제목개정 2009. 12. 31.]\\n\\n\\n\\n제56조의2(기장세액공제) ① 제160조제3항에 따른 간편장부대상자가 제70조 또는 제74조에 따른 과세표준확정신고를 할 때 복식부기에 따라 기장(記帳)하여 소득금액을 계산하고 제70조제4항제3호에 따른 서류를 제출하는 경우에는 해당 장부에 의하여 계산한 사업소득금액이 종합소득금액에서 차지하는 비율을 종합소득 산출세액에 곱하여 계산한 금액의 100분의 20에 해당하는 금액을 종합소득 산출세액에서 공제한다. 다만, 공제세액이 100만원을 초과하는 경우에는 100만원을 공제한다.\\n\\n② 다음 각 호의 어느 하나에 해당하는 경우에는 제1항에 따른 공제[이하 “기장세액공제”(記帳稅額控除)라 한다]를 적용하지 아니한다.\\n\\n1. 비치ㆍ기록한 장부에 의하여 신고하여야 할 소득금액의 100분의 20 이상을 누락하여 신고한 경우\\n\\n2. 기장세액공제와 관련된 장부 및 증명서류를 해당 과세표준확정신고기간 종료일부터 5년간 보관하지 아니한 경우. 다만, 천재지변 등 대통령령으로 정하는 부득이한 사유에 해당하는 경우에는 그러하지 아니하다.\\n\\n③ 기장세액공제에 관하여 필요한 사항은 대통령령으로 정한다.\\n\\n[전문개정 2009. 12. 31.]'),\n",
       " Document(id='866a22b6-cc1c-4d8d-8f62-127974e2ca8e', metadata={'source': './tax_with_table.docx'}, page_content='1. 보유기간별 공제율: 다음 계산식에 따라 계산한 공제율. 다만, 다음 계산식에 따라 계산한 공제율이 100분의 40보다 큰 경우에는 100분의 40으로 한다.\\n\\n\\n\\n2. 거주기간별 공제율: 다음 계산식에 따라 계산한 공제율\\n\\n\\n\\n⑥ 제5항제1호 및 제2호에 따른 주택으로 보유한 기간은 해당 자산을 사실상 주거용으로 사용한 날부터 기산한다. 다만, 사실상 주거용으로 사용한 날이 분명하지 아니한 경우에는 그 자산의 공부상 용도를 주택으로 변경한 날부터 기산한다.<신설 2023. 12. 31.>\\n\\n⑦ 양도소득금액의 계산에 필요한 사항은 대통령령으로 정한다.<개정 2023. 12. 31.>\\n\\n[전문개정 2009. 12. 31.]\\n\\n[제목개정 2023. 12. 31.]\\n\\n\\n\\n제96조(양도가액) ① 제94조제1항 각 호에 따른 자산의 양도가액은 그 자산의 양도 당시의 양도자와 양수자 간에 실지거래가액에 따른다. <개정 2016. 12. 20.>\\n\\n② 삭제<2016. 12. 20.>\\n\\n③ 제1항을 적용할 때 거주자가 제94조제1항 각 호의 자산을 양도하는 경우로서 다음 각 호의 어느 하나에 해당하는 경우에는 그 가액을 해당 자산의 양도 당시의 실지거래가액으로 본다.<개정 2012. 1. 1., 2016. 12. 20., 2018. 12. 31.>\\n\\n1. 「법인세법」 제2조제12호에 따른 특수관계인에 해당하는 법인(외국법인을 포함하며, 이하 이 항에서 “특수관계법인”이라 한다)에 양도한 경우로서 같은 법 제67조에 따라 해당 거주자의 상여ㆍ배당 등으로 처분된 금액이 있는 경우에는 같은 법 제52조에 따른 시가\\n\\n2. 특수관계법인 외의 자에게 자산을 시가보다 높은 가격으로 양도한 경우로서 「상속세 및 증여세법」 제35조에 따라 해당 거주자의 증여재산가액으로 하는 금액이 있는 경우에는 그 양도가액에서 증여재산가액을 뺀 금액\\n\\n④ 삭제<2016. 12. 20.>\\n\\n[전문개정 2009. 12. 31.]\\n\\n\\n\\n제97조(양도소득의 필요경비 계산) ① 거주자의 양도차익을 계산할 때 양도가액에서 공제할 필요경비는 다음 각 호에서 규정하는 것으로 한다. <개정 2016. 12. 20., 2017. 12. 19., 2018. 12. 31., 2019. 12. 31., 2020. 6. 9.>\\n\\n1. 취득가액(「지적재조사에 관한 특별법」 제18조에 따른 경계의 확정으로 지적공부상의 면적이 증가되어 같은 법 제20조에 따라 징수한 조정금은 제외한다). 다만, 가목의 실지거래가액을 확인할 수 없는 경우에 한정하여 나목의 금액을 적용한다.\\n\\n가. 제94조제1항 각 호의 자산 취득에 든 실지거래가액\\n\\n나. 대통령령으로 정하는 매매사례가액, 감정가액 또는 환산취득가액을 순차적으로 적용한 금액\\n\\n2. 자본적지출액 등으로서 대통령령으로 정하는 것\\n\\n3. 양도비 등으로서 대통령령으로 정하는 것\\n\\n② 제1항에 따른 양도소득의 필요경비는 다음 각 호에 따라 계산한다.<개정 2010. 12. 27., 2017. 12. 19., 2019. 12. 31.>'),\n",
       " Document(id='d9c29784-495d-48f8-8439-bbd9549be386', metadata={'source': './tax_with_table.docx'}, page_content='⑤ 공동으로 소유한 자산에 대한 양도소득금액을 계산하는 경우에는 해당 자산을 공동으로 소유하는 각 거주자가 납세의무를 진다.<신설 2017. 12. 19., 2020. 12. 29.>\\n\\n[전문개정 2009. 12. 31.]\\n\\n[제2조에서 이동 <2009. 12. 31.>]\\n\\n\\n\\n제2조의3(신탁재산 귀속 소득에 대한 납세의무의 범위) ① 신탁재산에 귀속되는 소득은 그 신탁의 이익을 받을 수익자(수익자가 사망하는 경우에는 그 상속인)에게 귀속되는 것으로 본다.\\n\\n② 제1항에도 불구하고 위탁자가 신탁재산을 실질적으로 통제하는 등 대통령령으로 정하는 요건을 충족하는 신탁의 경우에는 그 신탁재산에 귀속되는 소득은 위탁자에게 귀속되는 것으로 본다.<개정 2023. 12. 31.>\\n\\n[본조신설 2020. 12. 29.]\\n\\n\\n\\n제3조(과세소득의 범위) ① 거주자에게는 이 법에서 규정하는 모든 소득에 대해서 과세한다. 다만, 해당 과세기간 종료일 10년 전부터 국내에 주소나 거소를 둔 기간의 합계가 5년 이하인 외국인 거주자에게는 과세대상 소득 중 국외에서 발생한 소득의 경우 국내에서 지급되거나 국내로 송금된 소득에 대해서만 과세한다.\\n\\n② 비거주자에게는 제119조에 따른 국내원천소득에 대해서만과세한다.\\n\\n③ 제1항 및 제2항을 적용하는 경우 「조세특례제한법」 제100조의14제2호의 동업자에게는 같은 법 제100조의18제1항에 따라 배분받은 소득 및 같은 법 제100조의22제1항에 따라 분배받은 자산의 시가 중 분배일의 지분가액을 초과하여 발생하는 소득에 대하여 과세한다.\\n\\n[전문개정 2009. 12. 31.]\\n\\n\\n\\n제4조(소득의 구분) ① 거주자의 소득은 다음 각 호와 같이 구분한다. <개정 2013. 1. 1., 2020. 12. 29., 2024. 12. 31.>\\n\\n1. 종합소득\\n\\n\\u3000이 법에 따라 과세되는 모든 소득에서 제2호 및 제3호에 따른 소득을 제외한 소득으로서 다음 각 목의 소득을 합산한 것\\n\\n가. 이자소득\\n\\n나. 배당소득\\n\\n다. 사업소득\\n\\n라. 근로소득\\n\\n마. 연금소득\\n\\n바. 기타소득\\n\\n2. 퇴직소득\\n\\n2의2. 삭제<2024. 12. 31.>\\n\\n3. 양도소득\\n\\n② 제1항에 따른 소득을 구분할 때 다음 각 호의 신탁을 제외한 신탁의 이익은 「신탁법」 제2조에 따라 수탁자에게 이전되거나 그 밖에 처분된 재산권에서 발생하는 소득의 내용별로 구분한다.<개정 2011. 7. 25., 2020. 12. 29., 2022. 12. 31., 2024. 12. 31.>\\n\\n1. 「법인세법」 제5조제2항에 따라 신탁재산에 귀속되는 소득에 대하여 그 신탁의 수탁자가 법인세를 납부하는 신탁\\n\\n2. 「자본시장과 금융투자업에 관한 법률」 제9조제18항제1호에 따른 투자신탁(제17조제1항제5호에 따른 집합투자기구로 한정한다)\\n\\n3. 「자본시장과 금융투자업에 관한 법률」 제251조제1항에 따른 집합투자업겸영보험회사의 특별계정\\n\\n4. 제17조제1항제5호의3에 따른 수익증권이 발행된 신탁\\n\\n③ 비거주자의 소득은 제119조에 따라 구분한다.'),\n",
       " Document(id='964c5291-52a6-4cf3-a43b-40b3e769a047', metadata={'source': './tax_with_table.docx'}, page_content='③ 거주자의 부양가족 중 거주자(그 배우자를 포함한다)의 직계존속이 주거 형편에 따라 별거하고 있는 경우에는 제1항에도 불구하고 제50조에서 규정하는 생계를 같이 하는 사람으로 본다.\\n\\n④ 제50조, 제51조 및 제59조의2에 따른 공제대상 배우자, 공제대상 부양가족, 공제대상 장애인 또는 공제대상 경로우대자에 해당하는지 여부의 판정은 해당 과세기간의 과세기간 종료일 현재의 상황에 따른다. 다만, 과세기간 종료일 전에 사망한 사람 또는 장애가 치유된 사람에 대해서는 사망일 전날 또는 치유일 전날의 상황에 따른다.<개정 2014. 1. 1.>\\n\\n⑤ 제50조제1항제3호 및 제59조의2에 따라 적용대상 나이가 정해진 경우에는 제4항 본문에도 불구하고 해당 과세기간의 과세기간 중에 해당 나이에 해당되는 날이 있는 경우에 공제대상자로 본다.<개정 2014. 1. 1.>\\n\\n[전문개정 2009. 12. 31.]\\n\\n\\n\\n제54조(종합소득공제 등의 배제) ① 분리과세이자소득, 분리과세배당소득, 분리과세연금소득과 분리과세기타소득만이 있는 자에 대해서는 종합소득공제를 적용하지 아니한다. <개정 2013. 1. 1.>\\n\\n② 제70조제1항, 제70조의2제2항 또는 제74조에 따라 과세표준확정신고를 하여야 할 자가 제70조제4항제1호에 따른 서류를 제출하지 아니한 경우에는 기본공제 중 거주자 본인에 대한 분(分)과 제59조의4제9항에 따른 표준세액공제만을 공제한다. 다만, 과세표준확정신고 여부와 관계없이 그 서류를 나중에 제출한 경우에는 그러하지 아니하다.<개정 2013. 1. 1., 2014. 1. 1.>\\n\\n③ 제82조에 따른 수시부과 결정의 경우에는 기본공제 중 거주자 본인에 대한 분(分)만을 공제한다.\\n\\n[전문개정 2009. 12. 31.]\\n\\n[제목개정 2014. 1. 1.]\\n\\n\\n\\n제54조의2(공동사업에 대한 소득공제 등 특례) 제51조의3 또는 「조세특례제한법」에 따른 소득공제를 적용하거나 제59조의3에 따른 세액공제를 적용하는 경우 제43조제3항에 따라 소득금액이 주된 공동사업자의 소득금액에 합산과세되는 특수관계인이 지출ㆍ납입ㆍ투자ㆍ출자 등을 한 금액이 있으면 주된 공동사업자의 소득에 합산과세되는 소득금액의 한도에서 주된 공동사업자가 지출ㆍ납입ㆍ투자ㆍ출자 등을 한 금액으로 보아 주된 공동사업자의 합산과세되는 종합소득금액 또는 종합소득산출세액을 계산할 때에 소득공제 또는 세액공제를 받을 수 있다. <개정 2012. 1. 1., 2014. 1. 1.>\\n\\n[전문개정 2009. 12. 31.]\\n\\n[제목개정 2014. 1. 1.]\\n\\n\\n\\n제4절 세액의 계산 <개정 2009. 12. 31.>\\n\\n\\n\\n제1관 세율 <개정 2009. 12. 31.>\\n\\n\\n\\n제55조(세율) ①거주자의 종합소득에 대한 소득세는 해당 연도의 종합소득과세표준에 다음의 세율을 적용하여 계산한 금액(이하 “종합소득산출세액”이라 한다)을 그 세액으로 한다. <개정 2014. 1. 1., 2016. 12. 20., 2017. 12. 19., 2020. 12. 29., 2022. 12. 31.>'),\n",
       " Document(id='acc6ce6c-1f30-4381-90a7-caf74e3867bd', metadata={'source': './tax_with_table.docx'}, page_content='④ 제3항 단서와 그 계산식을 적용할 때 근무기간과 총급여는 다음 각 호의 방법으로 산정한다.<개정 2014. 12. 23.>\\n\\n1. 근무기간: 개월 수로 계산한다. 이 경우 1개월 미만의 기간이 있는 경우에는 이를 1개월로 본다.\\n\\n2. 총급여: 봉급ㆍ상여 등 제20조제1항제1호 및 제2호에 따른 근로소득(제12조에 따른 비과세소득은 제외한다)을 합산한다.\\n\\n⑤ 삭제<2013. 1. 1.>\\n\\n⑥ 퇴직소득의 범위 및 계산방법과 그 밖에 필요한 사항은 대통령령으로 정한다.\\n\\n[전문개정 2009. 12. 31.]\\n\\n\\n\\n제23조 삭제 <2006. 12. 30.>\\n\\n\\n\\n제3절 소득금액의 계산 <개정 2009. 12. 31.>\\n\\n\\n\\n제1관 총수입금액 <개정 2009. 12. 31.>\\n\\n\\n\\n제24조(총수입금액의 계산) ① 거주자의 각 소득에 대한 총수입금액(총급여액과 총연금액을 포함한다. 이하 같다)은 해당 과세기간에 수입하였거나 수입할 금액의 합계액으로 한다.\\n\\n② 제1항의 경우 금전 외의 것을 수입할 때에는 그 수입금액을 그 거래 당시의 가액에 의하여 계산한다.\\n\\n③ 총수입금액을 계산할 때 수입하였거나 수입할 금액의 범위와 계산에 관하여 필요한 사항은 대통령령으로 정한다.\\n\\n[전문개정 2009. 12. 31.]\\n\\n\\n\\n제25조(총수입금액 계산의 특례) ① 거주자가 부동산 또는 그 부동산상의 권리 등을 대여하고 보증금ㆍ전세금 또는 이와 유사한 성질의 금액(이하 이 항에서 “보증금등”이라 한다)을 받은 경우에는 대통령령으로 정하는 바에 따라 계산한 금액을 사업소득금액을 계산할 때에 총수입금액에 산입(算入)한다. 다만, 주택[주거의 용도로만 쓰이는 면적이 1호(戶) 또는 1세대당 40제곱미터 이하인 주택으로서 해당 과세기간의 기준시가가 2억원 이하인 주택은 2026년 12월 31일까지는 주택 수에 포함하지 아니한다]을 대여하고 보증금등을 받은 경우에는 다음 각 호의 어느 하나에 해당하는 경우를 말하며, 주택 수의 계산 그밖에 필요한 사항은 대통령령으로 정한다. <개정 2012. 1. 1., 2014. 1. 1., 2016. 12. 20., 2018. 12. 31., 2021. 12. 8., 2023. 12. 31.>\\n\\n1. 3주택 이상을 소유하고 해당 주택의 보증금등의 합계액이 3억원을 초과하는 경우\\n\\n2. 2주택(해당 과세기간의 기준시가가 12억원 이하인 주택은 주택 수에 포함하지 아니한다)을 소유하고 해당 주택의 보증금등의 합계액이 3억원 이상의 금액으로서 대통령령으로 정하는 금액을 초과하는 경우\\n\\n② 거주자가 재고자산(在庫資産) 또는 임목을 가사용으로 소비하거나 종업원 또는 타인에게 지급한 경우에도 이를 소비하거나 지급하였을 때의 가액에 해당하는 금액은 그 소비하거나 지급한 날이 속하는 과세기간의 사업소득금액 또는 기타소득금액을 계산할 때 총수입금액에 산입한다.\\n\\n③ 삭제<2017. 12. 19.>\\n\\n[시행일: 2026. 1. 1.] 제25조제1항제2호')]"
      ]
     },
     "execution_count": 3,
     "metadata": {},
     "output_type": "execute_result"
    }
   ],
   "source": [
    "retrieved_docs=database.similarity_search(query_n,k=10)\n",
    "retrieved_docs"
   ]
  },
  {
   "cell_type": "markdown",
   "id": "4c81c8b3",
   "metadata": {},
   "source": [
    "# query 정규화, 고도화 작업이 필요한 이유"
   ]
  },
  {
   "cell_type": "code",
   "execution_count": 5,
   "id": "67264e54",
   "metadata": {},
   "outputs": [
    {
     "data": {
      "text/plain": [
       "('연봉 5천만원인 직장인의 소득세는 얼마인가요?',\n",
       " '과세표준 5,000만원인 거주자의 소득세는 얼마인가 계산 기준과 누진공제를 적용해 계산')"
      ]
     },
     "execution_count": 5,
     "metadata": {},
     "output_type": "execute_result"
    }
   ],
   "source": [
    "query, query_n"
   ]
  },
  {
   "cell_type": "markdown",
   "id": "dabfec4c",
   "metadata": {},
   "source": [
    "#  Retrieval와 RetrievalQA 체인"
   ]
  },
  {
   "cell_type": "code",
   "execution_count": 6,
   "id": "19935969",
   "metadata": {},
   "outputs": [
    {
     "data": {
      "text/plain": [
       "[Document(id='9d0da24d-1928-4a80-b1a2-47dfb2926a22', metadata={'source': './tax_with_table.docx'}, page_content='제55조(세율) ①거주자의 종합소득에 대한 소득세는 해당 연도의 종합소득과세표준에 다음의 세율을 적용하여 계산한 금액(이하 “종합소득산출세액”이라 한다)을 그 세액으로 한다. <개정 2014. 1. 1., 2016. 12. 20., 2017. 12. 19., 2020. 12. 29., 2022. 12. 31.>\\n\\n| 종합소득 과세표준 구간               | 세율 (산출세액 계산식)                           |\\n\\n| ---------------------------------- | ----------------------------------------- |\\n\\n| 1,400만 원 이하                       | 과세표준의 **6%**                          |\\n\\n| 1,400만 원 초과 ~ 5,000만 원 이하        | **84만 원** + (1,400만 원 초과분 × 15%)      |\\n\\n| 5,000만 원 초과 ~ 8,800만 원 이하        | **624만 원** + (5,000만 원 초과분 × 24%)     |\\n\\n| 8,800만 원 초과 ~ 1억 5천만 원 이하      | **1,536만 원** + (8,800만 원 초과분 × 35%)   |\\n\\n| 1억 5천만 원 초과 ~ 3억 원 이하          | **3,706만 원** + (1억 5천만 원 초과분 × 38%) |\\n\\n| 3억 원 초과 ~ 5억 원 이하              | **9,406만 원** + (3억 원 초과분 × 40%)       |\\n\\n| 5억 원 초과 ~ 10억 원 이하             | **1억 7,406만 원** + (5억 원 초과분 × 42%)    |\\n\\n| 10억 원 초과                        | **3억 8,406만 원** + (10억 원 초과분 × 45%)   |\\n\\n종합소득 과세표준 구간\\n\\n세율 (산출세액 계산식)\\n\\n1,400만 원 이하\\n\\n과세표준의 6%\\n\\n1,400만 원 초과 ~ 5,000만 원 이하\\n\\n84만 원 + (1,400만 원 초과분 × 15%)\\n\\n5,000만 원 초과 ~ 8,800만 원 이하\\n\\n624만 원 + (5,000만 원 초과분 × 24%)\\n\\n8,800만 원 초과 ~ 1억 5천만 원 이하\\n\\n1,536만 원 + (8,800만 원 초과분 × 35%)\\n\\n1억 5천만 원 초과 ~ 3억 원 이하\\n\\n3,706만 원 + (1억 5천만 원 초과분 × 38%)\\n\\n3억 원 초과 ~ 5억 원 이하\\n\\n9,406만 원 + (3억 원 초과분 × 40%)\\n\\n5억 원 초과 ~ 10억 원 이하\\n\\n1억 7,406만 원 + (5억 원 초과분 × 42%)\\n\\n10억 원 초과\\n\\n3억 8,406만 원 + (10억 원 초과분 × 45%)\\n\\n\\n\\n② 거주자의 퇴직소득에 대한 소득세는 다음 각 호의 순서에 따라 계산한 금액(이하 “퇴직소득 산출세액”이라 한다)으로 한다.<개정 2013. 1. 1., 2014. 12. 23.>'),\n",
       " Document(id='6a1fcabe-e72f-4297-ba8c-4d7d4230503f', metadata={'source': './tax_with_table.docx'}, page_content='바. 「문화유산의 보존 및 활용에 관한 법률」에 따라 국가지정문화유산으로 지정된 서화ㆍ골동품의 양도로 발생하는 소득\\n\\n사. 서화ㆍ골동품을 박물관 또는 미술관에 양도함으로써 발생하는 소득\\n\\n아. 제21조제1항제26호에 따른 종교인소득 중 다음의 어느 하나에 해당하는 소득\\n\\n\\u3000\\u3000\\u3000\\u30001) 「통계법」 제22조에 따라 통계청장이 고시하는 한국표준직업분류에 따른 종교관련종사자(이하 “종교관련종사자”라 한다)가 받는 대통령령으로 정하는 학자금\\n\\n\\u3000\\u3000\\u3000\\u30002) 종교관련종사자가 받는 대통령령으로 정하는 식사 또는 식사대\\n\\n\\u3000\\u3000\\u3000\\u30003) 종교관련종사자가 받는 대통령령으로 정하는 실비변상적 성질의 지급액\\n\\n\\u3000\\u3000\\u3000\\u30004) 종교관련종사자 또는 그 배우자의 출산이나 6세 이하(해당 과세기간 개시일을 기준으로 판단한다) 자녀의 보육과 관련하여 종교단체로부터 받는 금액으로서 월 20만원 이내의 금액\\n\\n\\u3000\\u3000\\u3000\\u30005) 종교관련종사자가 기획재정부령으로 정하는 사택을 제공받아 얻는 이익\\n\\n자. 법령ㆍ조례에 따른 위원회 등의 보수를 받지 아니하는 위원(학술원 및 예술원의 회원을 포함한다) 등이 받는 수당\\n\\n[전문개정 2009. 12. 31.]\\n\\n\\n\\n제13조 삭제 <2009. 12. 31.>\\n\\n\\n\\n제2절 과세표준과 세액의 계산 <개정 2009. 12. 31.>\\n\\n\\n\\n제1관 세액계산 통칙 <개정 2009. 12. 31.>\\n\\n\\n\\n제14조(과세표준의 계산) ① 거주자의 종합소득 및 퇴직소득에 대한 과세표준은 각각 구분하여 계산한다.\\n\\n② 종합소득에 대한 과세표준(이하 “종합소득과세표준”이라 한다)은 제16조, 제17조, 제19조, 제20조, 제20조의3, 제21조, 제24조부터 제26조까지, 제27조부터 제29조까지, 제31조부터 제35조까지, 제37조, 제39조, 제41조부터 제46조까지, 제46조의2, 제47조 및 제47조의2에 따라 계산한 이자소득금액, 배당소득금액, 사업소득금액, 근로소득금액, 연금소득금액 및 기타소득금액의 합계액(이하 “종합소득금액”이라 한다)에서 제50조, 제51조, 제51조의3, 제51조의4 및 제52조에 따른 공제(이하 “종합소득공제”라 한다)를 적용한 금액으로 한다.<개정 2013. 1. 1., 2014. 1. 1.>\\n\\n③ 다음 각 호에 따른 소득의 금액은 종합소득과세표준을 계산할 때 합산하지 아니한다.<개정 2010. 12. 27., 2011. 7. 14., 2013. 1. 1., 2014. 12. 23., 2015. 12. 15., 2017. 12. 19., 2018. 12. 31., 2019. 12. 31., 2020. 12. 29., 2023. 12. 31.>\\n\\n1. 「조세특례제한법」 또는 이 법 제12조에 따라 과세되지 아니하는 소득\\n\\n2. 대통령령으로 정하는 일용근로자(이하 “일용근로자”라 한다)의 근로소득\\n\\n3. 제129조제2항의 세율에 따라 원천징수하는 이자소득 및 배당소득과 제16조제1항제10호에 따른 직장공제회 초과반환금'),\n",
       " Document(id='dcd7442d-eb21-4cb2-b664-b5048b779c98', metadata={'source': './tax_with_table.docx'}, page_content='제5관 근로소득공제ㆍ연금소득공제 및 퇴직소득공제 <개정 2009. 12. 31.>\\n\\n\\n\\n제47조(근로소득공제) ①근로소득이 있는 거주자에 대해서는 해당 과세기간에 받는 총급여액에서 다음의 금액을 공제한다. 다만, 공제액이 2천만원을 초과하는 경우에는 2천만원을 공제한다. <개정 2012. 1. 1., 2014. 1. 1., 2019. 12. 31.>\\n\\n\\n\\n② 일용근로자에 대한 공제액은 제1항에도 불구하고 1일 15만원으로 한다.<개정 2018. 12. 31.>\\n\\n③ 근로소득이 있는 거주자의 해당 과세기간의 총급여액이 제1항 또는 제2항의 공제액에 미달하는 경우에는 그 총급여액을 공제액으로 한다.\\n\\n④ 제1항부터 제3항까지의 규정에 따른 공제를 “근로소득공제”라 한다.\\n\\n⑤ 제1항의 경우에 2인 이상으로부터 근로소득을 받는 사람(일용근로자는 제외한다)에 대하여는 그 근로소득의 합계액을 총급여액으로 하여 제1항에 따라 계산한 근로소득공제액을 총급여액에서 공제한다.<개정 2010. 12. 27.>\\n\\n⑥ 삭제<2010. 12. 27.>\\n\\n[전문개정 2009. 12. 31.]\\n\\n\\n\\n제47조의2(연금소득공제) ①연금소득이 있는 거주자에 대해서는 해당 과세기간에 받은 총연금액(분리과세연금소득은 제외하며, 이하 이 항에서 같다)에서 다음 표에 규정된 금액을 공제한다. 다만, 공제액이 900만원을 초과하는 경우에는 900만원을 공제한다. <개정 2013. 1. 1.>\\n\\n\\n\\n② 제1항에 따른 공제를 “연금소득공제”라 한다.\\n\\n[전문개정 2009. 12. 31.]\\n\\n\\n\\n제48조(퇴직소득공제) ① 퇴직소득이 있는 거주자에 대해서는 해당 과세기간의 퇴직소득금액에서 제1호의 구분에 따른 금액을 공제하고, 그 금액을 근속연수(1년 미만의 기간이 있는 경우에는 이를 1년으로 보며, 제22조제1항제1호의 경우에는 대통령령으로 정하는 방법에 따라 계산한 연수를 말한다. 이하 같다)로 나누고 12를 곱한 후의 금액(이하 이 항에서 “환산급여”라 한다)에서 제2호의 구분에 따른 금액을 공제한다. <개정 2014. 12. 23., 2022. 12. 31.>\\n\\n1. 근속연수에 따라 정한 다음의 금액\\n\\n\\n\\n2. 환산급여에 따라 정한 다음의 금액\\n\\n\\n\\n② 해당 과세기간의 퇴직소득금액이 제1항제1호에 따른 공제금액에 미달하는 경우에는 그 퇴직소득금액을 공제액으로 한다.<개정 2014. 12. 23.>\\n\\n③ 제1항과 제2항에 따른 공제를 “퇴직소득공제”라 한다.\\n\\n④ 퇴직소득공제의 계산 방법에 관하여 필요한 사항은 대통령령으로 정한다.<개정 2013. 1. 1.>\\n\\n⑤ 삭제<2013. 1. 1.>\\n\\n[전문개정 2009. 12. 31.]\\n\\n\\n\\n제49조 삭제 <2006. 12. 30.>\\n\\n\\n\\n제6관 종합소득공제 <개정 2009. 12. 31.>'),\n",
       " Document(id='583b6e44-889b-4093-a0fe-3a96fc91f169', metadata={'source': './tax_with_table.docx'}, page_content='③ 제1항과 제2항에 따른 공제를 “퇴직소득공제”라 한다.\\n\\n④ 퇴직소득공제의 계산 방법에 관하여 필요한 사항은 대통령령으로 정한다.<개정 2013. 1. 1.>\\n\\n⑤ 삭제<2013. 1. 1.>\\n\\n[전문개정 2009. 12. 31.]\\n\\n\\n\\n제49조 삭제 <2006. 12. 30.>\\n\\n\\n\\n제6관 종합소득공제 <개정 2009. 12. 31.>\\n\\n\\n\\n제50조(기본공제) ① 종합소득이 있는 거주자(자연인만 해당한다)에 대해서는 다음 각 호의 어느 하나에 해당하는 사람의 수에 1명당 연 150만원을 곱하여 계산한 금액을 그 거주자의 해당 과세기간의 종합소득금액에서 공제한다. <개정 2015. 12. 15., 2024. 12. 31.>\\n\\n1. 해당 거주자\\n\\n2. 거주자의 배우자로서 해당 과세기간의 소득금액이 없거나 해당 과세기간의 소득금액 합계액이 100만원 이하인 사람(총급여액 500만원 이하의 근로소득만 있는 배우자를 포함한다)\\n\\n3. 거주자(그 배우자를 포함한다. 이하 이 호에서 같다)와 생계를 같이 하는 다음 각 목의 어느 하나에 해당하는 부양가족(제51조제1항제2호의 장애인에 해당되는 경우에는 나이의 제한을 받지 아니한다)으로서 해당 과세기간의 소득금액 합계액이 100만원 이하인 사람(총급여액 500만원 이하의 근로소득만 있는 부양가족을 포함한다)\\n\\n가. 거주자의 직계존속(직계존속이 재혼한 경우에는 그 배우자로서 대통령령으로 정하는 사람을 포함한다)으로서 60세 이상인 사람\\n\\n나. 거주자의 직계비속으로서 대통령령으로 정하는 사람과 대통령령으로 정하는 동거 입양자(이하 “입양자”라 한다)로서 20세 이하(20세가 되는 날과 그 이전 기간을 말한다. 이하 이 조에서 같다)인 사람. 이 경우 해당 직계비속 또는 입양자와 그 배우자가 모두 제51조제1항제2호에 따른 장애인에 해당하는 경우에는 그 배우자를 포함한다.\\n\\n다. 거주자의 형제자매로서 20세 이하 또는 60세 이상인 사람\\n\\n라. 「국민기초생활 보장법」에 따른 수급권자 중 대통령령으로 정하는 사람\\n\\n마. 「아동복지법」에 따른 가정위탁을 받아 양육하는 아동으로서 대통령령으로 정하는 사람(이하 “위탁아동”이라 한다)\\n\\n② 제1항에 따른 공제를 “기본공제”라 한다.\\n\\n③ 거주자의 배우자 또는 부양가족이 다른 거주자의 부양가족에 해당되는 경우에는 대통령령으로 정하는 바에 따라 이를 어느 한 거주자의 종합소득금액에서 공제한다.\\n\\n[전문개정 2009. 12. 31.]\\n\\n\\n\\n제51조(추가공제) ① 제50조에 따른 기본공제대상이 되는 사람(이하 “기본공제대상자”라 한다)이 다음 각 호의 어느 하나에 해당하는 경우에는 거주자의 해당 과세기간 종합소득금액에서 기본공제 외에 각 호별로 정해진 금액을 추가로 공제한다. 다만, 제3호와 제6호에 모두 해당되는 경우에는 제6호를 적용한다. <개정 2013. 1. 1., 2014. 1. 1.>\\n\\n1. 70세 이상인 사람(이하 “경로우대자”라 한다)의 경우 1명당 연 100만원'),\n",
       " Document(id='567005a3-0f37-4e10-baf3-8ff33fc59b3f', metadata={'source': './tax_with_table.docx'}, page_content='⑥ 제1항과 제2항에 따라 결손금 및 이월결손금을 공제할 때 해당 과세기간에 결손금이 발생하고 이월결손금이 있는 경우에는 그 과세기간의 결손금을 먼저 소득금액에서 공제한다.\\n\\n[전문개정 2009. 12. 31.]\\n\\n\\n\\n제46조(채권 등에 대한 소득금액의 계산 특례) ① 거주자가 제16조제1항제1호ㆍ제2호ㆍ제5호 및 제6호에 해당하는 채권 또는 증권과 타인에게 양도가 가능한 증권으로서 대통령령으로 정하는 것(이하 이 조, 제133조의2 및 제156조의3에서 “채권등”이라 한다)의 발행법인으로부터 해당 채권등에서 발생하는 이자 또는 할인액(이하 이 조, 제133조의2 및 제156조의3에서 “이자등”이라 한다)을 지급[전환사채의 주식전환, 교환사채의 주식교환 및 신주인수권부사채의 신주인수권행사(신주 발행대금을 해당 신주인수권부사채로 납입하는 경우만 해당한다) 및 「자본시장과 금융투자업에 관한 법률」 제4조제7항제3호ㆍ제3호의2 및 제3호의3에 해당하는 채권등이 주식으로 전환ㆍ상환되는 경우를 포함한다. 이하 같다]받거나 해당 채권등을 매도(증여ㆍ변제 및 출자 등으로 채권등의 소유권 또는 이자소득의 수급권의 변동이 있는 경우와 매도를 위탁하거나 중개 또는 알선시키는 경우를 포함하되, 환매조건부채권매매거래 등 대통령령으로 정하는 경우는 제외한다. 이하 제133조의2에서 같다)하는 경우에는 거주자에게 그 보유기간별로 귀속되는 이자등 상당액을 해당 거주자의 제16조에 따른 이자소득으로 보아 소득금액을 계산한다. <개정 2010. 12. 27., 2012. 1. 1., 2020. 12. 29., 2024. 12. 31.>\\n\\n② 제1항을 적용할 때 해당 거주자가 해당 채권등을 보유한 기간을 대통령령으로 정하는 바에 따라 입증하지 못하는 경우에는 제133조의2제1항에 따른 원천징수기간의 이자등 상당액이 해당 거주자에게 귀속되는 것으로 보아 소득금액을 계산한다.<개정 2010. 12. 27.>\\n\\n③ 제1항 및 제2항에 따른 이자등 상당액의 계산방법과 그 밖에 필요한 사항은 대통령령으로 정한다.\\n\\n[전문개정 2009. 12. 31.]\\n\\n\\n\\n제46조의2(중도 해지로 인한 이자소득금액 계산의 특례) 종합소득과세표준 확정신고 후 예금 또는 신탁계약의 중도 해지로 이미 지난 과세기간에 속하는 이자소득금액이 감액된 경우 그 중도 해지일이 속하는 과세기간의 종합소득금액에 포함된 이자소득금액에서 그 감액된 이자소득금액을 뺄 수 있다. 다만, 「국세기본법」 제45조의2에 따라 과세표준 및 세액의 경정(更正)을 청구한 경우에는 그러하지 아니하다.\\n\\n[전문개정 2009. 12. 31.]\\n\\n\\n\\n제5관 근로소득공제ㆍ연금소득공제 및 퇴직소득공제 <개정 2009. 12. 31.>\\n\\n\\n\\n제47조(근로소득공제) ①근로소득이 있는 거주자에 대해서는 해당 과세기간에 받는 총급여액에서 다음의 금액을 공제한다. 다만, 공제액이 2천만원을 초과하는 경우에는 2천만원을 공제한다. <개정 2012. 1. 1., 2014. 1. 1., 2019. 12. 31.>')]"
      ]
     },
     "execution_count": 6,
     "metadata": {},
     "output_type": "execute_result"
    }
   ],
   "source": [
    "retriever = database.as_retriever( # 기본 리트피버\n",
    "    search_type = 'similarity',\n",
    "    search_kwargs = {'k':5}\n",
    ")\n",
    "retriever.invoke(query_n)"
   ]
  },
  {
   "cell_type": "code",
   "execution_count": 7,
   "id": "109c7589",
   "metadata": {},
   "outputs": [],
   "source": [
    "from langchain import hub\n",
    "prompt = hub.pull('rlm/rag-prompt') # 범용 래그프롬프트"
   ]
  },
  {
   "cell_type": "code",
   "execution_count": 8,
   "id": "8ed45c5b",
   "metadata": {},
   "outputs": [],
   "source": [
    "from langchain_openai import ChatOpenAI\n",
    "llm = ChatOpenAI(model='gpt-4o-mini')"
   ]
  },
  {
   "cell_type": "code",
   "execution_count": 9,
   "id": "9d22f2e1",
   "metadata": {},
   "outputs": [],
   "source": [
    "from langchain.chains import RetrievalQA\n",
    "qa_chain = RetrievalQA.from_chain_type(\n",
    "    llm= llm,\n",
    "    retriever = retriever,\n",
    "    chain_type_kwargs={'prompt': prompt}\n",
    ")"
   ]
  },
  {
   "cell_type": "code",
   "execution_count": null,
   "id": "f4e0428f",
   "metadata": {},
   "outputs": [],
   "source": [
    "response = qa_chain.invoke({\"query\": query_n}) # 소득세법 문서 추출 체인"
   ]
  },
  {
   "cell_type": "code",
   "execution_count": 11,
   "id": "2c716dd5",
   "metadata": {},
   "outputs": [
    {
     "data": {
      "text/plain": [
       "{'query': '과세표준 5,000만원인 거주자의 소득세는 얼마인가 계산 기준과 누진공제를 적용해 계산',\n",
       " 'result': '과세표준 5,000만원에 대한 소득세는 84만원 + (3,600만원 × 15%)로 계산됩니다. 즉, 84만원 + 540만원 = 624만원입니다. 따라서 과세표준 5,000만원인 거주자의 소득세는 624만원입니다.'}"
      ]
     },
     "execution_count": 11,
     "metadata": {},
     "output_type": "execute_result"
    }
   ],
   "source": [
    "response"
   ]
  },
  {
   "cell_type": "markdown",
   "id": "f6a5e5ac",
   "metadata": {},
   "source": [
    "# Retrieval를 위한 키워드 사전(용어사전)"
   ]
  },
  {
   "cell_type": "code",
   "execution_count": null,
   "id": "02a67c64",
   "metadata": {},
   "outputs": [],
   "source": [
    "from langchain_core.prompts import ChatPromptTemplate\n",
    "\n",
    "dictionary = ['사람을 나타내는 표현 --> 거주자']\n",
    "\n",
    "prompt_dic = ChatPromptTemplate.from_template(\n",
    "    f\"\"\"\n",
    "    사용자의 질문을 보고, 아래 사전을 참고해서 사용자의 질문을 변경하세요.\n",
    "    만약 변경할 필요가 없다고 판단되면, 사용자의 질문을 변경하지 않아도 됩니다.\n",
    "    그런 경우에는 질문만 리턴하세요.\n",
    "\n",
    "    사전 : {dictionary}\n",
    "\n",
    "    질문 : {{question}}\n",
    "    \"\"\"\n",
    ")"
   ]
  },
  {
   "cell_type": "code",
   "execution_count": 19,
   "id": "4b197244",
   "metadata": {},
   "outputs": [],
   "source": [
    "dictionary_chain = prompt_dic | llm | StrOutputParser()\n",
    "tax_chain = {'query' : dictionary_chain} | qa_chain"
   ]
  },
  {
   "cell_type": "code",
   "execution_count": 16,
   "id": "2455e821",
   "metadata": {},
   "outputs": [
    {
     "data": {
      "text/plain": [
       "'연봉 5천만원인 직장인의 소득세는 얼마인가요?'"
      ]
     },
     "execution_count": 16,
     "metadata": {},
     "output_type": "execute_result"
    }
   ],
   "source": [
    "query"
   ]
  },
  {
   "cell_type": "code",
   "execution_count": 17,
   "id": "d669f954",
   "metadata": {},
   "outputs": [
    {
     "data": {
      "text/plain": [
       "'연봉 5천만원인 거주자의 소득세는 얼마인가요?'"
      ]
     },
     "execution_count": 17,
     "metadata": {},
     "output_type": "execute_result"
    }
   ],
   "source": [
    "new_query = dictionary_chain.invoke({'question':query})\n",
    "new_query"
   ]
  },
  {
   "cell_type": "code",
   "execution_count": 18,
   "id": "9e136f01",
   "metadata": {},
   "outputs": [
    {
     "data": {
      "text/plain": [
       "{'query': '연봉 5천만원인 거주자의 소득세는 얼마인가요?',\n",
       " 'result': '연봉 5천만원인 거주자의 소득세는 84만 원 + (1,400만 원 초과분인 3,600만 원 × 15%)로 계산됩니다. 따라서 소득세는 84만 원 + 540만 원으로 총 624만 원입니다.'}"
      ]
     },
     "execution_count": 18,
     "metadata": {},
     "output_type": "execute_result"
    }
   ],
   "source": [
    "tax_chain.invoke({'question':query})"
   ]
  },
  {
   "cell_type": "markdown",
   "id": "ab3d48c8",
   "metadata": {},
   "source": [
    "---"
   ]
  },
  {
   "cell_type": "markdown",
   "id": "e571e57d",
   "metadata": {},
   "source": [
    "# 실습\n",
    "제81조의9(신용카드 및 현금영수증 발급 불성실 가산세) - 69p   \n",
    "이미지를 텍스트로 바꿈  "
   ]
  },
  {
   "cell_type": "code",
   "execution_count": 1,
   "id": "c6a71181",
   "metadata": {},
   "outputs": [],
   "source": [
    "# 제81조의9(신용카드 및 현금영수증 발급 불성실 가산세) - 69p\n",
    "# 이미지를 텍스트로 바꿈 \n",
    "from langchain_community.document_loaders import Docx2txtLoader\n",
    "loader = Docx2txtLoader('./tax.docx')\n",
    "docu = loader.load()\n",
    "\n",
    "# 문서 분할\n",
    "from langchain.text_splitter import RecursiveCharacterTextSplitter\n",
    "splitter = RecursiveCharacterTextSplitter(\n",
    "    chunk_size=1500, # 강사님이 추천해준 값\n",
    "    chunk_overlap=200, # 강사님이 추천해준 값\n",
    ")\n",
    "\n",
    "doc_list = loader.load_and_split(text_splitter=splitter)\n",
    "\n",
    "# 임베딩\n",
    "from langchain_openai import OpenAIEmbeddings\n",
    "from dotenv import load_dotenv\n",
    "\n",
    "# 임베딩 모델\n",
    "embedding = OpenAIEmbeddings(model='text-embedding-3-large')\n",
    "\n",
    "# 벡터 DB 적재\n",
    "from langchain_chroma import Chroma\n",
    "database = Chroma.from_documents(\n",
    "    documents=doc_list, \n",
    "    embedding=embedding,\n",
    "    collection_name='chroma',\n",
    "    persist_directory='./chroma_card' # 저장소 이름 다르게 해\n",
    ")"
   ]
  },
  {
   "cell_type": "code",
   "execution_count": null,
   "id": "99b25496",
   "metadata": {},
   "outputs": [
    {
     "data": {
      "text/plain": [
       "([Document(id='e0ec6b67-3134-459a-abca-defa15579b5e', metadata={'source': './tax.docx'}, page_content='B : 미가입기간(제162조의3제1항에 따른 가입기한의 다음 날부터 가입일 전날까지의 일수를 말하며, 미가입기간이 2개 이상의 과세기간에 걸쳐 있으면 각 과세기간별로 미가입기간을 적용한다)\\n\\n\\n\\nC : 365 (윤년에는 366으로 한다)\\n\\n\\n\\n2. 제162조의3제3항을 위반하여 현금영수증 발급을 거부하거나 사실과 다르게 발급하여 같은 조 제6항 후단에 따라 납세지 관할 세무서장으로부터 신고금액을 통보받은 경우(현금영수증의 발급대상 금액이 건당 5천원 이상인 경우만 해당하며, 제3호에 해당하는 경우는 제외한다): 통보받은 건별 발급 거부 금액 또는 사실과 다르게 발급한 금액(건별로 발급하여야 할 금액과의 차액을 말한다)의 100분의 5(건별로 계산한 금액이 5천원 미만이면 5천원으로 한다)\\n\\n3. 제162조의3제4항을 위반하여 현금영수증을 발급하지 아니한 경우(「국민건강보험법」에 따른 보험급여의 대상인 경우 등 대통령령으로 정하는 경우는 제외한다): 미발급금액의 100분의 20(착오나 누락으로 인하여 거래대금을 받은 날부터 10일 이내에 관할 세무서에 자진 신고하거나 현금영수증을 자진 발급한 경우에는 100분의 10으로 한다)\\n\\n③ 제1항 및 제2항에 따른 가산세는 종합소득산출세액이 없는 경우에도 적용한다.\\n\\n[본조신설 2019. 12. 31.]\\n\\n\\n\\n제81조의10(계산서 등 제출 불성실 가산세) ① 사업자(대통령령으로 정하는 소규모사업자는 제외한다)가 다음 각 호의 어느 하나에 해당하는 경우에는 다음 각 호의 구분에 따른 금액을 가산세로 해당 과세기간의 종합소득 결정세액에 더하여 납부하여야 한다.\\n\\n1. 제163조제1항 또는 제2항에 따라 발급한 계산서(같은 조 제1항 후단에 따른 전자계산서를 포함한다. 이하 이 조에서 같다)에 대통령령으로 정하는 기재 사항의 전부 또는 일부가 기재되지 아니하거나 사실과 다르게 기재된 경우(제2호가 적용되는 분은 제외한다): 공급가액의 100분의 1\\n\\n2. 제163조제5항에 따른 매출ㆍ매입처별 계산서합계표(이하 이 호에서 “계산서합계표”라 한다)의 제출과 관련하여 다음 각 목의 어느 하나에 해당하는 경우(제4호가 적용되는 분의 매출가액 또는 매입가액은 제외한다): 다음 각 목의 구분에 따른 금액\\n\\n가. 계산서합계표를 제163조제5항에 따라 제출하지 아니한 경우: 공급가액의 1천분의 5(제출기한이 지난 후 1개월 이내에 제출하는 경우에는 공급가액의 1천분의 3으로 한다)\\n\\n나. 제출한 계산서합계표에 대통령령으로 정하는 기재하여야 할 사항의 전부 또는 일부가 기재되지 아니하거나 사실과 다르게 기재된 경우(계산서합계표의 기재 사항이 착오로 기재된 경우로서 대통령령으로 정하는 바에 따라 거래사실이 확인되는 분의 매출가액 또는 매입가액은 제외한다): 공급가액의 1천분의 5'),\n",
       "  Document(id='0490e86f-2a75-460b-ab3a-d6b058dcbc85', metadata={'source': './tax.docx'}, page_content='③ 제1항에 따른 가산세는 종합소득산출세액이 없는 경우에도 적용한다.\\n\\n[본조신설 2019. 12. 31.]\\n\\n\\n\\n제81조의8(사업용계좌 신고ㆍ사용 불성실 가산세) ① 사업자가 다음 각 호의 어느 하나에 해당하는 경우에는 다음 각 호의 구분에 따른 금액을 가산세로 해당 과세기간의 종합소득 결정세액에 더하여 납부하여야 한다.\\n\\n1. 제160조의5제1항 각 호의 어느 하나에 해당하는 경우로서 사업용계좌를 사용하지 아니한 경우: 사업용계좌를 사용하지 아니한 금액의 1천분의 2\\n\\n2. 제160조의5제3항에 따라 사업용계좌를 신고하지 아니한 경우(사업장별 신고를 하지 아니하고 이미 신고한 다른 사업장의 사업용계좌를 사용한 경우는 제외한다): 다음 각 목의 금액 중 큰 금액\\n\\n가. 다음 계산식에 따라 계산한 금액\\n\\n\\n\\n나. 제160조의5제1항 각 호에 따른 거래금액의 합계액의 1천분의 2\\n\\n② 제1항에 따른 가산세는 종합소득산출세액이 없는 경우에도 적용한다.\\n\\n[본조신설 2019. 12. 31.]\\n\\n\\n\\n제81조의9(신용카드 및 현금영수증 발급 불성실 가산세) ① 제162조의2제2항에 따른 신용카드가맹점이 신용카드에 의한 거래를 거부하거나 신용카드매출전표를 사실과 다르게 발급하여 같은 조 제4항 후단에 따라 납세지 관할 세무서장으로부터 통보받은 경우에는 통보받은 건별 거부 금액 또는 신용카드매출전표를 사실과 다르게 발급한 금액(건별로 발급하여야 할 금액과의 차액을 말한다)의 100분의 5(건별로 계산한 금액이 5천원 미만이면 5천원으로 한다)를 가산세로 해당 과세기간의 종합소득 결정세액에 더하여 납부하여야 한다.\\n\\n② 사업자가 다음 각 호의 어느 하나에 해당하는 경우에는 다음 각 호의 구분에 따른 금액을 가산세로 해당 과세기간의 종합소득 결정세액에 더하여 납부하여야 한다.<개정 2021. 12. 8.>\\n\\n제162조의3제1항을 위반하여 현금영수증가맹점으로 가입하지 아니하거나 그 가입기한이 지나서 가입한 경우: 다음 계산식에 따라 계산한 금액\\n\\n\\n\\n가산세 = A × ( B / C ) × 100분의 1\\n\\n\\n\\nA : 해당 과세기간의 수입금액(현금영수증가맹점 가입대상인 업종의 수입금액만 해당하며, 제163조에 따른 계산서 및 「부가가치세법」 제32조에 따른 세금계산서 발급분 등 대통령령으로 정하는 수입금액은 제외한다)\\n\\n\\n\\nB : 미가입기간(제162조의3제1항에 따른 가입기한의 다음 날부터 가입일 전날까지의 일수를 말하며, 미가입기간이 2개 이상의 과세기간에 걸쳐 있으면 각 과세기간별로 미가입기간을 적용한다)\\n\\n\\n\\nC : 365 (윤년에는 366으로 한다)'),\n",
       "  Document(id='828b1c08-5f3e-4259-a14c-7b1dde7f9a2d', metadata={'source': './tax.docx'}, page_content='나. 제출한 계산서합계표에 대통령령으로 정하는 기재하여야 할 사항의 전부 또는 일부가 기재되지 아니하거나 사실과 다르게 기재된 경우(계산서합계표의 기재 사항이 착오로 기재된 경우로서 대통령령으로 정하는 바에 따라 거래사실이 확인되는 분의 매출가액 또는 매입가액은 제외한다): 공급가액의 1천분의 5\\n\\n3. 「부가가치세법」 제54조에 따른 매입처별 세금계산서합계표(이하 “매입처별 세금계산서합계표”라 한다)의 제출과 관련하여 다음 각 목의 어느 하나에 해당하는 경우(제4호가 적용되는 분의 매입가액은 제외한다): 다음 각 목의 구분에 따른 금액\\n\\n가. 매입처별 세금계산서합계표를 제163조의2제1항에 따라 제출하지 아니한 경우: 공급가액의 1천분의 5(제출기한이 지난 후 1개월 이내에 제출하는 경우에는 공급가액의 1천분의 3으로 한다)\\n\\n나. 매입처별 세금계산서합계표를 제출한 경우로서 그 매입처별 세금계산서합계표에 기재하여야 할 사항의 전부 또는 일부가 기재되지 아니하거나 사실과 다르게 기재된 경우(매입처별 세금계산서합계표의 기재사항이 착오로 기재된 경우로서 대통령령으로 정하는 바에 따라 거래사실이 확인되는 분의 매입가액은 제외한다): 공급가액의 1천분의 5\\n\\n4. 다음 각 목의 어느 하나에 해당하는 경우: 공급가액의 100분의 2(가목을 적용할 때 제163조제1항에 따라 전자계산서를 발급하여야 하는 자가 전자계산서 외의 계산서를 발급한 경우와 같은 조 제7항에 따른 계산서의 발급시기가 지난 후 해당 재화 또는 용역의 공급시기가 속하는 과세기간의 다음 연도 1월 25일까지 같은 조 제1항 또는 제2항에 따른 계산서를 발급한 경우에는 100분의 1로 한다)\\n\\n가. 제163조제1항 또는 제2항에 따른 계산서를 같은 조 제7항에 따른 발급시기에 발급하지 아니한 경우\\n\\n나. 재화 또는 용역을 공급하지 아니하고 제163조제1항 또는 제2항에 따른 계산서, 제160조의2제2항제3호에 따른 신용카드매출전표 또는 같은 항 제4호에 따른 현금영수증(이하 이 호에서 “계산서등”이라 한다)을 발급한 경우\\n\\n다. 재화 또는 용역을 공급받지 아니하고 계산서등을 발급받은 경우\\n\\n라. 재화 또는 용역을 공급하고 실제로 재화 또는 용역을 공급하는 자가 아닌 자의 명의로 계산서등을 발급한 경우\\n\\n마. 재화 또는 용역을 공급받고 실제로 재화 또는 용역을 공급하는 자가 아닌 자의 명의로 계산서등을 발급받은 경우\\n\\n5. 제163조제8항에 따른 기한이 지난 후 재화 또는 용역의 공급시기가 속하는 과세기간 말의 다음 달 25일까지 국세청장에게 전자계산서 발급명세를 전송하는 경우(제4호가 적용되는 분은 제외한다): 공급가액의 1천분의 3(제163조제1항제1호에 따른 사업자가 2016년 12월 31일 이전에 재화 또는 용역을 공급한 분과 같은 항 제2호에 따른 사업자가 2018년 12월 31일 이전에 재화 또는 용역을 공급한 분에 대해서는 각각 1천분의 1로 한다)'),\n",
       "  Document(id='ef7b6392-c1b6-4258-a568-b2e8b009c566', metadata={'source': './tax.docx'}, page_content='⑥ 신용카드가맹점 가입을 위한 행정지도, 신용카드에 의한 거래거부 및 사실과 다른 신용카드매출전표 발급의 신고ㆍ통보방법, 그 밖에 필요한 사항은 대통령령으로 정한다.\\n\\n[전문개정 2009. 12. 31.]\\n\\n\\n\\n제162조의3(현금영수증가맹점 가입ㆍ발급의무 등) ① 주로 사업자가 아닌 소비자에게 재화 또는 용역을 공급하는 사업자로서 업종ㆍ규모 등을 고려하여 대통령령으로 정하는 요건에 해당하는 사업자는 그 요건에 해당하는 날부터 60일(수입금액 등 대통령령으로 정하는 요건에 해당하는 사업자의 경우 그 요건에 해당하는 날이 속하는 달의 말일부터 3개월) 이내에 신용카드단말기 등에 현금영수증 발급장치를 설치함으로써 현금영수증가맹점으로 가입하여야 한다. <개정 2014. 12. 23., 2019. 12. 31.>\\n\\n② 제1항에 따라 현금영수증가맹점으로 가입한 사업자는 국세청장이 정하는 바에 따라 현금영수증가맹점을 나타내는 표지를 게시하여야 한다.\\n\\n③ 현금영수증가맹점으로 가입한 사업자는 사업과 관련하여 재화 또는 용역을 공급하고 그 상대방이 대금을 현금으로 지급한 후 현금영수증의 발급을 요청하는 경우에는 그 발급을 거부하거나 사실과 다르게 발급해서는 아니 된다.\\n\\n④ 제1항에 따라 현금영수증가맹점으로 가입하여야 하는 사업자 중 대통령령으로 정하는 업종을 영위하는 사업자는 건당 거래금액(부가가치세액을 포함한다)이 10만원 이상인 재화 또는 용역을 공급하고 그 대금을 현금으로 받은 경우에는 제3항에도 불구하고 상대방이 현금영수증 발급을 요청하지 아니하더라도 대통령령으로 정하는 바에 따라 현금영수증을 발급하여야 한다. 다만, 제168조, 「법인세법」 제111조 또는 「부가가치세법」 제8조에 따라 사업자등록을 한 자에게 재화 또는 용역을 공급하고 제163조, 「법인세법」 제121조 또는 「부가가치세법」 제32조에 따라 계산서 또는 세금계산서를 교부한 경우에는 현금영수증을 발급하지 아니할 수 있다.<개정 2013. 1. 1., 2013. 6. 7., 2014. 1. 1.>\\n\\n⑤ 제3항에 따라 현금영수증가맹점으로 가입한 사업자 또는 제4항에 따라 현금영수증을 발급하여야 하는 사업자가 현금영수증을 발급하지 아니하거나 사실과 다른 현금영수증을 발급한 때에는 그 상대방은 그 현금거래 내용을 국세청장ㆍ지방국세청장 또는 세무서장에게 신고할 수 있다.<개정 2017. 12. 19.>\\n\\n⑥ 제5항에 따라 신고를 받은 국세청장ㆍ지방국세청장 또는 세무서장은 해당 사업자의 납세지 관할 세무서장에게 이를 통보하여야 한다. 이 경우 납세지 관할 세무서장은 해당 과세기간의 신고금액을 해당 사업자에게 통보하여야 한다.\\n\\n⑦ 현금영수증가맹점으로 가입한 사업자는 그로부터 재화 또는 용역을 공급받은 상대방이 현금영수증의 발급을 요청하지 아니하는 경우에도 대통령령으로 정하는 바에 따라 현금영수증을 발급할 수 있다.<신설 2012. 1. 1.>'),\n",
       "  Document(id='063a012a-c2cb-48ea-bf11-9c07d123dc55', metadata={'source': './tax.docx'}, page_content='제162조(금전등록기의 설치ㆍ사용) ① 사업자로서 대통령령으로 정하는 자가 금전등록기를 설치ㆍ사용한 경우에 총수입금액은 제24조제1항에도 불구하고 해당 과세기간에 수입한 금액의 합계액에 따라 계산할 수 있다.\\n\\n② 금전등록기의 설치ㆍ사용에 필요한 사항은 대통령령으로 정한다.\\n\\n[전문개정 2009. 12. 31.]\\n\\n\\n\\n제162조의2(신용카드가맹점 가입ㆍ발급의무 등) ① 국세청장은 주로 사업자가 아닌 소비자에게 재화 또는 용역을 공급하는 사업자로서 업종ㆍ규모 등을 고려하여 대통령령으로 정하는 요건에 해당하는 사업자에 대해서 납세관리를 위하여 필요하다고 인정되는 경우 「여신전문금융업법」 제2조에 따른 신용카드가맹점으로 가입하도록 지도할 수 있다.\\n\\n② 신용카드가맹점(제1항에 따른 요건에 해당하여 가맹한 사업자를 말한다. 이하 이 조에서 같다)은 사업과 관련하여 재화 또는 용역을 공급하고 그 상대방이 대금을 제35조제2항제1호가목에 따른 신용카드로 결제하려는 경우 이를 거부하거나 제160조의2제2항제3호에 따른 신용카드매출전표(이하 이 조에서 “신용카드매출전표”라 한다)를 사실과 다르게 발급해서는 아니 된다. 다만, 「유통산업발전법」 제2조제3호에 따른 대규모점포나 「체육시설의 설치ㆍ이용에 관한 법률」 제2조제1호에 따른 체육시설(이하 이 항에서 “대규모점포등”이라 한다)을 운영하는 자가 해당 대규모점포등 내의 다른 사업자의 매출액을 합산하여 신용카드매출전표를 발급하는 경우(대규모점포등을 운영하는 자가 「유통산업발전법」 제2조제12호에 따른 판매시점정보관리시스템의 설비를 운용하는 경우로서 사업자 간 사전 약정을 맺은 경우만 해당한다)에는 신용카드매출전표를 사실과 다르게 발급한 것으로 보지 아니한다.<개정 2010. 12. 27., 2016. 12. 20.>\\n\\n③ 신용카드가맹점으로부터 신용카드에 의한 거래를 거부당하거나 사실과 다른 신용카드매출전표를 받은 자는 그 거래 내용을 국세청장ㆍ지방국세청장 또는 세무서장에게 신고할 수 있다.\\n\\n④ 제3항에 따라 신고를 받은 국세청장ㆍ지방국세청장 또는 세무서장은 신용카드가맹점의 납세지 관할 세무서장에게 이를 통보하여야 한다. 이 경우 납세지 관할 세무서장은 해당 과세기간의 신고금액을 해당 신용카드가맹점에 통보하여야 한다.\\n\\n⑤ 국세청장은 신용카드에 의한 거래를 거부하거나 신용카드매출전표를 사실과 다르게 발급한 신용카드가맹점에 대해서 그 시정에 필요한 사항을 명할 수 있다.\\n\\n⑥ 신용카드가맹점 가입을 위한 행정지도, 신용카드에 의한 거래거부 및 사실과 다른 신용카드매출전표 발급의 신고ㆍ통보방법, 그 밖에 필요한 사항은 대통령령으로 정한다.\\n\\n[전문개정 2009. 12. 31.]')],\n",
       " AIMessage(content='가게에서 10만원 카드 결제를 거절했을 경우, 이는 신용카드가맹점이 신용카드에 의해 결제를 거부한 것으로 간주됩니다. 이 경우, 통보받은 거부 금액의 100분의 5를 가산세로 납부해야 하며, 건별로 계산한 금액이 5천원 미만이 될 경우에는 5천원이 가산세로 부과됩니다.\\n\\n따라서, 10만원의 카드 결제를 거부했을 때의 벌금은 다음과 같이 계산됩니다:\\n\\n10만원 × 100분의 5 = 5,000원\\n\\n따라서, 가게는 5,000원의 가산세를 지불해야 합니다.', additional_kwargs={'refusal': None}, response_metadata={'token_usage': {'completion_tokens': 164, 'prompt_tokens': 4653, 'total_tokens': 4817, 'completion_tokens_details': {'accepted_prediction_tokens': 0, 'audio_tokens': 0, 'reasoning_tokens': 0, 'rejected_prediction_tokens': 0}, 'prompt_tokens_details': {'audio_tokens': 0, 'cached_tokens': 0}}, 'model_name': 'gpt-4o-mini-2024-07-18', 'system_fingerprint': 'fp_8bda4d3a2c', 'id': 'chatcmpl-CE5LwSia8K1J68wjWqGolZYFCrKBG', 'service_tier': 'default', 'finish_reason': 'stop', 'logprobs': None}, id='run--43125f75-ed63-4d66-bc88-45323c22f1e7-0', usage_metadata={'input_tokens': 4653, 'output_tokens': 164, 'total_tokens': 4817, 'input_token_details': {'audio': 0, 'cache_read': 0}, 'output_token_details': {'audio': 0, 'reasoning': 0}}))"
      ]
     },
     "execution_count": 3,
     "metadata": {},
     "output_type": "execute_result"
    }
   ],
   "source": [
    "# Retrieval\n",
    "query = '가게에서 10만원 카드 결제를 거절했을 때 지불하는 벌금은 얼마인가요?'\n",
    "retrieved_docs = database.similarity_search(query, k=5)\n",
    "\n",
    "# augumentation \n",
    "from langchain_openai import ChatOpenAI\n",
    "llm = ChatOpenAI(model='gpt-4o-mini')\n",
    "\n",
    "# gpt-4o-mini\n",
    "prompt = f\"\"\"[Identity]\n",
    "- 당신은 최고의 한국 소득세 전문가 입니다.\n",
    "- [context]만 참조해서 사용자의 질문에 답변해 주세요.[context]에 참조해서 답변을 못하면 못한다고 말해주세요.\n",
    "[context]\n",
    "{retrieved_docs}\n",
    "Questrion : {query}\n",
    "\"\"\"\n",
    "response = llm.invoke(prompt)\n",
    "retrieved_docs, response\n",
    "# 2번째에 참고 할 내용이 나옴"
   ]
  },
  {
   "cell_type": "code",
   "execution_count": 11,
   "id": "11396e24",
   "metadata": {},
   "outputs": [],
   "source": [
    "# 질의의 품질을 높이기 위한 정규화 과정 추가\n",
    "def normalize_query(q: str) -> str:\n",
    "    # 변경\n",
    "    q = q.replace(\"가게\",\"신용카드가맹점\")\n",
    "    q = q.replace(\"거절\", \"거부\")\n",
    "    q = q.replace(\"지불\", \"부과\")\n",
    "    q = q.replace(\"벌금\", \"가산세\")\n",
    "    return q"
   ]
  },
  {
   "cell_type": "code",
   "execution_count": 12,
   "id": "e190e1cf",
   "metadata": {},
   "outputs": [
    {
     "data": {
      "text/plain": [
       "'신용카드가맹점에서 10만원 카드 결제를 거부했을 때 부과하는 가산세은 얼마인가요?'"
      ]
     },
     "execution_count": 12,
     "metadata": {},
     "output_type": "execute_result"
    }
   ],
   "source": [
    "query = '가게에서 10만원 카드 결제를 거절했을 때 지불하는 벌금은 얼마인가요?'\n",
    "query_n = normalize_query(query)\n",
    "query_n"
   ]
  },
  {
   "cell_type": "code",
   "execution_count": null,
   "id": "7ed005ff",
   "metadata": {},
   "outputs": [
    {
     "data": {
      "text/plain": [
       "[Document(id='0490e86f-2a75-460b-ab3a-d6b058dcbc85', metadata={'source': './tax.docx'}, page_content='③ 제1항에 따른 가산세는 종합소득산출세액이 없는 경우에도 적용한다.\\n\\n[본조신설 2019. 12. 31.]\\n\\n\\n\\n제81조의8(사업용계좌 신고ㆍ사용 불성실 가산세) ① 사업자가 다음 각 호의 어느 하나에 해당하는 경우에는 다음 각 호의 구분에 따른 금액을 가산세로 해당 과세기간의 종합소득 결정세액에 더하여 납부하여야 한다.\\n\\n1. 제160조의5제1항 각 호의 어느 하나에 해당하는 경우로서 사업용계좌를 사용하지 아니한 경우: 사업용계좌를 사용하지 아니한 금액의 1천분의 2\\n\\n2. 제160조의5제3항에 따라 사업용계좌를 신고하지 아니한 경우(사업장별 신고를 하지 아니하고 이미 신고한 다른 사업장의 사업용계좌를 사용한 경우는 제외한다): 다음 각 목의 금액 중 큰 금액\\n\\n가. 다음 계산식에 따라 계산한 금액\\n\\n\\n\\n나. 제160조의5제1항 각 호에 따른 거래금액의 합계액의 1천분의 2\\n\\n② 제1항에 따른 가산세는 종합소득산출세액이 없는 경우에도 적용한다.\\n\\n[본조신설 2019. 12. 31.]\\n\\n\\n\\n제81조의9(신용카드 및 현금영수증 발급 불성실 가산세) ① 제162조의2제2항에 따른 신용카드가맹점이 신용카드에 의한 거래를 거부하거나 신용카드매출전표를 사실과 다르게 발급하여 같은 조 제4항 후단에 따라 납세지 관할 세무서장으로부터 통보받은 경우에는 통보받은 건별 거부 금액 또는 신용카드매출전표를 사실과 다르게 발급한 금액(건별로 발급하여야 할 금액과의 차액을 말한다)의 100분의 5(건별로 계산한 금액이 5천원 미만이면 5천원으로 한다)를 가산세로 해당 과세기간의 종합소득 결정세액에 더하여 납부하여야 한다.\\n\\n② 사업자가 다음 각 호의 어느 하나에 해당하는 경우에는 다음 각 호의 구분에 따른 금액을 가산세로 해당 과세기간의 종합소득 결정세액에 더하여 납부하여야 한다.<개정 2021. 12. 8.>\\n\\n제162조의3제1항을 위반하여 현금영수증가맹점으로 가입하지 아니하거나 그 가입기한이 지나서 가입한 경우: 다음 계산식에 따라 계산한 금액\\n\\n\\n\\n가산세 = A × ( B / C ) × 100분의 1\\n\\n\\n\\nA : 해당 과세기간의 수입금액(현금영수증가맹점 가입대상인 업종의 수입금액만 해당하며, 제163조에 따른 계산서 및 「부가가치세법」 제32조에 따른 세금계산서 발급분 등 대통령령으로 정하는 수입금액은 제외한다)\\n\\n\\n\\nB : 미가입기간(제162조의3제1항에 따른 가입기한의 다음 날부터 가입일 전날까지의 일수를 말하며, 미가입기간이 2개 이상의 과세기간에 걸쳐 있으면 각 과세기간별로 미가입기간을 적용한다)\\n\\n\\n\\nC : 365 (윤년에는 366으로 한다)'),\n",
       " Document(id='e0ec6b67-3134-459a-abca-defa15579b5e', metadata={'source': './tax.docx'}, page_content='B : 미가입기간(제162조의3제1항에 따른 가입기한의 다음 날부터 가입일 전날까지의 일수를 말하며, 미가입기간이 2개 이상의 과세기간에 걸쳐 있으면 각 과세기간별로 미가입기간을 적용한다)\\n\\n\\n\\nC : 365 (윤년에는 366으로 한다)\\n\\n\\n\\n2. 제162조의3제3항을 위반하여 현금영수증 발급을 거부하거나 사실과 다르게 발급하여 같은 조 제6항 후단에 따라 납세지 관할 세무서장으로부터 신고금액을 통보받은 경우(현금영수증의 발급대상 금액이 건당 5천원 이상인 경우만 해당하며, 제3호에 해당하는 경우는 제외한다): 통보받은 건별 발급 거부 금액 또는 사실과 다르게 발급한 금액(건별로 발급하여야 할 금액과의 차액을 말한다)의 100분의 5(건별로 계산한 금액이 5천원 미만이면 5천원으로 한다)\\n\\n3. 제162조의3제4항을 위반하여 현금영수증을 발급하지 아니한 경우(「국민건강보험법」에 따른 보험급여의 대상인 경우 등 대통령령으로 정하는 경우는 제외한다): 미발급금액의 100분의 20(착오나 누락으로 인하여 거래대금을 받은 날부터 10일 이내에 관할 세무서에 자진 신고하거나 현금영수증을 자진 발급한 경우에는 100분의 10으로 한다)\\n\\n③ 제1항 및 제2항에 따른 가산세는 종합소득산출세액이 없는 경우에도 적용한다.\\n\\n[본조신설 2019. 12. 31.]\\n\\n\\n\\n제81조의10(계산서 등 제출 불성실 가산세) ① 사업자(대통령령으로 정하는 소규모사업자는 제외한다)가 다음 각 호의 어느 하나에 해당하는 경우에는 다음 각 호의 구분에 따른 금액을 가산세로 해당 과세기간의 종합소득 결정세액에 더하여 납부하여야 한다.\\n\\n1. 제163조제1항 또는 제2항에 따라 발급한 계산서(같은 조 제1항 후단에 따른 전자계산서를 포함한다. 이하 이 조에서 같다)에 대통령령으로 정하는 기재 사항의 전부 또는 일부가 기재되지 아니하거나 사실과 다르게 기재된 경우(제2호가 적용되는 분은 제외한다): 공급가액의 100분의 1\\n\\n2. 제163조제5항에 따른 매출ㆍ매입처별 계산서합계표(이하 이 호에서 “계산서합계표”라 한다)의 제출과 관련하여 다음 각 목의 어느 하나에 해당하는 경우(제4호가 적용되는 분의 매출가액 또는 매입가액은 제외한다): 다음 각 목의 구분에 따른 금액\\n\\n가. 계산서합계표를 제163조제5항에 따라 제출하지 아니한 경우: 공급가액의 1천분의 5(제출기한이 지난 후 1개월 이내에 제출하는 경우에는 공급가액의 1천분의 3으로 한다)\\n\\n나. 제출한 계산서합계표에 대통령령으로 정하는 기재하여야 할 사항의 전부 또는 일부가 기재되지 아니하거나 사실과 다르게 기재된 경우(계산서합계표의 기재 사항이 착오로 기재된 경우로서 대통령령으로 정하는 바에 따라 거래사실이 확인되는 분의 매출가액 또는 매입가액은 제외한다): 공급가액의 1천분의 5'),\n",
       " Document(id='91edd5ca-da5c-476d-800c-00b698d4ccae', metadata={'source': './tax.docx'}, page_content='② 제1항을 적용할 때 제80조에 따른 경정으로 종합소득산출세액이 0보다 크게 된 경우에는 경정된 종합소득산출세액을 기준으로 가산세를 계산한다.\\n\\n③ 제1항에 따른 가산세는 종합소득산출세액이 없는 경우에도 적용한다.<신설 2021. 12. 8.>\\n\\n[본조신설 2019. 12. 31.]\\n\\n\\n\\n제81조의3(사업장 현황신고 불성실 가산세) ① 사업자(주로 사업자가 아닌 소비자에게 재화 또는 용역을 공급하는 사업자로서 대통령령으로 정하는 사업자만 해당한다)가 다음 각 호의 어느 하나에 해당하는 경우에는 그 신고하지 아니한 수입금액 또는 미달하게 신고한 수입금액의 1천분의 5를 가산세로 해당 과세기간의 종합소득 결정세액에 더하여 납부하여야 한다.\\n\\n1. 사업장 현황신고를 하지 아니한 경우\\n\\n2. 제78조제2항에 따라 신고하여야 할 수입금액(같은 조 제1항제2호 단서에 따라 사업장 현황신고를 한 것으로 보는 경우에는 면세사업등 수입금액)보다 미달하게 신고한 경우\\n\\n② 제1항에 따른 가산세는 종합소득산출세액이 없는 경우에도 적용한다.\\n\\n[본조신설 2019. 12. 31.]\\n\\n\\n\\n제81조의4(공동사업장 등록ㆍ신고 불성실 가산세) ① 공동사업장에 관한 사업자등록 및 신고와 관련하여 다음 각 호의 어느 하나에 해당하는 경우에는 다음 각 호의 구분에 따른 금액을 가산세로 해당 과세기간의 종합소득 결정세액에 더하여 납부하여야 한다.\\n\\n1. 공동사업자가 제87조제3항에 따라 사업자등록을 하지 아니하거나 공동사업자가 아닌 자가 공동사업자로 거짓으로 등록한 경우: 등록하지 아니하거나 거짓 등록에 해당하는 각 과세기간 총수입금액의 1천분의 5\\n\\n2. 공동사업자가 제87조제4항 또는 제5항에 따라 신고하여야 할 내용을 신고하지 아니하거나 거짓으로 신고한 경우로서 대통령령으로 정하는 경우: 신고하지 아니하거나 거짓 신고에 해당하는 각 과세기간 총수입금액의 1천분의 1\\n\\n② 제1항에 따른 가산세는 종합소득산출세액이 없는 경우에도 적용한다.\\n\\n[본조신설 2019. 12. 31.]\\n\\n\\n\\n제81조의5(장부의 기록ㆍ보관 불성실 가산세) 사업자(대통령령으로 정하는 소규모사업자는 제외한다)가 제160조 또는 제161조에 따른 장부를 비치ㆍ기록하지 아니하였거나 비치ㆍ기록한 장부에 따른 소득금액이 기장하여야 할 금액에 미달한 경우에는 다음 계산식에 따라 계산한 금액을 가산세로 해당 과세기간의 종합소득 결정세액에 더하여 납부하여야 한다. 이 경우 기장하지 아니한 소득금액 또는 기장하여야 할 금액에 미달한 소득금액이 종합소득금액에서 차지하는 비율이 1보다 큰 경우에는 1로, 0보다 작은 경우에는 0으로 한다.\\n\\n\\n\\n[본조신설 2019. 12. 31.]'),\n",
       " Document(id='bb2b2602-1f74-4cc7-a280-2494106e4895', metadata={'source': './tax.docx'}, page_content='6. 제163조제8항에 따른 기한이 지난 후 재화 또는 용역의 공급시기가 속하는 과세기간 말의 다음 달 25일까지 국세청장에게 전자계산서 발급명세를 전송하지 아니한 경우(제4호가 적용되는 분은 제외한다): 공급가액의 1천분의 5(제163조제1항제1호에 따른 사업자가 2016년 12월 31일 이전에 재화 또는 용역을 공급한 분과 같은 항 제2호에 따른 사업자가 2018년 12월 31일 이전에 재화 또는 용역을 공급한 분에 대해서는 각각 1천분의 3으로 한다)\\n\\n② 사업자가 아닌 자가 재화 또는 용역을 공급하지 아니하고 계산서를 발급하거나 재화 또는 용역을 공급받지 아니하고 계산서를 발급받은 경우 그 계산서를 발급하거나 발급받은 자를 사업자로 보고 그 계산서에 적힌 공급가액의 100분의 2를 그 계산서를 발급하거나 발급받은 자에게 사업자등록증을 발급한 세무서장이 가산세로 징수한다. 이 경우 그 계산서를 발급하거나 발급받은 자의 사업소득에 대한 제15조에 따른 종합소득산출세액은 0으로 본다.\\n\\n③ 제1항 및 제2항의 가산세는 종합소득산출세액이 없는 경우에도 적용한다.\\n\\n④ 제1항 및 제2항의 가산세는 다음 각 호의 구분에 따라 가산세가 부과되는 부분에 대해서는 적용하지 아니한다.\\n\\n1. 제1항의 가산세를 적용하지 아니하는 경우: 제81조의6 또는 「부가가치세법」 제60조제2항ㆍ제3항ㆍ제5항ㆍ제6항에 따라 가산세가 부과되는 부분\\n\\n2. 제2항의 가산세를 적용하지 아니하는 경우: 「부가가치세법」 제60조제4항에 따라 가산세가 부과되는 부분\\n\\n[본조신설 2019. 12. 31.]\\n\\n\\n\\n제81조의11(지급명세서 등 제출 불성실 가산세) ① 제164조ㆍ제164조의2 또는 「법인세법」 제120조ㆍ제120조의2에 따른 지급명세서(이하 이 조에서 “지급명세서”라 한다)나 이 법 제164조의3에 따른 간이지급명세서(이하 이 조에서 “간이지급명세서”라 한다)를 제출하여야 할 자가 다음 각 호의 어느 하나에 해당하는 경우에는 각 호에서 정하는 금액을 가산세로 해당 과세기간의 종합소득 결정세액에 더하여 납부하여야 한다. 다만, 「조세특례제한법」 제90조의2에 따라 가산세가 부과되는 분에 대해서는 그러하지 아니하다. <개정 2020. 12. 29., 2021. 3. 16., 2022. 12. 31.>\\n\\n1. 지급명세서 또는 간이지급명세서(이하 이 조에서 “지급명세서등”이라 한다)를 기한까지 제출하지 아니한 경우: 다음 각 목의 구분에 따른 금액\\n\\n가. 지급명세서의 경우: 제출하지 아니한 분의 지급금액의 100분의 1(제출기한이 지난 후 3개월 이내에 제출하는 경우에는 지급금액의 1천분의 5로 한다). 다만, 제164조제1항 각 호 외의 부분 단서에 따른 일용근로자의 근로소득(이하 이 조에서 “일용근로소득”이라 한다)에 대한 지급명세서의 경우에는 제출하지 아니한 분의 지급금액의 1만분의 25(제출기한이 지난 후 1개월 이내에 제출하는 경우에는 지급금액의 10만분의 125)로 한다.'),\n",
       " Document(id='7f8e13ea-8684-4468-a800-348ed303d99c', metadata={'source': './tax.docx'}, page_content='[본조신설 2019. 12. 31.]\\n\\n\\n\\n제81조의6(증명서류 수취 불성실 가산세) ① 사업자(대통령령으로 정하는 소규모사업자 및 대통령령으로 정하는 바에 따라 소득금액이 추계되는 자는 제외한다)가 사업과 관련하여 다른 사업자(법인을 포함한다)로부터 재화 또는 용역을 공급받고 제160조의2제2항 각 호의 어느 하나에 따른 증명서류를 받지 아니하거나 사실과 다른 증명서류를 받은 경우에는 그 받지 아니하거나 사실과 다르게 받은 금액으로 필요경비에 산입하는 것이 인정되는 금액(건별로 받아야 할 금액과의 차액을 말한다)의 100분의 2를 가산세로 해당 과세기간의 종합소득 결정세액에 더하여 납부하여야 한다. 다만, 제160조의2제2항 각 호 외의 부분 단서가 적용되는 부분은 그러하지 아니하다.\\n\\n② 제1항에 따른 가산세는 종합소득산출세액이 없는 경우에도 적용한다.\\n\\n[본조신설 2019. 12. 31.]\\n\\n\\n\\n제81조의7(기부금영수증 발급ㆍ작성ㆍ보관 불성실 가산세) ① 제34조 및 「법인세법」 제24조에 따라 기부금을 필요경비 또는 손금에 산입하거나, 제59조의4제4항에 따라 기부금세액공제를 받기 위하여 필요한 기부금영수증[「법인세법」 제75조의4제2항에 따른 전자기부금영수증(이하 “전자기부금영수증”이라 한다)을 포함한다. 이하 “기부금영수증”이라 한다]을 발급하는 거주자 또는 비거주자가 다음 각 호의 어느 하나에 해당하는 경우에는 다음 각 호의 구분에 따른 금액을 가산세로 해당 과세기간의 종합소득 결정세액에 더하여 납부하여야 한다. <개정 2020. 12. 29.>\\n\\n1. 기부금영수증을 사실과 다르게 적어 발급(기부금액 또는 기부자의 인적사항 등 주요 사항을 적지 아니하고 발급하는 경우를 포함한다. 이하 이 호에서 같다)한 경우\\n\\n가. 기부금액을 사실과 다르게 적어 발급한 경우: 사실과 다르게 발급한 금액[기부금영수증에 실제 적힌 금액(기부금영수증에 금액이 적혀 있지 아니한 경우에는 기부금영수증을 발급받은 자가 기부금을 필요경비에 산입하거나 기부금세액공제를 받은 해당 금액으로 한다)과 건별로 발급하여야 할 금액과의 차액을 말한다]의 100분의 5\\n\\n나. 기부자의 인적사항 등을 사실과 다르게 적어 발급하는 등 가목 외의 경우: 기부금영수증에 적힌 금액의 100분의 5\\n\\n2. 기부자별 발급명세를 제160조의3제1항에 따라 작성ㆍ보관하지 아니한 경우: 그 작성ㆍ보관하지 아니한 금액의 1천분의 2\\n\\n② 「상속세 및 증여세법」 제78조제3항에 따라 보고서 제출의무를 이행하지 아니하거나 같은 조 제5항제2호에 따라 출연받은 재산에 대한 장부의 작성ㆍ비치의무를 이행하지 아니하여 가산세가 부과되는 경우에는 제1항제2호의 가산세를 적용하지 아니한다.\\n\\n③ 제1항에 따른 가산세는 종합소득산출세액이 없는 경우에도 적용한다.\\n\\n[본조신설 2019. 12. 31.]'),\n",
       " Document(id='ae6505e7-2f85-4f13-8a89-7ab4c9eca51b', metadata={'source': './tax.docx'}, page_content='마. 제162조의3제1항에 따른 요건에 해당하는 사업자가 정당한 사유 없이 현금영수증가맹점으로 가입하지 아니한 경우\\n\\n바. 제162조의3제1항에 따라 현금영수증가맹점으로 가입한 사업자가 정당한 사유 없이 같은 조 제3항 또는 제4항을 위반하여 현금영수증을 발급하지 아니하거나 사실과 다르게 발급한 경우\\n\\n③ 납세지 관할 세무서장 또는 지방국세청장은 제1항과 제2항에 따라 해당 과세기간의 과세표준과 세액을 결정 또는 경정하는 경우에는 장부나 그 밖의 증명서류를 근거로 하여야 한다. 다만, 대통령령으로 정하는 사유로 장부나 그 밖의 증명서류에 의하여 소득금액을 계산할 수 없는 경우에는 대통령령으로 정하는 바에 따라 소득금액을 추계조사결정할 수 있다.\\n\\n④ 납세지 관할 세무서장 또는 지방국세청장은 과세표준과 세액을 결정 또는 경정한 후 그 결정 또는 경정에 탈루 또는 오류가 있는 것이 발견된 경우에는 즉시 그 과세표준과 세액을 다시 경정한다.\\n\\n[전문개정 2009. 12. 31.]\\n\\n\\n\\n제81조(영수증 수취명세서 제출ㆍ작성 불성실 가산세) ① 사업자(대통령령으로 정하는 소규모사업자 및 대통령령으로 정하는 바에 따라 소득금액이 추계되는 자는 제외한다)가 다음 각 호의 어느 하나에 해당하는 경우에는 그 제출하지 아니한 분의 지급금액 또는 불분명한 분의 지급금액의 100분의 1을 가산세로 해당 과세기간의 종합소득 결정세액에 더하여 납부하여야 한다.\\n\\n1. 영수증 수취명세서를 과세표준확정신고기한까지 제출하지 아니한 경우\\n\\n2. 제출한 영수증 수취명세서가 불분명하다고 인정되는 경우로서 대통령령으로 정하는 경우\\n\\n② 제1항에 따른 가산세는 종합소득산출세액이 없는 경우에도 적용한다.\\n\\n[전문개정 2019. 12. 31.]\\n\\n\\n\\n제81조의2(성실신고확인서 제출 불성실 가산세) ① 성실신고확인대상사업자가 제70조의2제2항에 따라 그 과세기간의 다음 연도 6월 30일까지 성실신고확인서를 납세지 관할 세무서장에게 제출하지 아니한 경우에는 다음 각 호의 금액 중 큰 금액을 가산세로 해당 과세기간의 종합소득 결정세액에 더하여 납부하여야 한다. <개정 2021. 12. 8.>\\n\\n1. 다음 계산식에 따라 계산한 금액(사업소득금액이 종합소득금액에서 차지하는 비율이 1보다 큰 경우에는 1로, 0보다 작은 경우에는 0으로 한다)\\n\\n\\n\\n2. 해당 과세기간 사업소득의 총수입금액에 1만분의 2를 곱한 금액\\n\\n② 제1항을 적용할 때 제80조에 따른 경정으로 종합소득산출세액이 0보다 크게 된 경우에는 경정된 종합소득산출세액을 기준으로 가산세를 계산한다.\\n\\n③ 제1항에 따른 가산세는 종합소득산출세액이 없는 경우에도 적용한다.<신설 2021. 12. 8.>\\n\\n[본조신설 2019. 12. 31.]'),\n",
       " Document(id='343a17be-a485-4279-be07-69daf1b31c5a', metadata={'source': './tax.docx'}, page_content='나. 간이지급명세서의 경우: 제출하지 아니한 분의 지급금액의 1만분의 25(제출기한이 지난 후 1개월 이내에 제출하는 경우에는 지급금액의 10만분의 125로 한다)\\n\\n2. 제출된 지급명세서등이 대통령령으로 정하는 불분명한 경우에 해당하거나 제출된 지급명세서등에 기재된 지급금액이 사실과 다른 경우: 다음 각 목의 구분에 따른 금액\\n\\n가. 지급명세서의 경우: 불분명하거나 사실과 다른 분의 지급금액의 100분의 1. 다만, 일용근로소득에 대한 지급명세서의 경우에는 불분명하거나 사실과 다른 분의 지급금액의 1만분의 25로 한다.\\n\\n나. 간이지급명세서의 경우: 불분명하거나 사실과 다른 분의 지급금액의 1만분의 25\\n\\n② 제1항제1호에도 불구하고 제128조제2항에 따라 원천징수세액을 반기별로 납부하는 원천징수의무자가 2021년 7월 1일부터 2022년 6월 30일까지 일용근로소득 또는 제164조의3제1항제2호의 소득을 지급하는 경우로서 다음 각 호의 어느 하나에 해당하는 경우에는 제1항제1호의 가산세는 부과하지 아니한다.<신설 2021. 3. 16.>\\n\\n1. 일용근로소득에 대한 지급명세서를 그 소득 지급일(제135조를 적용받는 소득에 대해서는 해당 소득에 대한 과세기간 종료일을 말한다)이 속하는 분기의 마지막 달의 다음 달 말일(휴업, 폐업 또는 해산한 경우에는 휴업일, 폐업일 또는 해산일이 속하는 분기의 마지막 달의 다음 달 말일)까지 제출하는 경우\\n\\n2. 제164조의3제1항제2호의 소득에 대한 간이지급명세서를 그 소득 지급일(제144조의5를 적용받는 소득에 대해서는 해당 소득에 대한 과세기간 종료일을 말한다)이 속하는 반기의 마지막 달의 다음 달 말일(휴업, 폐업 또는 해산한 경우에는 휴업일, 폐업일 또는 해산일이 속하는 반기의 마지막 달의 다음 달 말일)까지 제출하는 경우\\n\\n③ 제1항제1호나목에도 불구하고 다음 각 호에 해당하는 경우에는 제1항제1호나목의 가산세는 부과하지 아니한다.<신설 2022. 12. 31., 2023. 12. 31.>\\n\\n1. 2026년 1월 1일부터 2026년 12월 31일(제128조제2항에 따라 원천징수세액을 반기별로 납부하는 원천징수의무자의 경우에는 2027년 12월 31일)까지 제164조의3제1항제1호의 소득을 지급하는 경우로서 해당 소득에 대한 간이지급명세서를 그 소득 지급일(제135조를 적용받는 소득에 대해서는 해당 소득에 대한 과세연도 종료일을 말한다)이 속하는 반기의 마지막 달의 다음 달 말일(휴업, 폐업 또는 해산한 경우에는 휴업일, 폐업일 또는 해산일이 속하는 반기의 마지막 달의 다음 달 말일)까지 제출하는 경우\\n\\n2. 2024년 1월 1일부터 2024년 12월 31일까지 제164조의3제1항제3호의 소득을 지급하는 경우로서 해당 소득에 대한 지급명세서를 그 소득 지급일이 속하는 과세연도의 다음 연도의 2월 말일(휴업, 폐업 또는 해산한 경우에는 휴업일, 폐업일 또는 해산일이 속하는 달의 다음다음 달 말일)까지 제출하는 경우'),\n",
       " Document(id='713f91a5-3b66-4da3-8b9f-07ba47c6fb7e', metadata={'source': './tax.docx'}, page_content='2. 2024년 1월 1일부터 2024년 12월 31일까지 제164조의3제1항제3호의 소득을 지급하는 경우로서 해당 소득에 대한 지급명세서를 그 소득 지급일이 속하는 과세연도의 다음 연도의 2월 말일(휴업, 폐업 또는 해산한 경우에는 휴업일, 폐업일 또는 해산일이 속하는 달의 다음다음 달 말일)까지 제출하는 경우\\n\\n④ 제1항제2호에도 불구하고 일용근로소득 또는 제164조의3제1항 각 호의 소득에 대하여 제출된 지급명세서등이 제1항제2호 각 목 외의 부분에 해당하는 경우로서 지급명세서등에 기재된 각각의 총지급금액에서 제1항제2호 각 목 외의 부분에 해당하는 분의 지급금액이 차지하는 비율이 대통령령으로 정하는 비율 이하인 경우에는 제1항제2호의 가산세는 부과하지 아니한다.<신설 2021. 3. 16., 2022. 12. 31.>\\n\\n⑤ 제1항을 적용할 때 제164조의3제1항제2호(제73조제1항제4호에 따라 대통령령으로 정하는 사업소득은 제외한다) 또는 제3호의 소득에 대한 지급명세서등의 제출의무가 있는 자에 대하여 제1항제1호가목의 가산세가 부과되는 부분에 대해서는 같은 호 나목의 가산세를 부과하지 아니하고, 제1항제2호가목의 가산세가 부과되는 부분에 대해서는 같은 호 나목의 가산세를 부과하지 아니한다.<신설 2022. 12. 31.>\\n\\n⑥ 제1항에 따른 가산세는 종합소득산출세액이 없는 경우에도 적용한다.<개정 2021. 3. 16., 2022. 12. 31.>\\n\\n[본조신설 2019. 12. 31.]\\n\\n[제목개정 2021. 3. 16.]\\n\\n[시행일: 2024. 1. 1.] 제81조의11제1항제1호나목(제164조의3제1항제1호의 소득에 대한 간이지급명세서를 제출하지 아니한 경우는 제외한다), 제81조의11제3항제2호, 제81조의11제4항(제164조의3제1항제1호의 소득에 관한 부분은 제외한다), 제81조의11제5항의 개정규정 중 제164조의3제1항제3호의 소득에 대한 개정부분\\n\\n[시행일: 2026. 1. 1.] 제81조의11제1항제1호나목(제164조의3제1항제1호의 소득에 대한 간이지급명세서를 제출하지 아니한 경우로 한정한다), 제81조의11제3항제1호, 제81조의11제4항(제164조의3제1항제1호의 소득에 관한 부분으로 한정한다)\\n\\n\\n\\n제81조의12(주택임대사업자 미등록 가산세) ① 주택임대소득이 있는 사업자가 제168조제1항 및 제3항에 따라 「부가가치세법」 제8조제1항 본문에 따른 기한까지 등록을 신청하지 아니한 경우에는 사업 개시일부터 등록을 신청한 날의 직전일까지의 주택임대수입금액의 1천분의 2를 가산세로 해당 과세기간의 종합소득 결정세액에 더하여 납부하여야 한다.\\n\\n② 제1항에 따른 가산세는 종합소득산출세액이 없는 경우에도 적용한다.\\n\\n[본조신설 2019. 12. 31.]'),\n",
       " Document(id='828b1c08-5f3e-4259-a14c-7b1dde7f9a2d', metadata={'source': './tax.docx'}, page_content='나. 제출한 계산서합계표에 대통령령으로 정하는 기재하여야 할 사항의 전부 또는 일부가 기재되지 아니하거나 사실과 다르게 기재된 경우(계산서합계표의 기재 사항이 착오로 기재된 경우로서 대통령령으로 정하는 바에 따라 거래사실이 확인되는 분의 매출가액 또는 매입가액은 제외한다): 공급가액의 1천분의 5\\n\\n3. 「부가가치세법」 제54조에 따른 매입처별 세금계산서합계표(이하 “매입처별 세금계산서합계표”라 한다)의 제출과 관련하여 다음 각 목의 어느 하나에 해당하는 경우(제4호가 적용되는 분의 매입가액은 제외한다): 다음 각 목의 구분에 따른 금액\\n\\n가. 매입처별 세금계산서합계표를 제163조의2제1항에 따라 제출하지 아니한 경우: 공급가액의 1천분의 5(제출기한이 지난 후 1개월 이내에 제출하는 경우에는 공급가액의 1천분의 3으로 한다)\\n\\n나. 매입처별 세금계산서합계표를 제출한 경우로서 그 매입처별 세금계산서합계표에 기재하여야 할 사항의 전부 또는 일부가 기재되지 아니하거나 사실과 다르게 기재된 경우(매입처별 세금계산서합계표의 기재사항이 착오로 기재된 경우로서 대통령령으로 정하는 바에 따라 거래사실이 확인되는 분의 매입가액은 제외한다): 공급가액의 1천분의 5\\n\\n4. 다음 각 목의 어느 하나에 해당하는 경우: 공급가액의 100분의 2(가목을 적용할 때 제163조제1항에 따라 전자계산서를 발급하여야 하는 자가 전자계산서 외의 계산서를 발급한 경우와 같은 조 제7항에 따른 계산서의 발급시기가 지난 후 해당 재화 또는 용역의 공급시기가 속하는 과세기간의 다음 연도 1월 25일까지 같은 조 제1항 또는 제2항에 따른 계산서를 발급한 경우에는 100분의 1로 한다)\\n\\n가. 제163조제1항 또는 제2항에 따른 계산서를 같은 조 제7항에 따른 발급시기에 발급하지 아니한 경우\\n\\n나. 재화 또는 용역을 공급하지 아니하고 제163조제1항 또는 제2항에 따른 계산서, 제160조의2제2항제3호에 따른 신용카드매출전표 또는 같은 항 제4호에 따른 현금영수증(이하 이 호에서 “계산서등”이라 한다)을 발급한 경우\\n\\n다. 재화 또는 용역을 공급받지 아니하고 계산서등을 발급받은 경우\\n\\n라. 재화 또는 용역을 공급하고 실제로 재화 또는 용역을 공급하는 자가 아닌 자의 명의로 계산서등을 발급한 경우\\n\\n마. 재화 또는 용역을 공급받고 실제로 재화 또는 용역을 공급하는 자가 아닌 자의 명의로 계산서등을 발급받은 경우\\n\\n5. 제163조제8항에 따른 기한이 지난 후 재화 또는 용역의 공급시기가 속하는 과세기간 말의 다음 달 25일까지 국세청장에게 전자계산서 발급명세를 전송하는 경우(제4호가 적용되는 분은 제외한다): 공급가액의 1천분의 3(제163조제1항제1호에 따른 사업자가 2016년 12월 31일 이전에 재화 또는 용역을 공급한 분과 같은 항 제2호에 따른 사업자가 2018년 12월 31일 이전에 재화 또는 용역을 공급한 분에 대해서는 각각 1천분의 1로 한다)'),\n",
       " Document(id='ef7b6392-c1b6-4258-a568-b2e8b009c566', metadata={'source': './tax.docx'}, page_content='⑥ 신용카드가맹점 가입을 위한 행정지도, 신용카드에 의한 거래거부 및 사실과 다른 신용카드매출전표 발급의 신고ㆍ통보방법, 그 밖에 필요한 사항은 대통령령으로 정한다.\\n\\n[전문개정 2009. 12. 31.]\\n\\n\\n\\n제162조의3(현금영수증가맹점 가입ㆍ발급의무 등) ① 주로 사업자가 아닌 소비자에게 재화 또는 용역을 공급하는 사업자로서 업종ㆍ규모 등을 고려하여 대통령령으로 정하는 요건에 해당하는 사업자는 그 요건에 해당하는 날부터 60일(수입금액 등 대통령령으로 정하는 요건에 해당하는 사업자의 경우 그 요건에 해당하는 날이 속하는 달의 말일부터 3개월) 이내에 신용카드단말기 등에 현금영수증 발급장치를 설치함으로써 현금영수증가맹점으로 가입하여야 한다. <개정 2014. 12. 23., 2019. 12. 31.>\\n\\n② 제1항에 따라 현금영수증가맹점으로 가입한 사업자는 국세청장이 정하는 바에 따라 현금영수증가맹점을 나타내는 표지를 게시하여야 한다.\\n\\n③ 현금영수증가맹점으로 가입한 사업자는 사업과 관련하여 재화 또는 용역을 공급하고 그 상대방이 대금을 현금으로 지급한 후 현금영수증의 발급을 요청하는 경우에는 그 발급을 거부하거나 사실과 다르게 발급해서는 아니 된다.\\n\\n④ 제1항에 따라 현금영수증가맹점으로 가입하여야 하는 사업자 중 대통령령으로 정하는 업종을 영위하는 사업자는 건당 거래금액(부가가치세액을 포함한다)이 10만원 이상인 재화 또는 용역을 공급하고 그 대금을 현금으로 받은 경우에는 제3항에도 불구하고 상대방이 현금영수증 발급을 요청하지 아니하더라도 대통령령으로 정하는 바에 따라 현금영수증을 발급하여야 한다. 다만, 제168조, 「법인세법」 제111조 또는 「부가가치세법」 제8조에 따라 사업자등록을 한 자에게 재화 또는 용역을 공급하고 제163조, 「법인세법」 제121조 또는 「부가가치세법」 제32조에 따라 계산서 또는 세금계산서를 교부한 경우에는 현금영수증을 발급하지 아니할 수 있다.<개정 2013. 1. 1., 2013. 6. 7., 2014. 1. 1.>\\n\\n⑤ 제3항에 따라 현금영수증가맹점으로 가입한 사업자 또는 제4항에 따라 현금영수증을 발급하여야 하는 사업자가 현금영수증을 발급하지 아니하거나 사실과 다른 현금영수증을 발급한 때에는 그 상대방은 그 현금거래 내용을 국세청장ㆍ지방국세청장 또는 세무서장에게 신고할 수 있다.<개정 2017. 12. 19.>\\n\\n⑥ 제5항에 따라 신고를 받은 국세청장ㆍ지방국세청장 또는 세무서장은 해당 사업자의 납세지 관할 세무서장에게 이를 통보하여야 한다. 이 경우 납세지 관할 세무서장은 해당 과세기간의 신고금액을 해당 사업자에게 통보하여야 한다.\\n\\n⑦ 현금영수증가맹점으로 가입한 사업자는 그로부터 재화 또는 용역을 공급받은 상대방이 현금영수증의 발급을 요청하지 아니하는 경우에도 대통령령으로 정하는 바에 따라 현금영수증을 발급할 수 있다.<신설 2012. 1. 1.>')]"
      ]
     },
     "execution_count": 14,
     "metadata": {},
     "output_type": "execute_result"
    }
   ],
   "source": [
    "retrieved_docs = database.similarity_search(query_n, k=10)\n",
    "retrieved_docs\n",
    "# 첫번째 참고 할 내용이 나옴"
   ]
  },
  {
   "cell_type": "code",
   "execution_count": 15,
   "id": "4dd3ad8c",
   "metadata": {},
   "outputs": [
    {
     "data": {
      "text/plain": [
       "[Document(id='0490e86f-2a75-460b-ab3a-d6b058dcbc85', metadata={'source': './tax.docx'}, page_content='③ 제1항에 따른 가산세는 종합소득산출세액이 없는 경우에도 적용한다.\\n\\n[본조신설 2019. 12. 31.]\\n\\n\\n\\n제81조의8(사업용계좌 신고ㆍ사용 불성실 가산세) ① 사업자가 다음 각 호의 어느 하나에 해당하는 경우에는 다음 각 호의 구분에 따른 금액을 가산세로 해당 과세기간의 종합소득 결정세액에 더하여 납부하여야 한다.\\n\\n1. 제160조의5제1항 각 호의 어느 하나에 해당하는 경우로서 사업용계좌를 사용하지 아니한 경우: 사업용계좌를 사용하지 아니한 금액의 1천분의 2\\n\\n2. 제160조의5제3항에 따라 사업용계좌를 신고하지 아니한 경우(사업장별 신고를 하지 아니하고 이미 신고한 다른 사업장의 사업용계좌를 사용한 경우는 제외한다): 다음 각 목의 금액 중 큰 금액\\n\\n가. 다음 계산식에 따라 계산한 금액\\n\\n\\n\\n나. 제160조의5제1항 각 호에 따른 거래금액의 합계액의 1천분의 2\\n\\n② 제1항에 따른 가산세는 종합소득산출세액이 없는 경우에도 적용한다.\\n\\n[본조신설 2019. 12. 31.]\\n\\n\\n\\n제81조의9(신용카드 및 현금영수증 발급 불성실 가산세) ① 제162조의2제2항에 따른 신용카드가맹점이 신용카드에 의한 거래를 거부하거나 신용카드매출전표를 사실과 다르게 발급하여 같은 조 제4항 후단에 따라 납세지 관할 세무서장으로부터 통보받은 경우에는 통보받은 건별 거부 금액 또는 신용카드매출전표를 사실과 다르게 발급한 금액(건별로 발급하여야 할 금액과의 차액을 말한다)의 100분의 5(건별로 계산한 금액이 5천원 미만이면 5천원으로 한다)를 가산세로 해당 과세기간의 종합소득 결정세액에 더하여 납부하여야 한다.\\n\\n② 사업자가 다음 각 호의 어느 하나에 해당하는 경우에는 다음 각 호의 구분에 따른 금액을 가산세로 해당 과세기간의 종합소득 결정세액에 더하여 납부하여야 한다.<개정 2021. 12. 8.>\\n\\n제162조의3제1항을 위반하여 현금영수증가맹점으로 가입하지 아니하거나 그 가입기한이 지나서 가입한 경우: 다음 계산식에 따라 계산한 금액\\n\\n\\n\\n가산세 = A × ( B / C ) × 100분의 1\\n\\n\\n\\nA : 해당 과세기간의 수입금액(현금영수증가맹점 가입대상인 업종의 수입금액만 해당하며, 제163조에 따른 계산서 및 「부가가치세법」 제32조에 따른 세금계산서 발급분 등 대통령령으로 정하는 수입금액은 제외한다)\\n\\n\\n\\nB : 미가입기간(제162조의3제1항에 따른 가입기한의 다음 날부터 가입일 전날까지의 일수를 말하며, 미가입기간이 2개 이상의 과세기간에 걸쳐 있으면 각 과세기간별로 미가입기간을 적용한다)\\n\\n\\n\\nC : 365 (윤년에는 366으로 한다)'),\n",
       " Document(id='e0ec6b67-3134-459a-abca-defa15579b5e', metadata={'source': './tax.docx'}, page_content='B : 미가입기간(제162조의3제1항에 따른 가입기한의 다음 날부터 가입일 전날까지의 일수를 말하며, 미가입기간이 2개 이상의 과세기간에 걸쳐 있으면 각 과세기간별로 미가입기간을 적용한다)\\n\\n\\n\\nC : 365 (윤년에는 366으로 한다)\\n\\n\\n\\n2. 제162조의3제3항을 위반하여 현금영수증 발급을 거부하거나 사실과 다르게 발급하여 같은 조 제6항 후단에 따라 납세지 관할 세무서장으로부터 신고금액을 통보받은 경우(현금영수증의 발급대상 금액이 건당 5천원 이상인 경우만 해당하며, 제3호에 해당하는 경우는 제외한다): 통보받은 건별 발급 거부 금액 또는 사실과 다르게 발급한 금액(건별로 발급하여야 할 금액과의 차액을 말한다)의 100분의 5(건별로 계산한 금액이 5천원 미만이면 5천원으로 한다)\\n\\n3. 제162조의3제4항을 위반하여 현금영수증을 발급하지 아니한 경우(「국민건강보험법」에 따른 보험급여의 대상인 경우 등 대통령령으로 정하는 경우는 제외한다): 미발급금액의 100분의 20(착오나 누락으로 인하여 거래대금을 받은 날부터 10일 이내에 관할 세무서에 자진 신고하거나 현금영수증을 자진 발급한 경우에는 100분의 10으로 한다)\\n\\n③ 제1항 및 제2항에 따른 가산세는 종합소득산출세액이 없는 경우에도 적용한다.\\n\\n[본조신설 2019. 12. 31.]\\n\\n\\n\\n제81조의10(계산서 등 제출 불성실 가산세) ① 사업자(대통령령으로 정하는 소규모사업자는 제외한다)가 다음 각 호의 어느 하나에 해당하는 경우에는 다음 각 호의 구분에 따른 금액을 가산세로 해당 과세기간의 종합소득 결정세액에 더하여 납부하여야 한다.\\n\\n1. 제163조제1항 또는 제2항에 따라 발급한 계산서(같은 조 제1항 후단에 따른 전자계산서를 포함한다. 이하 이 조에서 같다)에 대통령령으로 정하는 기재 사항의 전부 또는 일부가 기재되지 아니하거나 사실과 다르게 기재된 경우(제2호가 적용되는 분은 제외한다): 공급가액의 100분의 1\\n\\n2. 제163조제5항에 따른 매출ㆍ매입처별 계산서합계표(이하 이 호에서 “계산서합계표”라 한다)의 제출과 관련하여 다음 각 목의 어느 하나에 해당하는 경우(제4호가 적용되는 분의 매출가액 또는 매입가액은 제외한다): 다음 각 목의 구분에 따른 금액\\n\\n가. 계산서합계표를 제163조제5항에 따라 제출하지 아니한 경우: 공급가액의 1천분의 5(제출기한이 지난 후 1개월 이내에 제출하는 경우에는 공급가액의 1천분의 3으로 한다)\\n\\n나. 제출한 계산서합계표에 대통령령으로 정하는 기재하여야 할 사항의 전부 또는 일부가 기재되지 아니하거나 사실과 다르게 기재된 경우(계산서합계표의 기재 사항이 착오로 기재된 경우로서 대통령령으로 정하는 바에 따라 거래사실이 확인되는 분의 매출가액 또는 매입가액은 제외한다): 공급가액의 1천분의 5'),\n",
       " Document(id='91edd5ca-da5c-476d-800c-00b698d4ccae', metadata={'source': './tax.docx'}, page_content='② 제1항을 적용할 때 제80조에 따른 경정으로 종합소득산출세액이 0보다 크게 된 경우에는 경정된 종합소득산출세액을 기준으로 가산세를 계산한다.\\n\\n③ 제1항에 따른 가산세는 종합소득산출세액이 없는 경우에도 적용한다.<신설 2021. 12. 8.>\\n\\n[본조신설 2019. 12. 31.]\\n\\n\\n\\n제81조의3(사업장 현황신고 불성실 가산세) ① 사업자(주로 사업자가 아닌 소비자에게 재화 또는 용역을 공급하는 사업자로서 대통령령으로 정하는 사업자만 해당한다)가 다음 각 호의 어느 하나에 해당하는 경우에는 그 신고하지 아니한 수입금액 또는 미달하게 신고한 수입금액의 1천분의 5를 가산세로 해당 과세기간의 종합소득 결정세액에 더하여 납부하여야 한다.\\n\\n1. 사업장 현황신고를 하지 아니한 경우\\n\\n2. 제78조제2항에 따라 신고하여야 할 수입금액(같은 조 제1항제2호 단서에 따라 사업장 현황신고를 한 것으로 보는 경우에는 면세사업등 수입금액)보다 미달하게 신고한 경우\\n\\n② 제1항에 따른 가산세는 종합소득산출세액이 없는 경우에도 적용한다.\\n\\n[본조신설 2019. 12. 31.]\\n\\n\\n\\n제81조의4(공동사업장 등록ㆍ신고 불성실 가산세) ① 공동사업장에 관한 사업자등록 및 신고와 관련하여 다음 각 호의 어느 하나에 해당하는 경우에는 다음 각 호의 구분에 따른 금액을 가산세로 해당 과세기간의 종합소득 결정세액에 더하여 납부하여야 한다.\\n\\n1. 공동사업자가 제87조제3항에 따라 사업자등록을 하지 아니하거나 공동사업자가 아닌 자가 공동사업자로 거짓으로 등록한 경우: 등록하지 아니하거나 거짓 등록에 해당하는 각 과세기간 총수입금액의 1천분의 5\\n\\n2. 공동사업자가 제87조제4항 또는 제5항에 따라 신고하여야 할 내용을 신고하지 아니하거나 거짓으로 신고한 경우로서 대통령령으로 정하는 경우: 신고하지 아니하거나 거짓 신고에 해당하는 각 과세기간 총수입금액의 1천분의 1\\n\\n② 제1항에 따른 가산세는 종합소득산출세액이 없는 경우에도 적용한다.\\n\\n[본조신설 2019. 12. 31.]\\n\\n\\n\\n제81조의5(장부의 기록ㆍ보관 불성실 가산세) 사업자(대통령령으로 정하는 소규모사업자는 제외한다)가 제160조 또는 제161조에 따른 장부를 비치ㆍ기록하지 아니하였거나 비치ㆍ기록한 장부에 따른 소득금액이 기장하여야 할 금액에 미달한 경우에는 다음 계산식에 따라 계산한 금액을 가산세로 해당 과세기간의 종합소득 결정세액에 더하여 납부하여야 한다. 이 경우 기장하지 아니한 소득금액 또는 기장하여야 할 금액에 미달한 소득금액이 종합소득금액에서 차지하는 비율이 1보다 큰 경우에는 1로, 0보다 작은 경우에는 0으로 한다.\\n\\n\\n\\n[본조신설 2019. 12. 31.]'),\n",
       " Document(id='bb2b2602-1f74-4cc7-a280-2494106e4895', metadata={'source': './tax.docx'}, page_content='6. 제163조제8항에 따른 기한이 지난 후 재화 또는 용역의 공급시기가 속하는 과세기간 말의 다음 달 25일까지 국세청장에게 전자계산서 발급명세를 전송하지 아니한 경우(제4호가 적용되는 분은 제외한다): 공급가액의 1천분의 5(제163조제1항제1호에 따른 사업자가 2016년 12월 31일 이전에 재화 또는 용역을 공급한 분과 같은 항 제2호에 따른 사업자가 2018년 12월 31일 이전에 재화 또는 용역을 공급한 분에 대해서는 각각 1천분의 3으로 한다)\\n\\n② 사업자가 아닌 자가 재화 또는 용역을 공급하지 아니하고 계산서를 발급하거나 재화 또는 용역을 공급받지 아니하고 계산서를 발급받은 경우 그 계산서를 발급하거나 발급받은 자를 사업자로 보고 그 계산서에 적힌 공급가액의 100분의 2를 그 계산서를 발급하거나 발급받은 자에게 사업자등록증을 발급한 세무서장이 가산세로 징수한다. 이 경우 그 계산서를 발급하거나 발급받은 자의 사업소득에 대한 제15조에 따른 종합소득산출세액은 0으로 본다.\\n\\n③ 제1항 및 제2항의 가산세는 종합소득산출세액이 없는 경우에도 적용한다.\\n\\n④ 제1항 및 제2항의 가산세는 다음 각 호의 구분에 따라 가산세가 부과되는 부분에 대해서는 적용하지 아니한다.\\n\\n1. 제1항의 가산세를 적용하지 아니하는 경우: 제81조의6 또는 「부가가치세법」 제60조제2항ㆍ제3항ㆍ제5항ㆍ제6항에 따라 가산세가 부과되는 부분\\n\\n2. 제2항의 가산세를 적용하지 아니하는 경우: 「부가가치세법」 제60조제4항에 따라 가산세가 부과되는 부분\\n\\n[본조신설 2019. 12. 31.]\\n\\n\\n\\n제81조의11(지급명세서 등 제출 불성실 가산세) ① 제164조ㆍ제164조의2 또는 「법인세법」 제120조ㆍ제120조의2에 따른 지급명세서(이하 이 조에서 “지급명세서”라 한다)나 이 법 제164조의3에 따른 간이지급명세서(이하 이 조에서 “간이지급명세서”라 한다)를 제출하여야 할 자가 다음 각 호의 어느 하나에 해당하는 경우에는 각 호에서 정하는 금액을 가산세로 해당 과세기간의 종합소득 결정세액에 더하여 납부하여야 한다. 다만, 「조세특례제한법」 제90조의2에 따라 가산세가 부과되는 분에 대해서는 그러하지 아니하다. <개정 2020. 12. 29., 2021. 3. 16., 2022. 12. 31.>\\n\\n1. 지급명세서 또는 간이지급명세서(이하 이 조에서 “지급명세서등”이라 한다)를 기한까지 제출하지 아니한 경우: 다음 각 목의 구분에 따른 금액\\n\\n가. 지급명세서의 경우: 제출하지 아니한 분의 지급금액의 100분의 1(제출기한이 지난 후 3개월 이내에 제출하는 경우에는 지급금액의 1천분의 5로 한다). 다만, 제164조제1항 각 호 외의 부분 단서에 따른 일용근로자의 근로소득(이하 이 조에서 “일용근로소득”이라 한다)에 대한 지급명세서의 경우에는 제출하지 아니한 분의 지급금액의 1만분의 25(제출기한이 지난 후 1개월 이내에 제출하는 경우에는 지급금액의 10만분의 125)로 한다.'),\n",
       " Document(id='7f8e13ea-8684-4468-a800-348ed303d99c', metadata={'source': './tax.docx'}, page_content='[본조신설 2019. 12. 31.]\\n\\n\\n\\n제81조의6(증명서류 수취 불성실 가산세) ① 사업자(대통령령으로 정하는 소규모사업자 및 대통령령으로 정하는 바에 따라 소득금액이 추계되는 자는 제외한다)가 사업과 관련하여 다른 사업자(법인을 포함한다)로부터 재화 또는 용역을 공급받고 제160조의2제2항 각 호의 어느 하나에 따른 증명서류를 받지 아니하거나 사실과 다른 증명서류를 받은 경우에는 그 받지 아니하거나 사실과 다르게 받은 금액으로 필요경비에 산입하는 것이 인정되는 금액(건별로 받아야 할 금액과의 차액을 말한다)의 100분의 2를 가산세로 해당 과세기간의 종합소득 결정세액에 더하여 납부하여야 한다. 다만, 제160조의2제2항 각 호 외의 부분 단서가 적용되는 부분은 그러하지 아니하다.\\n\\n② 제1항에 따른 가산세는 종합소득산출세액이 없는 경우에도 적용한다.\\n\\n[본조신설 2019. 12. 31.]\\n\\n\\n\\n제81조의7(기부금영수증 발급ㆍ작성ㆍ보관 불성실 가산세) ① 제34조 및 「법인세법」 제24조에 따라 기부금을 필요경비 또는 손금에 산입하거나, 제59조의4제4항에 따라 기부금세액공제를 받기 위하여 필요한 기부금영수증[「법인세법」 제75조의4제2항에 따른 전자기부금영수증(이하 “전자기부금영수증”이라 한다)을 포함한다. 이하 “기부금영수증”이라 한다]을 발급하는 거주자 또는 비거주자가 다음 각 호의 어느 하나에 해당하는 경우에는 다음 각 호의 구분에 따른 금액을 가산세로 해당 과세기간의 종합소득 결정세액에 더하여 납부하여야 한다. <개정 2020. 12. 29.>\\n\\n1. 기부금영수증을 사실과 다르게 적어 발급(기부금액 또는 기부자의 인적사항 등 주요 사항을 적지 아니하고 발급하는 경우를 포함한다. 이하 이 호에서 같다)한 경우\\n\\n가. 기부금액을 사실과 다르게 적어 발급한 경우: 사실과 다르게 발급한 금액[기부금영수증에 실제 적힌 금액(기부금영수증에 금액이 적혀 있지 아니한 경우에는 기부금영수증을 발급받은 자가 기부금을 필요경비에 산입하거나 기부금세액공제를 받은 해당 금액으로 한다)과 건별로 발급하여야 할 금액과의 차액을 말한다]의 100분의 5\\n\\n나. 기부자의 인적사항 등을 사실과 다르게 적어 발급하는 등 가목 외의 경우: 기부금영수증에 적힌 금액의 100분의 5\\n\\n2. 기부자별 발급명세를 제160조의3제1항에 따라 작성ㆍ보관하지 아니한 경우: 그 작성ㆍ보관하지 아니한 금액의 1천분의 2\\n\\n② 「상속세 및 증여세법」 제78조제3항에 따라 보고서 제출의무를 이행하지 아니하거나 같은 조 제5항제2호에 따라 출연받은 재산에 대한 장부의 작성ㆍ비치의무를 이행하지 아니하여 가산세가 부과되는 경우에는 제1항제2호의 가산세를 적용하지 아니한다.\\n\\n③ 제1항에 따른 가산세는 종합소득산출세액이 없는 경우에도 적용한다.\\n\\n[본조신설 2019. 12. 31.]')]"
      ]
     },
     "execution_count": 15,
     "metadata": {},
     "output_type": "execute_result"
    }
   ],
   "source": [
    "retriever = database.as_retriever(\n",
    "  search_type = 'similarity', \n",
    "  search_kwargs = {'k':5}\n",
    "  ) #기본 리트리버\n",
    "retriever.invoke(query_n)"
   ]
  },
  {
   "cell_type": "code",
   "execution_count": 16,
   "id": "3825f495",
   "metadata": {},
   "outputs": [
    {
     "data": {
      "text/plain": [
       "{'query': '신용카드가맹점에서 10만원 카드 결제를 거부했을 때 부과하는 가산세은 얼마인가요?',\n",
       " 'result': '신용카드 가맹점이 카드 결제를 거부했을 경우 부과되는 가산세는 거부된 금액의 5%입니다. 만약 그 금액이 5천원 미만일 경우, 최소 5천원이 부과됩니다. 따라서 10만원 결제 거부 시 가산세는 5천원이 됩니다.'}"
      ]
     },
     "execution_count": 16,
     "metadata": {},
     "output_type": "execute_result"
    }
   ],
   "source": [
    "from langchain import hub\n",
    "prompt = hub.pull('rlm/rag-prompt') #범용 래그프롬프트\n",
    "\n",
    "from langchain_openai import ChatOpenAI\n",
    "llm = ChatOpenAI(model='gpt-4o-mini')\n",
    "\n",
    "from langchain.chains import RetrievalQA\n",
    "qa_chain = RetrievalQA.from_chain_type(\n",
    "  llm,\n",
    "  retriever = retriever,\n",
    "  chain_type_kwargs = {'prompt':prompt}\n",
    ")\n",
    "\n",
    "response = qa_chain.invoke({\"query\":query_n}) \n",
    "response"
   ]
  },
  {
   "cell_type": "code",
   "execution_count": 19,
   "id": "fabb8499",
   "metadata": {},
   "outputs": [
    {
     "data": {
      "text/plain": [
       "'신용카드 가맹점이 카드 결제를 거부했을 경우 부과되는 가산세는 거부된 금액의 5%입니다. 만약 그 금액이 5천원 미만일 경우, 최소 5천원이 부과됩니다. 따라서 10만원 결제 거부 시 가산세는 5천원이 됩니다.'"
      ]
     },
     "execution_count": 19,
     "metadata": {},
     "output_type": "execute_result"
    }
   ],
   "source": [
    "response['result']"
   ]
  },
  {
   "cell_type": "code",
   "execution_count": null,
   "id": "a1d10df4",
   "metadata": {},
   "outputs": [],
   "source": [
    " # Retrieval를 위한 키워드 사전(용어사전)"
   ]
  },
  {
   "cell_type": "code",
   "execution_count": 21,
   "id": "ba8e19fe",
   "metadata": {},
   "outputs": [],
   "source": [
    "from langchain_core.output_parsers import StrOutputParser\n",
    "from langchain_core.prompts import ChatPromptTemplate\n",
    "\n",
    "dictionary = ['가게 --> 카드가맹점, 지불 --> 부과']\n",
    "\n",
    "prompt_dic = ChatPromptTemplate.from_template(\n",
    "  f'''\n",
    "  사용자의 질문을 보고, 아래의 사전을 참고해서 사용자의 질문을 변경하세요.\n",
    "  만약 변경할 필요가 없다고 판단되면, 사용자의 질문을 변경하지 않아도 됩니다.\n",
    "  그런 경우에는 질문만 리턴하세요.\n",
    "  사전 : {dictionary}\n",
    "  \n",
    "  질문 : {{question}}\n",
    "  '''\n",
    ")\n",
    "\n",
    "dictionary_chain = prompt_dic | llm | StrOutputParser()\n",
    "tax_chain = {'query':dictionary_chain} | qa_chain"
   ]
  },
  {
   "cell_type": "code",
   "execution_count": 22,
   "id": "62df0033",
   "metadata": {},
   "outputs": [
    {
     "data": {
      "text/plain": [
       "'가게에서 10만원 카드 결제를 거절했을 때 지불하는 벌금은 얼마인가요?'"
      ]
     },
     "execution_count": 22,
     "metadata": {},
     "output_type": "execute_result"
    }
   ],
   "source": [
    "query"
   ]
  },
  {
   "cell_type": "code",
   "execution_count": 23,
   "id": "53acc3ea",
   "metadata": {},
   "outputs": [
    {
     "data": {
      "text/plain": [
       "'카드가맹점에서 10만원 카드 결제를 거절했을 때 부과하는 벌금은 얼마인가요?'"
      ]
     },
     "execution_count": 23,
     "metadata": {},
     "output_type": "execute_result"
    }
   ],
   "source": [
    "new_query = dictionary_chain.invoke({'question': query})\n",
    "new_query"
   ]
  },
  {
   "cell_type": "code",
   "execution_count": 24,
   "id": "6054d4b2",
   "metadata": {},
   "outputs": [
    {
     "data": {
      "text/plain": [
       "{'query': '카드가맹점에서 10만원 카드 결제를 거절했을 때 부과하는 벌금은 얼마인가요?',\n",
       " 'result': '카드가맹점이 카드 결제를 거부했을 때 부과되는 벌금은 해당 건별 거부 금액 또는 신용카드매출전표를 사실과 다르게 발급한 금액의 5%입니다. 그러나 이 금액이 5천원 미만일 경우에는 최소 5천원이 부과됩니다.具体한 금액은 거래 금액에 따라 달라질 수 있습니다.'}"
      ]
     },
     "execution_count": 24,
     "metadata": {},
     "output_type": "execute_result"
    }
   ],
   "source": [
    "tax_chain.invoke({'question':query})"
   ]
  },
  {
   "cell_type": "code",
   "execution_count": null,
   "id": "23015fc4",
   "metadata": {},
   "outputs": [],
   "source": []
  },
  {
   "cell_type": "code",
   "execution_count": null,
   "id": "c558f6b2",
   "metadata": {},
   "outputs": [],
   "source": []
  },
  {
   "cell_type": "code",
   "execution_count": null,
   "id": "3a835964",
   "metadata": {},
   "outputs": [],
   "source": []
  },
  {
   "cell_type": "code",
   "execution_count": null,
   "id": "382f16b4",
   "metadata": {},
   "outputs": [],
   "source": []
  },
  {
   "cell_type": "code",
   "execution_count": null,
   "id": "0e1607e7",
   "metadata": {},
   "outputs": [],
   "source": []
  },
  {
   "cell_type": "code",
   "execution_count": null,
   "id": "e6d017c4",
   "metadata": {},
   "outputs": [],
   "source": []
  },
  {
   "cell_type": "code",
   "execution_count": null,
   "id": "c2a69686",
   "metadata": {},
   "outputs": [
    {
     "name": "stdout",
     "output_type": "stream",
     "text": [
      "질문 : 가맹점에서 현금영수증을 안 주면 세금은 어떻게 돼요?\n",
      "답변 : 가맹점에서 현금영수증을 발급하지 않거나 사실과 다르게 발급한 경우, 사업자는 가산세를 부과받을 수 있습니다. \n",
      "\n",
      "1. 현금영수증을 발급하지 않는 경우, 미발급 금액의 20%를 가산세로 납부해야 합니다. 만약 거래대금을 받은 날부터 10일 이내에 자진 신고하거나 현금영수증을 발급한 경우에는 가산세가 10%로 줄어듭니다.\n",
      "\n",
      "2. 만약 현금영수증 발급을 거부하거나 사실과 다르게 발급한 경우, 해당 금액의 5%가 가산세로 부과됩니다. 이 경우 건별로 계산하며, 건별로 발급해야 할 금액이 5천원 미만인 경우에는 5천원이 적용됩니다.\n",
      "\n",
      "따라서 가맹점에서 현금영수증을 받지 못할 경우, 관련 세금에 대한 불이익이 발생할 수 있으니 주의가 필요합니다.\n",
      "--------------------------------------------------\n",
      "질문 : 신용카드 결제를 거부하고 10만 원을 받지 않았을 때 가산세는 얼마인가요?\n",
      "답변 : 제162조의2제2항에 따르면, 신용카드가맹점이 신용카드에 의한 거래를 거부한 경우에는 그 거부한 금액의 5%를 가산세로 납부해야 합니다. \n",
      "\n",
      "따라서, 10만 원을 받지 않았을 경우 가산세는 다음과 같이 계산됩니다:\n",
      "\n",
      "가산세 = 10만 원 × 0.05 = 5,000원\n",
      "\n",
      "결론적으로 신용카드 결제를 거부하고 10만 원을 받지 않았을 때 가산세는 5,000원입니다.\n",
      "--------------------------------------------------\n",
      "질문 : 현금영수증가맹점 미가입 기간에 대한 가산세 계산식을 알려주세요.\n",
      "답변 : 현금영수증가맹점 미가입 기간에 대한 가산세는 다음 계산식에 따라 계산됩니다:\n",
      "\n",
      "가산세 = A × (B / C) × 100분의 1\n",
      "\n",
      "여기서,\n",
      "- A: 해당 과세기간의 수입금액(현금영수증가맹점 가입대상인 업종의 수입금액만 해당)\n",
      "- B: 미가입기간(제162조의3제1항에 따른 가입기한의 다음 날부터 가입일 전날까지의 일수)\n",
      "- C: 365 (윤년에는 366으로 계산)\n",
      "\n",
      "이렇게 계산한 가산세는 해당 과세기간의 종합소득 결정세액에 더하여 납부해야 합니다.\n",
      "--------------------------------------------------\n",
      "질문 : 소득세가 0원이어도 불성실 가산세를 내야 하나요?\n",
      "답변 : 네, 소득세가 0원일 경우에도 불성실 가산세는 적용됩니다. 해당 내용은 제81조의6, 제81조의7, 제81조의3 등 여러 조항에서 명시되어 있습니다. 따라서, 종합소득산출세액이 없는 경우에도 가산세를 납부해야 한다는 점에 유의해야 합니다.\n",
      "--------------------------------------------------\n"
     ]
    }
   ],
   "source": [
    "# 1. 처리하고 싶은 질문들을 리스트에 담습니다.\n",
    "questions_list = [\n",
    "    '가맹점에서 현금영수증을 안 주면 세금은 어떻게 돼요?',\n",
    "    '신용카드 결제를 거부하고 10만 원을 받지 않았을 때 가산세는 얼마인가요?',\n",
    "    '현금영수증가맹점 미가입 기간에 대한 가산세 계산식을 알려주세요.',\n",
    "    '소득세가 0원이어도 불성실 가산세를 내야 하나요?'\n",
    "]\n",
    "\n",
    "# 2. for 반복문을 사용하여 리스트의 각 질문을 하나씩 처리합니다.\n",
    "for question in questions_list:\n",
    "    # 2-1. 현재 질문으로 데이터베이스에서 관련 문서를 검색합니다.\n",
    "    retrieved_docs = database.similarity_search(question, k=5)\n",
    "\n",
    "    # 2-2. 현재 질문을 포함하여 LLM에게 보낼 프롬프트를 만듭니다.\n",
    "    prompt = f\"\"\"[Identity]\n",
    "    - 당신은 최고의 한국 소득세 전문가 입니다.\n",
    "    - [context]만 참조해서 사용자의 질문에 답변해 주세요.[context]에 참조해서 답변을 못하면 못한다고 말해주세요.\n",
    "    [context]\n",
    "    {retrieved_docs}\n",
    "    Questrion : {question}\n",
    "    \"\"\"\n",
    "\n",
    "    # 2-3. LLM에 완성된 프롬프트를 전달하여 답변을 생성합니다.\n",
    "    response = llm.invoke(prompt)\n",
    "\n",
    "    # 2-4. 지정된 형식에 맞춰 질문과 답변을 출력합니다.\n",
    "    print(f\"질문 : {question}\")\n",
    "    print(f\"답변 : {response.content}\")\n",
    "    print(\"-\" * 50) # 질문과 답변을 시각적으로 구분하기 위한 선"
   ]
  }
 ],
 "metadata": {
  "kernelspec": {
   "display_name": "prompt_env",
   "language": "python",
   "name": "python3"
  },
  "language_info": {
   "codemirror_mode": {
    "name": "ipython",
    "version": 3
   },
   "file_extension": ".py",
   "mimetype": "text/x-python",
   "name": "python",
   "nbconvert_exporter": "python",
   "pygments_lexer": "ipython3",
   "version": "3.12.11"
  }
 },
 "nbformat": 4,
 "nbformat_minor": 5
}
