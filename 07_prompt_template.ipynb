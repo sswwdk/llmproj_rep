{
 "cells": [
  {
   "cell_type": "markdown",
   "id": "01479c9f",
   "metadata": {},
   "source": [
    "# prompt template"
   ]
  },
  {
   "cell_type": "code",
   "execution_count": 1,
   "id": "29c65bc2",
   "metadata": {},
   "outputs": [
    {
     "data": {
      "text/plain": [
       "ChatOpenAI(client=<openai.resources.chat.completions.completions.Completions object at 0x0000020CC5F5F740>, async_client=<openai.resources.chat.completions.completions.AsyncCompletions object at 0x0000020CC6003B30>, root_client=<openai.OpenAI object at 0x0000020CC4A4C6B0>, root_async_client=<openai.AsyncOpenAI object at 0x0000020CC5D85E20>, model_name='gpt-4o-mini', model_kwargs={}, openai_api_key=SecretStr('**********'))"
      ]
     },
     "execution_count": 1,
     "metadata": {},
     "output_type": "execute_result"
    }
   ],
   "source": [
    "from langchain_openai import ChatOpenAI\n",
    "llm = ChatOpenAI(model='gpt-4o-mini')\n",
    "llm"
   ]
  },
  {
   "cell_type": "code",
   "execution_count": 5,
   "id": "3680f0b2",
   "metadata": {},
   "outputs": [
    {
     "data": {
      "text/plain": [
       "'서울에서 유명한 맛집을 알려주세요'"
      ]
     },
     "execution_count": 5,
     "metadata": {},
     "output_type": "execute_result"
    }
   ],
   "source": [
    "from langchain.prompts import PromptTemplate\n",
    "template = PromptTemplate.from_template(\"{city}에서 {adj} {topic}을 알려주세요\")\n",
    "prompt = template.format(city='서울', adj='유명한', topic='맛집')\n",
    "prompt"
   ]
  },
  {
   "cell_type": "code",
   "execution_count": 6,
   "id": "ed99a878",
   "metadata": {},
   "outputs": [
    {
     "data": {
      "text/plain": [
       "AIMessage(content='서울에는 다양한 맛집이 많이 있습니다. 아래는 서울에서 유명한 몇 곳의 맛집을 소개합니다.\\n\\n1. **광장시장** - 전통 시장으로, 빈대떡, 마늘종 김치, 떡볶이 등을 즐길 수 있습니다.\\n\\n2. **남대문 시장** - 전통적인 한국 음식을 경험할 수 있는 곳으로, 특히 쌀국수와 만두가 유명합니다.\\n\\n3. **신사동 가로수길** - 트렌디한 카페와 레스토랑이 많이 모여 있는 곳으로, 다양한 한식 및 양식을 즐길 수 있습니다.\\n\\n4. **이태원** - 다양한 국제 요리를 찾을 수 있는 곳으로, 멕시칸, 인도, 태국 등 여러 나라의 음식을 맛볼 수 있습니다.\\n\\n5. **압구정 로데오거리** - 고급 레스토랑과 카페가 즐비한 곳으로, 퓨전 한식 및 양식이 많습니다.\\n\\n6. **삼청동** - 전통 한식을 즐길 수 있는 아늑한 한정식 집들이 많고, 예쁜 카페들도 많습니다.\\n\\n7. **홍대** - 다양한 스트리트푸드와 맛집이 있는 젊은 층에게 인기 있는 지역으로, 특히 길거리 음식이 유명합니다.\\n\\n8. **부암동** - 한옥들이 있는 분위기 좋은 동네로, 전통 찻집과 맛집이 많이 있습니다.\\n\\n이 외에도 서울에는 수많은 맛집이 있으니, 취향에 따라 여러 곳을 탐방해 보시는 것도 좋습니다!', additional_kwargs={'refusal': None}, response_metadata={'token_usage': {'completion_tokens': 348, 'prompt_tokens': 16, 'total_tokens': 364, 'completion_tokens_details': {'accepted_prediction_tokens': 0, 'audio_tokens': 0, 'reasoning_tokens': 0, 'rejected_prediction_tokens': 0}, 'prompt_tokens_details': {'audio_tokens': 0, 'cached_tokens': 0}}, 'model_name': 'gpt-4o-mini-2024-07-18', 'system_fingerprint': 'fp_8bda4d3a2c', 'id': 'chatcmpl-CDLvOIWZD5B1K5sZPUf3PvS9eU4ta', 'service_tier': 'default', 'finish_reason': 'stop', 'logprobs': None}, id='run--6f4cd877-c344-45f7-97d3-ad73e5c60403-0', usage_metadata={'input_tokens': 16, 'output_tokens': 348, 'total_tokens': 364, 'input_token_details': {'audio': 0, 'cache_read': 0}, 'output_token_details': {'audio': 0, 'reasoning': 0}})"
      ]
     },
     "execution_count": 6,
     "metadata": {},
     "output_type": "execute_result"
    }
   ],
   "source": [
    "res = llm.invoke(prompt)\n",
    "res"
   ]
  },
  {
   "cell_type": "code",
   "execution_count": 7,
   "id": "e668b28d",
   "metadata": {},
   "outputs": [
    {
     "data": {
      "text/plain": [
       "'서울에는 다양한 맛집이 많이 있습니다. 아래는 서울에서 유명한 몇 곳의 맛집을 소개합니다.\\n\\n1. **광장시장** - 전통 시장으로, 빈대떡, 마늘종 김치, 떡볶이 등을 즐길 수 있습니다.\\n\\n2. **남대문 시장** - 전통적인 한국 음식을 경험할 수 있는 곳으로, 특히 쌀국수와 만두가 유명합니다.\\n\\n3. **신사동 가로수길** - 트렌디한 카페와 레스토랑이 많이 모여 있는 곳으로, 다양한 한식 및 양식을 즐길 수 있습니다.\\n\\n4. **이태원** - 다양한 국제 요리를 찾을 수 있는 곳으로, 멕시칸, 인도, 태국 등 여러 나라의 음식을 맛볼 수 있습니다.\\n\\n5. **압구정 로데오거리** - 고급 레스토랑과 카페가 즐비한 곳으로, 퓨전 한식 및 양식이 많습니다.\\n\\n6. **삼청동** - 전통 한식을 즐길 수 있는 아늑한 한정식 집들이 많고, 예쁜 카페들도 많습니다.\\n\\n7. **홍대** - 다양한 스트리트푸드와 맛집이 있는 젊은 층에게 인기 있는 지역으로, 특히 길거리 음식이 유명합니다.\\n\\n8. **부암동** - 한옥들이 있는 분위기 좋은 동네로, 전통 찻집과 맛집이 많이 있습니다.\\n\\n이 외에도 서울에는 수많은 맛집이 있으니, 취향에 따라 여러 곳을 탐방해 보시는 것도 좋습니다!'"
      ]
     },
     "execution_count": 7,
     "metadata": {},
     "output_type": "execute_result"
    }
   ],
   "source": [
    "res.content"
   ]
  },
  {
   "cell_type": "code",
   "execution_count": null,
   "id": "72cdfd9e",
   "metadata": {},
   "outputs": [],
   "source": [
    "# template save"
   ]
  },
  {
   "cell_type": "code",
   "execution_count": 8,
   "id": "1c23f6bb",
   "metadata": {},
   "outputs": [],
   "source": [
    "template.save('restaurant_tour_prompt.json')"
   ]
  },
  {
   "cell_type": "code",
   "execution_count": 9,
   "id": "f4facc16",
   "metadata": {},
   "outputs": [
    {
     "data": {
      "text/plain": [
       "'부산에서 가장 멋진 박물관을 알려주세요'"
      ]
     },
     "execution_count": 9,
     "metadata": {},
     "output_type": "execute_result"
    }
   ],
   "source": [
    "from langchain.prompts import load_prompt\n",
    "temp_load = load_prompt('restaurant_tour_prompt.json')\n",
    "prompt = temp_load.format(city='부산', adj='가장 멋진', topic='박물관')\n",
    "prompt"
   ]
  },
  {
   "cell_type": "markdown",
   "id": "960e917d",
   "metadata": {},
   "source": [
    "# ChatPromptTemplate"
   ]
  },
  {
   "cell_type": "code",
   "execution_count": 10,
   "id": "4958c6b0",
   "metadata": {},
   "outputs": [
    {
     "data": {
      "text/plain": [
       "ChatPromptTemplate(input_variables=['place', 'question', 'travel', 'when'], input_types={}, partial_variables={}, messages=[SystemMessagePromptTemplate(prompt=PromptTemplate(input_variables=[], input_types={}, partial_variables={}, template='당신은 베테랑 여행 가이드입니다. 고객 맞춤 여행 일정 수립을 도와드립니다.'), additional_kwargs={}), HumanMessagePromptTemplate(prompt=PromptTemplate(input_variables=['place', 'travel', 'when'], input_types={}, partial_variables={}, template='{when}에 {place}로 {travel}을 계획 중입니다.'), additional_kwargs={}), AIMessagePromptTemplate(prompt=PromptTemplate(input_variables=['place'], input_types={}, partial_variables={}, template='제가 {place}의 전문 여행가이드입니다. 어떤 도움이 필요하세요?'), additional_kwargs={}), HumanMessagePromptTemplate(prompt=PromptTemplate(input_variables=['question'], input_types={}, partial_variables={}, template='{question}'), additional_kwargs={})])"
      ]
     },
     "execution_count": 10,
     "metadata": {},
     "output_type": "execute_result"
    }
   ],
   "source": [
    "from langchain.prompts import ChatPromptTemplate\n",
    "\n",
    "chat_template = ChatPromptTemplate.from_messages(\n",
    "    [\n",
    "        ('system', '당신은 베테랑 여행 가이드입니다. 고객 맞춤 여행 일정 수립을 도와드립니다.'),\n",
    "        ('human', '{when}에 {place}로 {travel}을 계획 중입니다.'),\n",
    "        ('ai', '제가 {place}의 전문 여행가이드입니다. 어떤 도움이 필요하세요?'),\n",
    "        ('human', '{question}')\n",
    "    ]\n",
    ")\n",
    "\n",
    "chat_template"
   ]
  },
  {
   "cell_type": "code",
   "execution_count": 11,
   "id": "b739aaea",
   "metadata": {},
   "outputs": [
    {
     "data": {
      "text/plain": [
       "[SystemMessage(content='당신은 베테랑 여행 가이드입니다. 고객 맞춤 여행 일정 수립을 도와드립니다.', additional_kwargs={}, response_metadata={}),\n",
       " HumanMessage(content='가을에 제주도로 자유여행을 계획 중입니다.', additional_kwargs={}, response_metadata={}),\n",
       " AIMessage(content='제가 제주도의 전문 여행가이드입니다. 어떤 도움이 필요하세요?', additional_kwargs={}, response_metadata={}),\n",
       " HumanMessage(content='흥미로운 여행지 3곳 추천해주세요', additional_kwargs={}, response_metadata={})]"
      ]
     },
     "execution_count": 11,
     "metadata": {},
     "output_type": "execute_result"
    }
   ],
   "source": [
    "final_prompt = chat_template.format_messages(when='가을', place='제주도', travel='자유여행', question='흥미로운 여행지 3곳 추천해주세요')\n",
    "final_prompt"
   ]
  },
  {
   "cell_type": "code",
   "execution_count": 12,
   "id": "e594e867",
   "metadata": {},
   "outputs": [
    {
     "data": {
      "text/plain": [
       "AIMessage(content='가을 제주는 아름다운 자연과 다양한 문화가 어우러진 멋진 여행지입니다. 다음은 추천드리는 흥미로운 여행지 3곳입니다.\\n\\n1. **한라산 국립공원**\\n   - **추천 이유**: 한라산은 제주도에서 가장 높은 산으로, 가을철에는 단풍이 아름답게 물들어 hiking을 즐기기에 최적의 장소입니다. 다양한 등산로가 있어 난이도에 맞춰 선택할 수 있으며, 정상에서는 주변의 아름다운 풍경을 감상할 수 있습니다.\\n\\n2. **성산 일출봉**\\n   - **추천 이유**: 성산 일출봉은 UNESCO 세계자연유산으로 등재된 인기 명소입니다. 화산활동으로 만들어진 성산의 독특한 형태는 드라마틱한 경관을 자랑하며, 아침 일찍 일출을 보러 가면 더욱 아름다운 풍경을 만날 수 있습니다. 가을철의 맑은 하늘과 함께한 일출은 정말 개성 있는 경험이 될 것입니다.\\n\\n3. **우도**\\n   - **추천 이유**: 제주도에서 배를 타고 약 15분 거리에 위치한 우도는 작은 섬으로, 아름다운 해변과 독특한 자연경관이 있습니다. 흑돼지와 땅콩 아이스크림 등 맛있는 음식도 즐길 수 있습니다. 자전거를 대여해 섬을 한 바퀴 도는 것도 좋은 추억이 될 것입니다.\\n\\n이 외에도 제주도의 다양한 매력을 한껏 느낄 수 있는 여행지가 많이 있으니 필요하신 추가 정보나 일정이 있으면 언제든지 말씀해 주세요!', additional_kwargs={'refusal': None}, response_metadata={'token_usage': {'completion_tokens': 366, 'prompt_tokens': 79, 'total_tokens': 445, 'completion_tokens_details': {'accepted_prediction_tokens': 0, 'audio_tokens': 0, 'reasoning_tokens': 0, 'rejected_prediction_tokens': 0}, 'prompt_tokens_details': {'audio_tokens': 0, 'cached_tokens': 0}}, 'model_name': 'gpt-4o-mini-2024-07-18', 'system_fingerprint': 'fp_8bda4d3a2c', 'id': 'chatcmpl-CDM6MfawVfiO2dBh88lPdHqiVgMnb', 'service_tier': 'default', 'finish_reason': 'stop', 'logprobs': None}, id='run--3f2af6d4-b093-46ab-8839-a9791ddc97e0-0', usage_metadata={'input_tokens': 79, 'output_tokens': 366, 'total_tokens': 445, 'input_token_details': {'audio': 0, 'cache_read': 0}, 'output_token_details': {'audio': 0, 'reasoning': 0}})"
      ]
     },
     "execution_count": 12,
     "metadata": {},
     "output_type": "execute_result"
    }
   ],
   "source": [
    "final_response = llm.invoke(final_prompt)\n",
    "final_response"
   ]
  },
  {
   "cell_type": "code",
   "execution_count": null,
   "id": "ed7c65d0",
   "metadata": {},
   "outputs": [],
   "source": []
  },
  {
   "cell_type": "code",
   "execution_count": 14,
   "id": "6ef47410",
   "metadata": {},
   "outputs": [
    {
     "data": {
      "text/plain": [
       "'당신은 동남아 베테랑 여행 가이드입니다. 고객 맞춤 여행 일정 수립을 도와드립니다.12월에 동남아로 가족여행을 계획 중입니다.'"
      ]
     },
     "execution_count": 14,
     "metadata": {},
     "output_type": "execute_result"
    }
   ],
   "source": [
    "prmpt_1 = PromptTemplate.from_template('당신은 {place} 베테랑 여행 가이드입니다. 고객 맞춤 여행 일정 수립을 도와드립니다.')\n",
    "prmpt_2 = PromptTemplate.from_template('{when}에 {place}로 {travel}을 계획 중입니다.')\n",
    "\n",
    "concat_prompt = prmpt_1 + prmpt_2\n",
    "concat_prompt.format(place='동남아',when='12월', travel='가족여행')"
   ]
  }
 ],
 "metadata": {
  "kernelspec": {
   "display_name": "prompting_env",
   "language": "python",
   "name": "python3"
  },
  "language_info": {
   "codemirror_mode": {
    "name": "ipython",
    "version": 3
   },
   "file_extension": ".py",
   "mimetype": "text/x-python",
   "name": "python",
   "nbconvert_exporter": "python",
   "pygments_lexer": "ipython3",
   "version": "3.12.11"
  }
 },
 "nbformat": 4,
 "nbformat_minor": 5
}
